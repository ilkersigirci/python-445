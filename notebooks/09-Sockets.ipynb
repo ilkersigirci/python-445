{
 "cells": [
  {
   "cell_type": "markdown",
   "metadata": {},
   "source": [
    "# Socket Programming\n",
    "\n",
    "## Sockets\n",
    "\n",
    "* Inter process and network communication among programs.\n",
    "* Sockets establish communication channels among programs. \n",
    "* Subject to network protocols.\n",
    "* A socket is constructed, defined by two basic information:\n",
    "  - **Address Family or Domain:** Protocol family of the socket.\n",
    "    `AF_UNIX, AF_INET, AF_INET6, AF_IPX, AF_BLUETOOTH`\n",
    "  - **Socket Type**: The type of socket, how data is packed, sequenced, reliability etc.\n",
    "    `SOCK_STREAM, SOCK_DGRAM, SOCK_SEQPACK, SOCK_RAW`\n",
    "* Each socket domain and type is internally handled by operating system as networking protocols.\n",
    "* Details are abstracted from user. User just use socket like a file handle, data send over the socket can be received by another node in the network.\n",
    "\n",
    "\n",
    "\n",
    "## `AF_UNIX` Family\n",
    "\n",
    "* A family without networking. Only processed within the same host/node can communicate.\n",
    "* A path on file system is used as an address. Path should be writable and when bound, a special file is created\n",
    "\n",
    "## `AF_INET` Family\n",
    "\n",
    "* Internet protocol version 4 family.\n",
    "* Socket address is a tuple of IP address and a port. An IP address is a 4 byte address. Python uses a dot separated sequence of decimal numbers as a string. i.e. '144.122.171.123'. Port is a positive integer in [1:65535]\n",
    "* `('144.122.145.146',80)` is address of departments web server.\n",
    "\n",
    "## `AF_INET6` Family\n",
    "\n",
    "* Internet protocol version 6 family.\n",
    "* Socket address is a tuple of IPv6 address and a port. An IPv6 address is a 16 bytes address. A column separated sequence of 2 bytes hexadecimal values are used (as `'2001:a98:30:cc::4:f101'`).  Port is a positive integer in [1:65535]\n",
    "\n",
    "## `SOCK_STREAM` vs `SOCK_DGRAM`\n",
    "\n",
    "* `SOCK_STREAM` is a stream sequence of bytes. The underlying protocol provides that the packets are:\n",
    "  - Ordered\n",
    "  - Reliable\n",
    "  - No duplication\n",
    "* `SOCK_DGRAM` is  a datagram based socket type. Has a packet boundary. Not a stream. Each datagram is a standalone structure. In datagram packets can:\n",
    "  - Arrive in arbitrary order to receiver\n",
    "  - be lost\n",
    "  - be duplicated, same datagram can be received multiple times.\n",
    "* In `AF_INET` **tcp** and **udp** are examples of `SOCK_STREAM` and `SOCK_DGRAM` respectively.\n",
    "* `SOCK_DGRAM` is faster by definition. Trade off between reliability and speed.\n",
    "  \n"
   ]
  },
  {
   "cell_type": "code",
   "execution_count": 3,
   "metadata": {
    "ExecuteTime": {
     "end_time": "2023-11-17T12:22:53.711822Z",
     "start_time": "2023-11-17T12:22:53.708163Z"
    }
   },
   "outputs": [
    {
     "name": "stdout",
     "output_type": "stream",
     "text": [
      "removing  /tmp/mysocket\n"
     ]
    }
   ],
   "source": [
    "# a simple unix domain datagram communication in a thread\n",
    "from socket import *\n",
    "from threading import Thread\n",
    "import os,stat\n",
    "\n",
    "def cleansocketfile(path):\n",
    "    '''Test if the path is a socket file and clean it'''\n",
    "    try:\n",
    "        st = os.stat(path)\n",
    "        if st and stat.S_ISSOCK(st.st_mode):\n",
    "            print(\"removing \",path)\n",
    "            os.unlink(path)\n",
    "            return True\n",
    "        else:\n",
    "            return False\n",
    "    except:\n",
    "        return False\n",
    "    return False\n",
    "\n",
    "def readandprintone():\n",
    "    # create a socket, which is not bound yet\n",
    "    s = socket(AF_UNIX, SOCK_DGRAM)\n",
    "    \n",
    "    # bind an adress to it. \n",
    "    cleansocketfile(\"/tmp/mysocket\")\n",
    "    s.bind(\"/tmp/mysocket\")\n",
    "    \n",
    "    res = s.recv(1000)  \n",
    "    print('i am server',res)\n",
    "    s.close()\n",
    "    \n",
    "t=Thread(target=readandprintone, args=())\n",
    "t.start()"
   ]
  },
  {
   "cell_type": "code",
   "execution_count": 4,
   "metadata": {
    "ExecuteTime": {
     "end_time": "2023-11-17T12:22:54.141390Z",
     "start_time": "2023-11-17T12:22:54.137780Z"
    },
    "scrolled": true
   },
   "outputs": [
    {
     "name": "stdout",
     "output_type": "stream",
     "text": [
      "i am server b'hello'\n"
     ]
    },
    {
     "data": {
      "text/plain": [
       "5"
      ]
     },
     "execution_count": 4,
     "metadata": {},
     "output_type": "execute_result"
    }
   ],
   "source": [
    "c = socket(AF_UNIX, SOCK_DGRAM)\n",
    "c.sendto(b'hello',\"/tmp/mysocket\")"
   ]
  },
  {
   "cell_type": "code",
   "execution_count": 38,
   "metadata": {},
   "outputs": [
    {
     "name": "stdout",
     "output_type": "stream",
     "text": [
      "(b'hello how are you', ('127.0.0.1', 51750))\n"
     ]
    }
   ],
   "source": [
    "# same example in INET domain\n",
    "def readandprintone():\n",
    "    # create a socket, which is not bound yet\n",
    "    s = socket(AF_INET, SOCK_DGRAM)\n",
    "\n",
    "    # bind an adress to it. \n",
    "\n",
    "    s.bind(('0.0.0.0', 10447))\n",
    "\n",
    "    res = s.recvfrom(1000) \n",
    "    print(res)\n",
    "    s.close()\n",
    "\n",
    "t=Thread(target=readandprintone, args=())\n",
    "t.start()\n",
    "\n",
    "c = socket(AF_INET, SOCK_DGRAM)\n",
    "c.sendto(b'hello how are you', ('127.0.0.1', 10447))\n",
    "c.close()"
   ]
  },
  {
   "cell_type": "markdown",
   "metadata": {},
   "source": [
    "# Datagram Communication\n",
    "\n",
    "|     | Server | Client |\n",
    "|-----|--------|--------|\n",
    "| **Request** | create a socket `s`,<br/>bind it to address `p`,<br/>`recvfrom()` on `s`,<br/>`recvfrom` returns  `(reqbody, peeraddr)` | create a socket `c`,<br/>`sendto()` request to `p`<br/> |\n",
    "|**Response** |get `peeraddr`<br\\>`sendto(response, peeraddr)`|`recv()` on `c`|\n",
    "\n",
    "* No stream channel as established connection\n",
    "* All communication is through single shot messages in datagrams."
   ]
  },
  {
   "cell_type": "code",
   "execution_count": 5,
   "metadata": {
    "ExecuteTime": {
     "end_time": "2023-11-17T12:25:08.269961Z",
     "start_time": "2023-11-17T12:25:08.265583Z"
    }
   },
   "outputs": [
    {
     "name": "stdout",
     "output_type": "stream",
     "text": [
      "request b'hello'  from  ('127.0.0.1', 57473)\n",
      "Result: b'HELLO'\n",
      "request b'hello'  from  ('127.0.0.1', 33726)\n",
      "Result: b'HELLO'\n",
      "request b'hello'  from  ('127.0.0.1', 40433)\n",
      "Result: b'HELLO'\n",
      "request b'hello'  from  ('127.0.0.1', 43029)\n",
      "Result: b'HELLO'\n",
      "request b'hello'  from  ('127.0.0.1', 47408)\n",
      "Result: b'HELLO'\n"
     ]
    }
   ],
   "source": [
    "# A typical datagram service loop and clients\n",
    "import time, random\n",
    "\n",
    "def echoservice(n,port):\n",
    "    ''' n times read a request and echo uppercase back'''\n",
    "    s = socket(AF_INET, SOCK_DGRAM)\n",
    "    s.bind(('', port))\n",
    "    \n",
    "    for i in range(n):\n",
    "        req, peer = s.recvfrom(10000)\n",
    "        print(\"request\",req, \" from \", peer)\n",
    "        s.sendto(req.decode().upper().encode(), peer)\n",
    "    s.close()\n",
    "\n",
    "def client(port):\n",
    "    c = socket(AF_INET, SOCK_DGRAM)\n",
    "    time.sleep(random.random()*2)\n",
    "    c.sendto(b'hello', ('127.0.0.1', port))\n",
    "    result = c.recv(1000)\n",
    "    print(\"Result:\" , result)\n",
    "\n",
    "# create a server\n",
    "serv = Thread(target=echoservice, args=(5,20445))\n",
    "# create 5 clients\n",
    "clients = [Thread(target = client, args=(20445,)) for i in range(5)]\n",
    "serv.start()\n",
    "for cl in clients: cl.start()\n",
    "    "
   ]
  },
  {
   "cell_type": "markdown",
   "metadata": {},
   "source": [
    "# Stream type and establishing a connection\n",
    "\n",
    "* DGRAM is connectionless\n",
    "* Streams are used for longer term reliable connections\n",
    "* A stream is a bidirectional channel among the peers\n",
    "\n",
    "**Server:**\n",
    "* create socket `s=socket(..., SOCK_STREAM)`\n",
    "* bind it    `s.bind(...)`\n",
    "* listen to it `s.listen(queuesize)`\n",
    "* per connection request a loop\n",
    "  ```python\n",
    "  while True:\n",
    "     ns, peer = s.accept()\n",
    "     # now we have a different socket object for each new channel\n",
    "     # serve ns on a concurrent thread/process\n",
    "     # ready to accept new connection\n",
    "  ```\n",
    "  \n",
    "**Client:**\n",
    "* create a socket\n",
    "* connect to server address\n",
    "  \n",
    "  "
   ]
  },
  {
   "cell_type": "code",
   "execution_count": 7,
   "metadata": {
    "ExecuteTime": {
     "end_time": "2023-11-21T10:52:00.067828Z",
     "start_time": "2023-11-21T10:51:59.892115Z"
    }
   },
   "outputs": [
    {
     "name": "stdout",
     "output_type": "stream",
     "text": [
      "('127.0.0.1', 40196) connected\n",
      "('127.0.0.1', 40200) connected\n",
      "('127.0.0.1', 40206) connected\n",
      "('127.0.0.1', 40214) connected\n",
      "('127.0.0.1', 40224) connected\n",
      "('127.0.0.1', 40206) b'WHY NOT?'\n",
      "('127.0.0.1', 40196) b'YES'\n",
      "('127.0.0.1', 40214) b'BYE'\n",
      "('127.0.0.1', 40214) b'HELLO'\n",
      "('127.0.0.1', 40200) b'ARE YOU SURE'\n",
      "('127.0.0.1', 40206) b'MAYBE'\n",
      "('127.0.0.1', 40214) b'WHY'\n",
      "('127.0.0.1', 40196) b'BYE'\n",
      "('127.0.0.1', 40224) b'NO'\n",
      "('127.0.0.1', 40214) b'ARE YOU SURE'\n",
      "('127.0.0.1', 40200) b'WHY NOT?'\n",
      "('127.0.0.1', 40200) b'WHY'\n",
      "('127.0.0.1', 40200) b'YES'\n",
      "('127.0.0.1', 40224) b'WHY NOT?'\n",
      "('127.0.0.1', 40206) b'WHY NOT?'\n",
      "('127.0.0.1', 40214) b'WHY'\n",
      "('127.0.0.1', 40214)  closing\n",
      "('127.0.0.1', 40196) b'NO'\n",
      "('127.0.0.1', 40200) b'MAYBE'\n",
      "('127.0.0.1', 40200)  closing\n",
      "('127.0.0.1', 40206) b'NO'\n",
      "('127.0.0.1', 40206) b'MAYBE'\n",
      "('127.0.0.1', 40206)  closing\n",
      "('127.0.0.1', 40224) b'YES'\n",
      "('127.0.0.1', 40224) b'YES'\n",
      "('127.0.0.1', 40224) b'YES'\n",
      "('127.0.0.1', 40224)  closing\n",
      "('127.0.0.1', 40196) b'HELLO'\n",
      "('127.0.0.1', 40196) b'HELLO'\n",
      "('127.0.0.1', 40196)  closing\n"
     ]
    }
   ],
   "source": [
    "# A thread per connection stream service and clients\n",
    "import time\n",
    "import random\n",
    "\n",
    "def echoservice(sock):\n",
    "    ''' echo uppercase string back in a loop'''\n",
    "    req = sock.recv(1000)\n",
    "    while req and req != '':\n",
    "        # remove trailing newline and blanks\n",
    "        req = req.rstrip()\n",
    "        sock.send(req.decode().upper().encode())\n",
    "        req = sock.recv(1000)\n",
    "    print(sock.getpeername(), ' closing')\n",
    "\n",
    "def client(n, port):\n",
    "    # send n random request\n",
    "    # the connection is kept alive until client closes it.\n",
    "    mess = ['hello', 'bye', 'why', 'yes', 'no', 'maybe', 'are you sure', 'why not?']\n",
    "    c = socket(AF_INET, SOCK_STREAM)\n",
    "    c.connect(('127.0.0.1', port))\n",
    "    for i in range(n):\n",
    "        time.sleep(random.random()*3)\n",
    "        c.send(random.choice(mess).encode())\n",
    "        reply = c.recv(1024)\n",
    "        print(c.getsockname(), reply)\n",
    "    c.close()\n",
    "        \n",
    "def server(port):\n",
    "    s = socket(AF_INET, SOCK_STREAM)\n",
    "    s.bind(('',port))\n",
    "    s.listen(1)    # 1 is queue size for \"not yet accept()'ed connections\"\n",
    "    try:\n",
    "        #while True:\n",
    "        for i in range(5):    # just limit # of accepts for Thread to exit\n",
    "            ns, peer = s.accept()\n",
    "            print(peer, \"connected\")\n",
    "            # create a thread with new socket\n",
    "            t = Thread(target = echoservice, args=(ns,))\n",
    "            t.start()\n",
    "            # now main thread ready to accept next connection\n",
    "    finally:\n",
    "        s.close()\n",
    "        \n",
    "    \n",
    "\n",
    "server = Thread(target=server, args=(20445,))\n",
    "server.start()\n",
    "# create 5 clients\n",
    "clients = [Thread(target = client, args=(5, 20445)) for i in range(5)]\n",
    "# start clients\n",
    "for cl in clients: cl.start()\n",
    "    "
   ]
  },
  {
   "cell_type": "code",
   "execution_count": null,
   "metadata": {},
   "outputs": [],
   "source": []
  }
 ],
 "metadata": {
  "kernelspec": {
   "display_name": "Python 3 (ipykernel)",
   "language": "python",
   "name": "python3"
  },
  "language_info": {
   "codemirror_mode": {
    "name": "ipython",
    "version": 3
   },
   "file_extension": ".py",
   "mimetype": "text/x-python",
   "name": "python",
   "nbconvert_exporter": "python",
   "pygments_lexer": "ipython3",
   "version": "3.11.2"
  },
  "toc": {
   "base_numbering": 1,
   "nav_menu": {},
   "number_sections": true,
   "sideBar": true,
   "skip_h1_title": false,
   "title_cell": "Table of Contents",
   "title_sidebar": "Contents",
   "toc_cell": false,
   "toc_position": {},
   "toc_section_display": "block",
   "toc_window_display": false
  }
 },
 "nbformat": 4,
 "nbformat_minor": 2
}
