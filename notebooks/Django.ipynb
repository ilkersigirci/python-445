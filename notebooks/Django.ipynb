{
 "cells": [
  {
   "cell_type": "markdown",
   "metadata": {},
   "source": [
    "# Django\n",
    "\n",
    "## Create a project (application container)\n",
    "\n",
    "* Creates a directory with same name\n",
    "* A `manage.py` utility to manage project\n",
    "* a directory containing\n",
    "  - `settings.py` to setup applications\n",
    "  - `urls.py` to setup URL to application/function mapping\n",
    "  - `wsgi.py` WSGI interpreter to use in Apache or other web servers"
   ]
  },
  {
   "cell_type": "code",
   "execution_count": 6,
   "metadata": {},
   "outputs": [
    {
     "name": "stderr",
     "output_type": "stream",
     "text": [
      "CommandError: '/home/d2017' already exists\n"
     ]
    }
   ],
   "source": [
    "%%sh\n",
    "django-admin startproject d2017\n",
    "    "
   ]
  },
  {
   "cell_type": "code",
   "execution_count": 2,
   "metadata": {},
   "outputs": [
    {
     "name": "stdout",
     "output_type": "stream",
     "text": [
      "/home/d2017\n"
     ]
    }
   ],
   "source": [
    "%cd d2017"
   ]
  },
  {
   "cell_type": "markdown",
   "metadata": {},
   "source": [
    "## Create an application\n",
    "\n",
    "Use `manage.py` to create your application. `manage.py startapp applicationname`\n",
    "\n",
    "This will create application directory and put necessary files in it:\n",
    " * `models.py` Model descriptions for ORM database mapping\n",
    " * `views.py` Controller functions (functions to call on URL requests)\n",
    " * `admin.py` For administration of application\n",
    " * `apps.py` Application configuration\n",
    " * `tests.py` Test cases and unit testing\n",
    " "
   ]
  },
  {
   "cell_type": "code",
   "execution_count": 4,
   "metadata": {},
   "outputs": [
    {
     "data": {
      "text/plain": [
       "[\"CommandError: 'student' conflicts with the name of an existing Python module and cannot be used as an app name. Please try another name.\"]"
      ]
     },
     "execution_count": 4,
     "metadata": {},
     "output_type": "execute_result"
    }
   ],
   "source": [
    "%%! \n",
    "python3 manage.py startapp student"
   ]
  },
  {
   "cell_type": "markdown",
   "metadata": {},
   "source": [
    "## Update Model\n",
    "\n",
    "Update `models.py` for your data if there is any."
   ]
  },
  {
   "cell_type": "markdown",
   "metadata": {},
   "source": [
    "## Create database\n",
    "\n",
    "`models.py`  contain the application data. In the first time and each time `models.py` is modified, call `makemigrations` and `migrate` to update database.\n",
    "\n",
    "Depending on the database back end choosen in `settings.py` it will create/update the tables. Default backend is *sqlite3*."
   ]
  },
  {
   "cell_type": "code",
   "execution_count": 10,
   "metadata": {},
   "outputs": [
    {
     "data": {
      "text/plain": [
       "['No changes detected',\n",
       " 'Operations to perform:',\n",
       " '  Apply all migrations: admin, auth, contenttypes, sessions, student',\n",
       " 'Running migrations:',\n",
       " '  No migrations to apply.']"
      ]
     },
     "execution_count": 10,
     "metadata": {},
     "output_type": "execute_result"
    }
   ],
   "source": [
    "%%!\n",
    "\n",
    "python3 ./manage.py makemigrations\n",
    "python3 ./manage.py migrate\n"
   ]
  },
  {
   "cell_type": "markdown",
   "metadata": {},
   "source": [
    "## Update url.py and views.py\n",
    "\n",
    "Add your views as a function:\n",
    "```python\n",
    "from django.http import HttpResponse\n",
    "\n",
    "# Create your views here.\n",
    "\n",
    "def index(request):\n",
    "    return HttpResponse(\"Hello, world.\")\n",
    "```\n",
    "\n",
    "In `urls.py` add an include statement\n",
    " url(r'^/student/', include('student.urls'))"
   ]
  },
  {
   "cell_type": "markdown",
   "metadata": {},
   "source": [
    "## Start Server\n",
    "\n",
    "`manage.py` runserver will start the server"
   ]
  },
  {
   "cell_type": "code",
   "execution_count": 1,
   "metadata": {
    "ExecuteTime": {
     "end_time": "2019-12-05T08:15:24.602016Z",
     "start_time": "2019-12-05T08:15:24.440428Z"
    }
   },
   "outputs": [
    {
     "data": {
      "text/plain": [
       "[\"python3: can't open file './manage.py': [Errno 2] No such file or directory\"]"
      ]
     },
     "execution_count": 1,
     "metadata": {},
     "output_type": "execute_result"
    }
   ],
   "source": [
    "%%!\n",
    "# following blocks Jupyter, stop kernel\n",
    "python3 ./manage.py runserver"
   ]
  },
  {
   "cell_type": "markdown",
   "metadata": {},
   "source": [
    "http://localhost:8000/student  will give \"Hello world\" in the view"
   ]
  },
  {
   "cell_type": "code",
   "execution_count": 2,
   "metadata": {
    "ExecuteTime": {
     "end_time": "2019-12-05T08:15:42.016444Z",
     "start_time": "2019-12-05T08:15:41.955988Z"
    }
   },
   "outputs": [
    {
     "data": {
      "text/plain": [
       "[\"python3: can't open file './manage.py': [Errno 2] No such file or directory\"]"
      ]
     },
     "execution_count": 2,
     "metadata": {},
     "output_type": "execute_result"
    }
   ],
   "source": [
    "%%!\n",
    "python3 ./manage.py sqlmigrate student 0001"
   ]
  },
  {
   "cell_type": "code",
   "execution_count": null,
   "metadata": {},
   "outputs": [],
   "source": []
  }
 ],
 "metadata": {
  "kernelspec": {
   "display_name": "Python 3 (ipykernel)",
   "language": "python",
   "name": "python3"
  },
  "language_info": {
   "codemirror_mode": {
    "name": "ipython",
    "version": 3
   },
   "file_extension": ".py",
   "mimetype": "text/x-python",
   "name": "python",
   "nbconvert_exporter": "python",
   "pygments_lexer": "ipython3",
   "version": "3.11.4"
  },
  "toc": {
   "nav_menu": {},
   "number_sections": true,
   "sideBar": true,
   "skip_h1_title": false,
   "toc_cell": false,
   "toc_position": {},
   "toc_section_display": "block",
   "toc_window_display": false
  }
 },
 "nbformat": 4,
 "nbformat_minor": 2
}
