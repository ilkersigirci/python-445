{
 "cells": [
  {
   "cell_type": "markdown",
   "metadata": {},
   "source": [
    "# Design patterns\n",
    "\n",
    "## Singleton\n"
   ]
  },
  {
   "cell_type": "code",
   "execution_count": 12,
   "metadata": {
    "ExecuteTime": {
     "end_time": "2023-10-24T12:29:04.278190Z",
     "start_time": "2023-10-24T12:29:04.266351Z"
    }
   },
   "outputs": [],
   "source": [
    "class Singleton:\n",
    "    def __new__(cls,*a, **b):\n",
    "        if hasattr(cls,'_inst'):\n",
    "            return cls._inst\n",
    "        else:\n",
    "            cls._inst=super().__new__(cls,*a,**b)\n",
    "            return cls._inst\n",
    "\n",
    "class Counter(Singleton):\n",
    "    def __init__(self):\n",
    "        if not hasattr(self,'val'):\n",
    "            self.val = 0\n",
    "    def get(self):\n",
    "        return self.val\n",
    "    def incr(self):\n",
    "        self.val +=1\n",
    "        \n",
    "class Student(Singleton):\n",
    "    pass\n",
    "            "
   ]
  },
  {
   "cell_type": "code",
   "execution_count": 14,
   "metadata": {
    "ExecuteTime": {
     "end_time": "2023-10-24T12:29:21.670320Z",
     "start_time": "2023-10-24T12:29:21.660066Z"
    }
   },
   "outputs": [
    {
     "data": {
      "text/plain": [
       "['__class__',\n",
       " '__delattr__',\n",
       " '__dict__',\n",
       " '__dir__',\n",
       " '__doc__',\n",
       " '__eq__',\n",
       " '__format__',\n",
       " '__ge__',\n",
       " '__getattribute__',\n",
       " '__getstate__',\n",
       " '__gt__',\n",
       " '__hash__',\n",
       " '__init__',\n",
       " '__init_subclass__',\n",
       " '__le__',\n",
       " '__lt__',\n",
       " '__module__',\n",
       " '__ne__',\n",
       " '__new__',\n",
       " '__reduce__',\n",
       " '__reduce_ex__',\n",
       " '__repr__',\n",
       " '__setattr__',\n",
       " '__sizeof__',\n",
       " '__str__',\n",
       " '__subclasshook__',\n",
       " '__weakref__',\n",
       " '_inst']"
      ]
     },
     "execution_count": 14,
     "metadata": {},
     "output_type": "execute_result"
    }
   ],
   "source": [
    "Student()\n",
    "dir(Student)"
   ]
  },
  {
   "cell_type": "code",
   "execution_count": 11,
   "metadata": {
    "ExecuteTime": {
     "end_time": "2023-10-24T12:28:09.461784Z",
     "start_time": "2023-10-24T12:28:09.452611Z"
    }
   },
   "outputs": [
    {
     "data": {
      "text/plain": [
       "17"
      ]
     },
     "execution_count": 11,
     "metadata": {},
     "output_type": "execute_result"
    }
   ],
   "source": [
    "\n",
    "Counter().incr()\n",
    "Counter().get()"
   ]
  },
  {
   "cell_type": "code",
   "execution_count": 8,
   "metadata": {
    "ExecuteTime": {
     "start_time": "2017-11-11T10:34:45.473Z"
    }
   },
   "outputs": [
    {
     "name": "stdout",
     "output_type": "stream",
     "text": [
      "['__class__', '__delattr__', '__dict__', '__dir__', '__doc__', '__eq__', '__format__', '__ge__', '__getattribute__', '__gt__', '__hash__', '__init__', '__init_subclass__', '__le__', '__lt__', '__module__', '__ne__', '__new__', '__reduce__', '__reduce_ex__', '__repr__', '__setattr__', '__sizeof__', '__str__', '__subclasshook__', '__weakref__', 'get', 'incr']\n",
      "['__class__', '__delattr__', '__dict__', '__dir__', '__doc__', '__eq__', '__format__', '__ge__', '__getattribute__', '__gt__', '__hash__', '__init__', '__init_subclass__', '__le__', '__lt__', '__module__', '__ne__', '__new__', '__reduce__', '__reduce_ex__', '__repr__', '__setattr__', '__sizeof__', '__str__', '__subclasshook__', '__weakref__', '_inst', 'get', 'incr']\n"
     ]
    }
   ],
   "source": [
    "print(dir(Counter))\n",
    "#print(dir(Counter[_inst]))\n",
    "a=Counter()\n",
    "print(dir(Counter))\n"
   ]
  },
  {
   "cell_type": "code",
   "execution_count": 9,
   "metadata": {},
   "outputs": [
    {
     "name": "stdout",
     "output_type": "stream",
     "text": [
      "<__main__.Counter object at 0x7f3bb0986a30>\n",
      "<__main__.Counter object at 0x7f3bb0986a30> <__main__.Counter object at 0x7f3bb0986a30>\n",
      "3 3 3\n"
     ]
    },
    {
     "data": {
      "text/plain": [
       "4"
      ]
     },
     "execution_count": 9,
     "metadata": {},
     "output_type": "execute_result"
    }
   ],
   "source": [
    "print(Counter._inst)\n",
    "b=Counter()\n",
    "a.incr()\n",
    "b.incr()\n",
    "\n",
    "c=Counter()\n",
    "c.incr()\n",
    "print(b,c)\n",
    "print(a.get(),b.get(),c.get())\n",
    "Counter().incr()\n",
    "Counter().get()"
   ]
  },
  {
   "cell_type": "code",
   "execution_count": 18,
   "metadata": {
    "ExecuteTime": {
     "end_time": "2023-10-31T10:50:56.633332Z",
     "start_time": "2023-10-31T10:50:56.626277Z"
    }
   },
   "outputs": [
    {
     "name": "stdout",
     "output_type": "stream",
     "text": [
      "{}\n",
      "{<class '__main__.Config'>: <__main__.Config object at 0x7fdbbf831e10>}\n",
      "onur\n",
      "{<class '__main__.Config'>: <__main__.Config object at 0x7fdbbf831e10>}\n",
      "{<class '__main__.Config'>: <__main__.Config object at 0x7fdbbf831e10>}\n",
      "{<class '__main__.Config'>: <__main__.Config object at 0x7fdbbf831e10>}\n"
     ]
    },
    {
     "data": {
      "text/plain": [
       "{'username': 'onur',\n",
       " 'filename': '445.txt',\n",
       " 'database': 'mysql://localhost/ceng445'}"
      ]
     },
     "execution_count": 18,
     "metadata": {},
     "output_type": "execute_result"
    }
   ],
   "source": [
    "def Singleton(cls,*p,**kw):\n",
    "\t'''generic python decorator to make any class\n",
    "\tsingleton.'''\n",
    "\t_instances = {}\t  # keep classname vs. instance\n",
    "\tdef getinstance(*p,**kw):\n",
    "\t\t'''if cls is not in _instances create it\n",
    "\t\tand store. return the stored instance'''\n",
    "\t\tprint(_instances)\n",
    "\t\tif cls not in _instances:\n",
    "\t\t\t_instances[cls] = cls(*p,**kw)\n",
    "\t\treturn _instances[cls]\n",
    "\treturn getinstance\n",
    "\n",
    "\n",
    "@Singleton\n",
    "class Config:\n",
    "    def __init__(self):\n",
    "        self.vals = {}\n",
    "    def __setitem__(self,k,v):\n",
    "        self.vals[k]=v\n",
    "    def __getitem__(self,k):\n",
    "        return self.vals[k]\n",
    "    \n",
    "    \n",
    "a=Config()\n",
    "a['username']='onur'\n",
    "b=Config()\n",
    "print(b['username'])\n",
    "Config()['filename']='445.txt'\n",
    "Config()['database']='mysql://localhost/ceng445'\n",
    "Config().vals"
   ]
  },
  {
   "cell_type": "code",
   "execution_count": 19,
   "metadata": {
    "ExecuteTime": {
     "end_time": "2023-10-31T10:53:06.315558Z",
     "start_time": "2023-10-31T10:53:06.310848Z"
    }
   },
   "outputs": [],
   "source": [
    "@Singleton\n",
    "class Counter:\n",
    "    def __init__(self, v = 0):\n",
    "        self.v = v\n",
    "    def incr(self):\n",
    "        self.v += 1\n",
    "    def get(self):\n",
    "        return self.v"
   ]
  },
  {
   "cell_type": "code",
   "execution_count": 20,
   "metadata": {
    "ExecuteTime": {
     "end_time": "2023-10-31T10:53:46.593734Z",
     "start_time": "2023-10-31T10:53:46.588795Z"
    },
    "collapsed": true
   },
   "outputs": [
    {
     "name": "stdout",
     "output_type": "stream",
     "text": [
      "{}\n",
      "{<class '__main__.Counter'>: <__main__.Counter object at 0x7fdbbf8272d0>}\n",
      "{<class '__main__.Counter'>: <__main__.Counter object at 0x7fdbbf8272d0>}\n",
      "3\n",
      "{<class '__main__.Counter'>: <__main__.Counter object at 0x7fdbbf8272d0>}\n",
      "3\n"
     ]
    }
   ],
   "source": [
    "Counter().incr()\n",
    "Counter().incr()\n",
    "a = Counter()\n",
    "a.incr()\n",
    "print(a.get())\n",
    "print(Counter().get())"
   ]
  },
  {
   "cell_type": "markdown",
   "metadata": {},
   "source": [
    "## Observer\n"
   ]
  },
  {
   "cell_type": "code",
   "execution_count": 21,
   "metadata": {
    "ExecuteTime": {
     "end_time": "2023-10-31T11:49:24.350431Z",
     "start_time": "2023-10-31T11:49:24.345802Z"
    }
   },
   "outputs": [],
   "source": [
    "class OSubject:\n",
    "    def __init__(self):\n",
    "        self.observers = []\n",
    "    def register(self,obs):\n",
    "        self.observers.append(obs)\n",
    "    def unregister(self,obs):\n",
    "        self.observers.remove(obs)\n",
    "    def notify(self):\n",
    "        for obs in self.observers:\n",
    "            obs.update()\n",
    "\n",
    "class Clock(OSubject):\n",
    "    def __init__(self):\n",
    "        self.value = 0\n",
    "        super().__init__()\n",
    "    def get(self):\n",
    "        return self.value\n",
    "    def tick(self):\n",
    "        self.value +=1\n",
    "        self.notify()\n",
    "        \n",
    "class Person:\n",
    "    def __init__(self,name,clock):\n",
    "        self.name = name\n",
    "        self.clock = clock\n",
    "        clock.register(self)\n",
    "        \n",
    "    def update(self):\n",
    "        print('Updated:',self.name, self.clock.get())\n",
    "        \n",
    "        "
   ]
  },
  {
   "cell_type": "code",
   "execution_count": 22,
   "metadata": {
    "ExecuteTime": {
     "end_time": "2023-10-31T11:49:29.517530Z",
     "start_time": "2023-10-31T11:49:29.513234Z"
    }
   },
   "outputs": [],
   "source": [
    "c=Clock()\n",
    "\n",
    "p1=Person('ali',c)\n",
    "p2=Person('veli',c)"
   ]
  },
  {
   "cell_type": "code",
   "execution_count": 23,
   "metadata": {
    "ExecuteTime": {
     "end_time": "2023-10-31T11:50:12.246276Z",
     "start_time": "2023-10-31T11:50:12.238971Z"
    }
   },
   "outputs": [
    {
     "name": "stdout",
     "output_type": "stream",
     "text": [
      "[<__main__.Person object at 0x7fdbbf83fb10>, <__main__.Person object at 0x7fdbbf83c090>]\n"
     ]
    }
   ],
   "source": [
    "\n",
    "print(c.observers)"
   ]
  },
  {
   "cell_type": "code",
   "execution_count": 32,
   "metadata": {
    "ExecuteTime": {
     "end_time": "2023-10-31T11:50:25.718815Z",
     "start_time": "2023-10-31T11:50:25.712026Z"
    }
   },
   "outputs": [
    {
     "name": "stdout",
     "output_type": "stream",
     "text": [
      "Updated: ali 9\n",
      "Updated: veli 9\n"
     ]
    }
   ],
   "source": [
    "c.tick()\n"
   ]
  },
  {
   "cell_type": "code",
   "execution_count": 33,
   "metadata": {
    "ExecuteTime": {
     "end_time": "2023-10-31T11:50:29.889082Z",
     "start_time": "2023-10-31T11:50:29.882859Z"
    }
   },
   "outputs": [],
   "source": [
    "c.unregister(p2)"
   ]
  },
  {
   "cell_type": "code",
   "execution_count": 37,
   "metadata": {
    "ExecuteTime": {
     "end_time": "2023-10-31T11:50:34.908738Z",
     "start_time": "2023-10-31T11:50:34.901537Z"
    }
   },
   "outputs": [
    {
     "name": "stdout",
     "output_type": "stream",
     "text": [
      "Updated: ali 13\n"
     ]
    }
   ],
   "source": [
    "c.tick()"
   ]
  },
  {
   "cell_type": "code",
   "execution_count": 38,
   "metadata": {
    "ExecuteTime": {
     "end_time": "2023-10-31T11:51:57.311100Z",
     "start_time": "2023-10-31T11:51:57.303958Z"
    }
   },
   "outputs": [],
   "source": [
    "#! /usr/bin/python\n",
    "\n",
    "class OSubj(object):\n",
    "\t_observers = []\n",
    "\tdef register(self,obs):\n",
    "\t\tself._observers.append(obs)\n",
    "\tdef unregister(self,obs):\n",
    "\t\ttry:\n",
    "\t\t\tself._observers.remove(obs)\n",
    "\t\texcept:\n",
    "\t\t\tprint(\"not an observer\")\n",
    "\t\t\tpass\n",
    "\tdef notify(self):\n",
    "\t\tfor o in self._observers:\n",
    "\t\t\to.update(self)\n",
    "\tdef state(self):\n",
    "\t\tpass\n",
    "\n",
    "class Observer(object):\n",
    "\tdef update(self,subj):\n",
    "\t\tpass\n",
    "\t\n",
    "\n",
    "\n",
    "class Copy(OSubj):\n",
    "\tdef copy(self,dest,source):\n",
    "\t\tself.csize = 0\n",
    "\t\tself.dest = dest\n",
    "\t\tself.source = source\n",
    "\t\tself.notify()\n",
    "\t\ts=open(source,'rb')\n",
    "\t\td=open(dest,'wb')\n",
    "\n",
    "\t\tbuf=s.read(1024)\n",
    "\t\twhile buf:\n",
    "\t\t\td.write(buf)\n",
    "\t\t\tself.csize += len(buf)\n",
    "\t\t\tself.notify()\n",
    "\t\t\tbuf=s.read(1024)\n",
    "\t\ts.close()\n",
    "\t\td.close()\n",
    "\t\tself.dest = '-'\n",
    "\t\tself.source = '-'\n",
    "\t\tself.csize = 0\n",
    "\tdef state(self):\n",
    "\t\treturn (self.source,self.dest,self.csize)\n",
    "\t\t\n",
    "\t\t\n",
    "class CopyObs(Observer):\n",
    "\tdef update(self,subj):\n",
    "\t\tprint( 'Copying %s to %s : %10d bytes copied' % \\\n",
    "\t\t\tsubj.state())\n"
   ]
  },
  {
   "cell_type": "code",
   "execution_count": 39,
   "metadata": {
    "ExecuteTime": {
     "end_time": "2023-10-31T11:51:59.659708Z",
     "start_time": "2023-10-31T11:51:59.655360Z"
    }
   },
   "outputs": [],
   "source": [
    "copier = Copy()\n",
    "\n",
    "a = CopyObs()\n"
   ]
  },
  {
   "cell_type": "code",
   "execution_count": 40,
   "metadata": {
    "ExecuteTime": {
     "end_time": "2023-10-31T11:52:04.823082Z",
     "start_time": "2023-10-31T11:52:04.817075Z"
    }
   },
   "outputs": [],
   "source": [
    "copier.register(a)"
   ]
  },
  {
   "cell_type": "code",
   "execution_count": 41,
   "metadata": {
    "ExecuteTime": {
     "end_time": "2023-10-31T11:52:13.657744Z",
     "start_time": "2023-10-31T11:52:13.644233Z"
    }
   },
   "outputs": [
    {
     "name": "stdout",
     "output_type": "stream",
     "text": [
      "Copying /bin/ls to /tmp/ls :          0 bytes copied\n",
      "Copying /bin/ls to /tmp/ls :       1024 bytes copied\n",
      "Copying /bin/ls to /tmp/ls :       2048 bytes copied\n",
      "Copying /bin/ls to /tmp/ls :       3072 bytes copied\n",
      "Copying /bin/ls to /tmp/ls :       4096 bytes copied\n",
      "Copying /bin/ls to /tmp/ls :       5120 bytes copied\n",
      "Copying /bin/ls to /tmp/ls :       6144 bytes copied\n",
      "Copying /bin/ls to /tmp/ls :       7168 bytes copied\n",
      "Copying /bin/ls to /tmp/ls :       8192 bytes copied\n",
      "Copying /bin/ls to /tmp/ls :       9216 bytes copied\n",
      "Copying /bin/ls to /tmp/ls :      10240 bytes copied\n",
      "Copying /bin/ls to /tmp/ls :      11264 bytes copied\n",
      "Copying /bin/ls to /tmp/ls :      12288 bytes copied\n",
      "Copying /bin/ls to /tmp/ls :      13312 bytes copied\n",
      "Copying /bin/ls to /tmp/ls :      14336 bytes copied\n",
      "Copying /bin/ls to /tmp/ls :      15360 bytes copied\n",
      "Copying /bin/ls to /tmp/ls :      16384 bytes copied\n",
      "Copying /bin/ls to /tmp/ls :      17408 bytes copied\n",
      "Copying /bin/ls to /tmp/ls :      18432 bytes copied\n",
      "Copying /bin/ls to /tmp/ls :      19456 bytes copied\n",
      "Copying /bin/ls to /tmp/ls :      20480 bytes copied\n",
      "Copying /bin/ls to /tmp/ls :      21504 bytes copied\n",
      "Copying /bin/ls to /tmp/ls :      22528 bytes copied\n",
      "Copying /bin/ls to /tmp/ls :      23552 bytes copied\n",
      "Copying /bin/ls to /tmp/ls :      24576 bytes copied\n",
      "Copying /bin/ls to /tmp/ls :      25600 bytes copied\n",
      "Copying /bin/ls to /tmp/ls :      26624 bytes copied\n",
      "Copying /bin/ls to /tmp/ls :      27648 bytes copied\n",
      "Copying /bin/ls to /tmp/ls :      28672 bytes copied\n",
      "Copying /bin/ls to /tmp/ls :      29696 bytes copied\n",
      "Copying /bin/ls to /tmp/ls :      30720 bytes copied\n",
      "Copying /bin/ls to /tmp/ls :      31744 bytes copied\n",
      "Copying /bin/ls to /tmp/ls :      32768 bytes copied\n",
      "Copying /bin/ls to /tmp/ls :      33792 bytes copied\n",
      "Copying /bin/ls to /tmp/ls :      34816 bytes copied\n",
      "Copying /bin/ls to /tmp/ls :      35840 bytes copied\n",
      "Copying /bin/ls to /tmp/ls :      36864 bytes copied\n",
      "Copying /bin/ls to /tmp/ls :      37888 bytes copied\n",
      "Copying /bin/ls to /tmp/ls :      38912 bytes copied\n",
      "Copying /bin/ls to /tmp/ls :      39936 bytes copied\n",
      "Copying /bin/ls to /tmp/ls :      40960 bytes copied\n",
      "Copying /bin/ls to /tmp/ls :      41984 bytes copied\n",
      "Copying /bin/ls to /tmp/ls :      43008 bytes copied\n",
      "Copying /bin/ls to /tmp/ls :      44032 bytes copied\n",
      "Copying /bin/ls to /tmp/ls :      45056 bytes copied\n",
      "Copying /bin/ls to /tmp/ls :      46080 bytes copied\n",
      "Copying /bin/ls to /tmp/ls :      47104 bytes copied\n",
      "Copying /bin/ls to /tmp/ls :      48128 bytes copied\n",
      "Copying /bin/ls to /tmp/ls :      49152 bytes copied\n",
      "Copying /bin/ls to /tmp/ls :      50176 bytes copied\n",
      "Copying /bin/ls to /tmp/ls :      51200 bytes copied\n",
      "Copying /bin/ls to /tmp/ls :      52224 bytes copied\n",
      "Copying /bin/ls to /tmp/ls :      53248 bytes copied\n",
      "Copying /bin/ls to /tmp/ls :      54272 bytes copied\n",
      "Copying /bin/ls to /tmp/ls :      55296 bytes copied\n",
      "Copying /bin/ls to /tmp/ls :      56320 bytes copied\n",
      "Copying /bin/ls to /tmp/ls :      57344 bytes copied\n",
      "Copying /bin/ls to /tmp/ls :      58368 bytes copied\n",
      "Copying /bin/ls to /tmp/ls :      59392 bytes copied\n",
      "Copying /bin/ls to /tmp/ls :      60416 bytes copied\n",
      "Copying /bin/ls to /tmp/ls :      61440 bytes copied\n",
      "Copying /bin/ls to /tmp/ls :      62464 bytes copied\n",
      "Copying /bin/ls to /tmp/ls :      63488 bytes copied\n",
      "Copying /bin/ls to /tmp/ls :      64512 bytes copied\n",
      "Copying /bin/ls to /tmp/ls :      65536 bytes copied\n",
      "Copying /bin/ls to /tmp/ls :      66560 bytes copied\n",
      "Copying /bin/ls to /tmp/ls :      67584 bytes copied\n",
      "Copying /bin/ls to /tmp/ls :      68608 bytes copied\n",
      "Copying /bin/ls to /tmp/ls :      69632 bytes copied\n",
      "Copying /bin/ls to /tmp/ls :      70656 bytes copied\n",
      "Copying /bin/ls to /tmp/ls :      71680 bytes copied\n",
      "Copying /bin/ls to /tmp/ls :      72704 bytes copied\n",
      "Copying /bin/ls to /tmp/ls :      73728 bytes copied\n",
      "Copying /bin/ls to /tmp/ls :      74752 bytes copied\n",
      "Copying /bin/ls to /tmp/ls :      75776 bytes copied\n",
      "Copying /bin/ls to /tmp/ls :      76800 bytes copied\n",
      "Copying /bin/ls to /tmp/ls :      77824 bytes copied\n",
      "Copying /bin/ls to /tmp/ls :      78848 bytes copied\n",
      "Copying /bin/ls to /tmp/ls :      79872 bytes copied\n",
      "Copying /bin/ls to /tmp/ls :      80896 bytes copied\n",
      "Copying /bin/ls to /tmp/ls :      81920 bytes copied\n",
      "Copying /bin/ls to /tmp/ls :      82944 bytes copied\n",
      "Copying /bin/ls to /tmp/ls :      83968 bytes copied\n",
      "Copying /bin/ls to /tmp/ls :      84992 bytes copied\n",
      "Copying /bin/ls to /tmp/ls :      86016 bytes copied\n",
      "Copying /bin/ls to /tmp/ls :      87040 bytes copied\n",
      "Copying /bin/ls to /tmp/ls :      88064 bytes copied\n",
      "Copying /bin/ls to /tmp/ls :      89088 bytes copied\n",
      "Copying /bin/ls to /tmp/ls :      90112 bytes copied\n",
      "Copying /bin/ls to /tmp/ls :      91136 bytes copied\n",
      "Copying /bin/ls to /tmp/ls :      92160 bytes copied\n",
      "Copying /bin/ls to /tmp/ls :      93184 bytes copied\n",
      "Copying /bin/ls to /tmp/ls :      94208 bytes copied\n",
      "Copying /bin/ls to /tmp/ls :      95232 bytes copied\n",
      "Copying /bin/ls to /tmp/ls :      96256 bytes copied\n",
      "Copying /bin/ls to /tmp/ls :      97280 bytes copied\n",
      "Copying /bin/ls to /tmp/ls :      98304 bytes copied\n",
      "Copying /bin/ls to /tmp/ls :      99328 bytes copied\n",
      "Copying /bin/ls to /tmp/ls :     100352 bytes copied\n",
      "Copying /bin/ls to /tmp/ls :     101376 bytes copied\n",
      "Copying /bin/ls to /tmp/ls :     102400 bytes copied\n",
      "Copying /bin/ls to /tmp/ls :     103424 bytes copied\n",
      "Copying /bin/ls to /tmp/ls :     104448 bytes copied\n",
      "Copying /bin/ls to /tmp/ls :     105472 bytes copied\n",
      "Copying /bin/ls to /tmp/ls :     106496 bytes copied\n",
      "Copying /bin/ls to /tmp/ls :     107520 bytes copied\n",
      "Copying /bin/ls to /tmp/ls :     108544 bytes copied\n",
      "Copying /bin/ls to /tmp/ls :     109568 bytes copied\n",
      "Copying /bin/ls to /tmp/ls :     110592 bytes copied\n",
      "Copying /bin/ls to /tmp/ls :     111616 bytes copied\n",
      "Copying /bin/ls to /tmp/ls :     112640 bytes copied\n",
      "Copying /bin/ls to /tmp/ls :     113664 bytes copied\n",
      "Copying /bin/ls to /tmp/ls :     114688 bytes copied\n",
      "Copying /bin/ls to /tmp/ls :     115712 bytes copied\n",
      "Copying /bin/ls to /tmp/ls :     116736 bytes copied\n",
      "Copying /bin/ls to /tmp/ls :     117760 bytes copied\n",
      "Copying /bin/ls to /tmp/ls :     118784 bytes copied\n",
      "Copying /bin/ls to /tmp/ls :     119808 bytes copied\n",
      "Copying /bin/ls to /tmp/ls :     120832 bytes copied\n",
      "Copying /bin/ls to /tmp/ls :     121856 bytes copied\n",
      "Copying /bin/ls to /tmp/ls :     122880 bytes copied\n",
      "Copying /bin/ls to /tmp/ls :     123904 bytes copied\n",
      "Copying /bin/ls to /tmp/ls :     124928 bytes copied\n",
      "Copying /bin/ls to /tmp/ls :     125952 bytes copied\n",
      "Copying /bin/ls to /tmp/ls :     126976 bytes copied\n",
      "Copying /bin/ls to /tmp/ls :     128000 bytes copied\n",
      "Copying /bin/ls to /tmp/ls :     129024 bytes copied\n",
      "Copying /bin/ls to /tmp/ls :     130048 bytes copied\n",
      "Copying /bin/ls to /tmp/ls :     131072 bytes copied\n",
      "Copying /bin/ls to /tmp/ls :     132096 bytes copied\n",
      "Copying /bin/ls to /tmp/ls :     133120 bytes copied\n",
      "Copying /bin/ls to /tmp/ls :     134144 bytes copied\n",
      "Copying /bin/ls to /tmp/ls :     135168 bytes copied\n",
      "Copying /bin/ls to /tmp/ls :     136192 bytes copied\n",
      "Copying /bin/ls to /tmp/ls :     137216 bytes copied\n",
      "Copying /bin/ls to /tmp/ls :     138240 bytes copied\n",
      "Copying /bin/ls to /tmp/ls :     139264 bytes copied\n",
      "Copying /bin/ls to /tmp/ls :     140288 bytes copied\n",
      "Copying /bin/ls to /tmp/ls :     141312 bytes copied\n",
      "Copying /bin/ls to /tmp/ls :     142336 bytes copied\n",
      "Copying /bin/ls to /tmp/ls :     143360 bytes copied\n",
      "Copying /bin/ls to /tmp/ls :     144384 bytes copied\n",
      "Copying /bin/ls to /tmp/ls :     145408 bytes copied\n",
      "Copying /bin/ls to /tmp/ls :     146432 bytes copied\n",
      "Copying /bin/ls to /tmp/ls :     147456 bytes copied\n",
      "Copying /bin/ls to /tmp/ls :     148480 bytes copied\n",
      "Copying /bin/ls to /tmp/ls :     149504 bytes copied\n",
      "Copying /bin/ls to /tmp/ls :     150528 bytes copied\n",
      "Copying /bin/ls to /tmp/ls :     151344 bytes copied\n"
     ]
    }
   ],
   "source": [
    "copier.copy('/tmp/ls','/bin/ls')"
   ]
  },
  {
   "cell_type": "code",
   "execution_count": 42,
   "metadata": {
    "ExecuteTime": {
     "end_time": "2023-10-31T11:53:53.058499Z",
     "start_time": "2023-10-31T11:53:53.037199Z"
    }
   },
   "outputs": [],
   "source": [
    "arena='''llwwllllllllllll\n",
    "llwwllllllllllll\n",
    "llwwwlllllllllll\n",
    "lllwwlllllwwllll\n",
    "lllwwlllllwwllll\n",
    "lllwwlllllwwllll\n",
    "lllwwwwlwwwwllll\n",
    "lllwwwwwwwwwllll\n",
    "llllllllllllllll\n",
    "llllllllllllllll\n",
    "llllllllllllllll\n",
    "'''\n",
    "with open('c.txt','w') as fp:\n",
    "    fp.write(arena)"
   ]
  },
  {
   "cell_type": "code",
   "execution_count": 44,
   "metadata": {
    "ExecuteTime": {
     "end_time": "2023-10-31T12:13:38.449565Z",
     "start_time": "2023-10-31T12:13:38.378345Z"
    }
   },
   "outputs": [],
   "source": [
    "#\n",
    "#\tSingleton pattern:\n",
    "#\tonly one instance can be created\n",
    "#\tGrid() always returns same instance\n",
    "\n",
    "# alternative implementation (works for single class)\n",
    "#class Grid(object):\n",
    "#\t_grid = []\n",
    "#\tdef __new__(cls, *a, **k):\n",
    "#\t\tif not hasattr(cls, '_inst'):\n",
    "#\t\t\tcls._inst = super(Grid, cls).__new__(cls, *a, **k)\n",
    "#\t\treturn cls._inst\n",
    "#\t.....\n",
    "\n",
    "def Singleton(cls):\n",
    "\t'''generic python decorator to make any class\n",
    "\tsingleton.'''\n",
    "\t_instances = {}\t  # keep classname vs. instance\n",
    "\tdef getinstance():\n",
    "\t\t'''if cls is not in _instances create it\n",
    "\t\tand store. return the stored instance'''\n",
    "\t\tif cls not in _instances:\n",
    "\t\t\t_instances[cls] = cls()\n",
    "\t\treturn _instances[cls]\n",
    "\treturn getinstance\n",
    "\n",
    "\n",
    "@Singleton\t# this make Grid Singleton\n",
    "class Grid:\n",
    "\t''' Singleton class for storing players on a battle\n",
    "\tfield. _grid contains list of list of cells. each\n",
    "\tcell stores a 2 elem. list, the landmark type and\n",
    "\tplayer on the cell. landmark type l stands for\n",
    "\tland, w stands for water'''\n",
    "\t_grid = []\n",
    "\tdef loadnew(self, filename):\n",
    "\t\t'''create a new grid from file. file contains\n",
    "\t\tlandmark characters for each cell'''\n",
    "\t\tf = open(filename,'r')\n",
    "\t\tline = f.readline()\n",
    "\t\twhile line:\n",
    "\t\t\tline = line.rstrip()\n",
    "\t\t\trow = []\n",
    "\t\t\tfor c in line:\n",
    "\t\t\t\trow.append( [c,None] )\n",
    "\t\t\tself._grid.append(row)\n",
    "\t\t\tline = f.readline()\n",
    "\t\tself.rows = len(self._grid)\n",
    "\t\tself.cols = len(self._grid[0])\n",
    "\tdef getcelltype(self,x,y):\n",
    "\t\t'''return the landmark character of x,y'''\n",
    "\t\treturn self._grid[x][y][0]\n",
    "\tdef getplayer(self,x,y):\n",
    "\t\t'''return the player on location x,y'''\n",
    "\t\treturn self._grid[x][y][1]\n",
    "\tdef addplayer(self,x,y,p):\n",
    "\t\t'''add player p to grid, x,y coord.'''\n",
    "\t\tself._grid[x][y][1] = p\n",
    "\tdef deleteplayer(self,x,y):\n",
    "\t\t'''delete player from grid'''\n",
    "\t\tself._grid[x][y][1] = None\n",
    "\tdef moveplayer(self,x,y,nx,ny):\n",
    "\t\t'''move player on x,y to nx,ny'''\n",
    "\t\tp = self._grid[x][y][1]\n",
    "\t\tself._grid[nx][ny][1] = p \n",
    "\t\tp.x, p.y = nx,ny\n",
    "\t\tself._grid[x][y][1] = None\n",
    "\tdef __repr__(self):\n",
    "\t\t'''display the grid in 2d form'''\n",
    "\t\tr = \"\"\n",
    "\t\tfor i in self._grid:\n",
    "\t\t\tfor j in i:\n",
    "\t\t\t\tif j[1]:\n",
    "\t\t\t\t\tr = r + \" \" + j[0]+str(j[1]._energy)\n",
    "\t\t\t\telse:\n",
    "\t\t\t\t\tr = r + \" \" + j[0]+\"  \"\n",
    "\t\t\tr = r + '\\n'\n",
    "\t\treturn r\n",
    "\n",
    "\n",
    "#\n",
    "#   Strategy pattern:\n",
    "#   MoveCap defines move() capability of a Player\n",
    "#   FightCap defines hit() capability of a Player\n",
    "#   DefenseCap defines block() capability of a Player\n",
    "#   Player composes derived classes of these capabilities\n",
    "\n",
    "\n",
    "class MoveCap(object):\n",
    "\tdef canmove(self):\n",
    "\t\treturn []\n",
    "\tdef move(self, x,y):\n",
    "\t\tif Grid().getcelltype(x,y) in self.canmove():\n",
    "\t\t\treturn True\n",
    "\n",
    "class Land(MoveCap):\n",
    "\tdef canmove(self):\n",
    "\t\treturn ['l']\n",
    "\n",
    "class Swim(MoveCap):\n",
    "\tdef canmove(self):\n",
    "\t\treturn ['w']\n",
    "\n",
    "class Amphib(MoveCap):\n",
    "\tdef canmove(self):\n",
    "\t\treturn ['l','w']\n",
    "\n",
    "class FightCap(object):\n",
    "\tdef hit(self):\n",
    "\t\treturn 0\n",
    "\n",
    "class Weak(FightCap):\n",
    "\tdef hit(self):\n",
    "\t\treturn 1\n",
    "\n",
    "class Strong(FightCap):\n",
    "\tdef hit(self):\n",
    "\t\treturn 3\n",
    "\n",
    "class Master(FightCap):\n",
    "\tdef hit(self):\n",
    "\t\treturn 4\n",
    "\n",
    "class DefCap(object):\n",
    "\tdef block(self,att):\n",
    "\t\treturn att\n",
    "\n",
    "class Thin(DefCap):\n",
    "\tdef block(self,att):\n",
    "\t\treturn att*.8\n",
    "\n",
    "class Shield(DefCap):\n",
    "\tdef block(self,att):\n",
    "\t\treturn att*.5\n",
    "\n",
    "class Armour(DefCap):\n",
    "\tdef block(self,att):\n",
    "\t\treturn att*.2\n",
    "\n",
    "class Player(object):\n",
    "\t'''Player class. it can be inserted in Grid() and \n",
    "\tmoves based on moving capabilities. It attacks when\n",
    "\tcell to move is occupied. It defenses when attacked'''\n",
    "\t_energy = 20\n",
    "\t_dirtable = {'left':(0,-1), 'right' : (0,1),\n",
    "\t\t     'up' : (-1,0), 'down' : (1,0)}\n",
    "\tdef __init__(self, mc, fc,dc):\n",
    "\t\t'''set each capability from the corr. objects'''\n",
    "\t\tself.moveCap = mc\n",
    "\t\tself.fightCap = fc\n",
    "\t\tself.defCap = dc\n",
    "\tdef insert(self,x,y):\n",
    "\t\t'''insert player on Grid()'''\n",
    "\t\tif self.moveCap.move(x,y):\n",
    "\t\t\tself.x = x\n",
    "\t\t\tself.y = y\n",
    "\t\t\tGrid().addplayer(x,y,self)\n",
    "\t\telse:\n",
    "\t\t\tprint(\"cannot go there!!\")\n",
    "\tdef move(self,direct):\n",
    "\t\t'''convert direction to target cell.\n",
    "\t\t   check if there is a player on target.\n",
    "\t\t   if there is attack it once.\n",
    "\t\t   if player dies move to there, else wait.\n",
    "\t\t   if cell empty directly move there'''\n",
    "\t\tnx = self.x + self._dirtable[direct][0]\n",
    "\t\tny = self.y + self._dirtable[direct][1]\n",
    "\t\tnx = max(0, min(nx,Grid().cols))\n",
    "\t\tny = max(0, min(ny,Grid().rows))\n",
    "\t\tif self.x==nx and self.y==ny:\n",
    "\t\t\tprint('nowhere to go')\n",
    "\t\t# check if move is possible from move capability\n",
    "\t\tif self.moveCap.move(nx,ny):\n",
    "\t\t\topp = Grid().getplayer(nx,ny)\n",
    "\t\t\tif opp:\t# fight!!!\n",
    "\t\t\t\tprint(\"war!!!\")\n",
    "\t\t\t\tatt = self.hit()\n",
    "\t\t\t\tprint(\"hitting\",att)\n",
    "\t\t\t\tif opp.defense(att): # died\n",
    "\t\t\t\t\tGrid().moveplayer(self.x,self.y,nx,ny)\n",
    "\t\t\telse:  #freecell\n",
    "\t\t\t\tGrid().moveplayer(self.x,self.y,nx,ny)\n",
    "\t\telse:\n",
    "\t\t\tprint(\"sorry, I cannot do that\")\n",
    "\tdef hit(self):\n",
    "\t\t'''get hit amount from fight capability'''\n",
    "\t\treturn self.fightCap.hit()\n",
    "\tdef block(self,att):\n",
    "\t\t'''get defense reduction amount from defense capability'''\n",
    "\t\treturn self.defCap.block(att)\n",
    "\tdef defense(self,att):\n",
    "\t\t'''get the attack and apply block capability\n",
    "\t\t   subtract remainder from current energy.\n",
    "\t\t   if energy gets<0 return True for death'''\n",
    "\t\thit = self.block(att)\n",
    "\t\tself._energy -= hit\n",
    "\t\tif self._energy < 0:\n",
    "\t\t\tGrid().deleteplayer(self.x,self.y)\n",
    "\t\t\tprint(\"Aaarrrgh\",self)\n",
    "\t\t\treturn True\n",
    "\t\treturn False\n",
    "\n",
    "\tdef __repr__(self):\n",
    "\t\treturn \"[%2d,%2d],%4.1f\" % (self.x, self.y, self._energy)\n",
    "\n",
    "# \n",
    "#   Factory pattern\n",
    "#   Instead of using direct class names to create instance\n",
    "#   use this function with names. Reduces dependency of\n",
    "#   of application to classnames\n",
    "\n",
    "def PlayerFactory(name):\n",
    "\t''' return the corr. player class comparison for the string parameter'''\n",
    "\tif name == \"peasant\":\n",
    "\t\treturn Player(Land(),Weak(),Thin())\n",
    "\telif name == \"trireme\":\n",
    "\t\treturn Player(Swim(),Weak(),Shield())\n",
    "\telif name == \"knight\":\n",
    "\t\treturn Player(Land(),Strong(),Shield())\n",
    "\telif name == \"darklord\":\n",
    "\t\treturn Player(Land(),Master(),Shield())\n",
    "\telif name == \"wall\":\n",
    "\t\treturn Player(MoveCap(),FightCap(),Armour())\n",
    "\telif name == \"chariboat\":\n",
    "\t\treturn Player(Amphib(),Strong(),Shield())\n",
    "\telse:\n",
    "\t\treturn None\n",
    "\n",
    "# \n",
    "# Decorator pattern\n",
    "# \n",
    "# players can hold weapons to improve attack/defense\n",
    "# combinations of weapons handled by Decorator objects.\n",
    "# Decorator object wraps the original object and\n",
    "# modified methods use wrapped object methods and\n",
    "# modify returned value\n",
    "\n",
    "class PlayerDecorator(Player):\n",
    "\t''' Wrapper for the player object \n",
    "\tall methods trapsparently passed to\n",
    "\twrapped object. overridden methods\n",
    "\timplemented by the decorator object'''\n",
    "\tdef __init__(self,w):\n",
    "\t\tself._w = w  #wrapped object\n",
    "\tdef __getattr__(self,name):\n",
    "\t\treturn getattr(self._w, name)\n",
    "\n",
    "class ArmUpgrade(PlayerDecorator):\n",
    "\tdef hit(self):\n",
    "\t\treturn self._w.hit()* 1.2\n",
    "\n",
    "class ShieldUpgrade(PlayerDecorator):\n",
    "\tdef block(self,att):\n",
    "\t\treturn self._w.block(att) * 0.8\n",
    "\n",
    "class Excalibur(PlayerDecorator):\n",
    "\tdef hit(self):\n",
    "\t\treturn self._w.hit() * 3\n",
    "\tdef block(self,att):\n",
    "\t\treturn self._w.block(att) * 0.2\n",
    "\n",
    "\t\t"
   ]
  },
  {
   "cell_type": "code",
   "execution_count": 45,
   "metadata": {
    "ExecuteTime": {
     "end_time": "2023-10-31T12:13:38.793933Z",
     "start_time": "2023-10-31T12:13:38.786775Z"
    }
   },
   "outputs": [],
   "source": [
    "Grid().loadnew('c.txt')"
   ]
  },
  {
   "cell_type": "code",
   "execution_count": 46,
   "metadata": {
    "ExecuteTime": {
     "end_time": "2023-10-31T12:13:41.615753Z",
     "start_time": "2023-10-31T12:13:41.610383Z"
    }
   },
   "outputs": [
    {
     "data": {
      "text/plain": [
       " l   l   w   w   l   l   l   l   l   l   l   l   l   l   l   l  \n",
       " l   l   w   w   l   l   l   l   l   l   l   l   l   l   l   l  \n",
       " l   l   w   w   w   l   l   l   l   l   l   l   l   l   l   l  \n",
       " l   l   l   w   w   l   l   l   l   l   w   w   l   l   l   l  \n",
       " l   l   l   w   w   l   l   l   l   l   w   w   l   l   l   l  \n",
       " l   l   l   w   w   l   l   l   l   l   w   w   l   l   l   l  \n",
       " l   l   l   w   w   w   w   l   w   w   w   w   l   l   l   l  \n",
       " l   l   l   w   w   w   w   w   w   w   w   w   l   l   l   l  \n",
       " l   l   l   l   l   l   l   l   l   l   l   l   l   l   l   l  \n",
       " l   l   l   l   l   l   l   l   l   l   l   l   l   l   l   l  \n",
       " l   l   l   l   l   l   l   l   l   l   l   l   l   l   l   l  "
      ]
     },
     "execution_count": 46,
     "metadata": {},
     "output_type": "execute_result"
    }
   ],
   "source": [
    "Grid()"
   ]
  },
  {
   "cell_type": "code",
   "execution_count": 47,
   "metadata": {
    "ExecuteTime": {
     "end_time": "2023-10-31T12:13:49.926655Z",
     "start_time": "2023-10-31T12:13:49.915211Z"
    }
   },
   "outputs": [
    {
     "data": {
      "text/plain": [
       " l   l   w   w   l   l   l   l   l   l   l   l   l   l   l   l  \n",
       " l   l   w   w   l   l   l   l   l   l   l   l   l   l   l   l  \n",
       " l   l   w   w   w   l   l20 l   l   l   l   l   l   l   l   l  \n",
       " l   l   l   w   w   l   l   l   l   l   w   w   l   l   l   l  \n",
       " l   l   l   w   w   l   l   l   l   l   w   w   l   l   l   l  \n",
       " l   l   l   w   w   l   l   l   l   l   w   w   l   l   l   l  \n",
       " l   l   l   w   w   w   w   l   w   w   w   w   l   l   l   l  \n",
       " l   l   l   w   w   w   w   w   w   w   w   w   l   l   l   l  \n",
       " l   l   l   l   l   l   l   l   l   l   l   l   l   l   l   l  \n",
       " l   l   l   l   l   l   l   l   l   l   l   l   l   l   l   l  \n",
       " l   l   l   l   l   l   l   l   l   l   l   l   l   l   l   l  "
      ]
     },
     "execution_count": 47,
     "metadata": {},
     "output_type": "execute_result"
    }
   ],
   "source": [
    "p1 = PlayerFactory('peasant')\n",
    "p1.insert(2,6)\n",
    "Grid()"
   ]
  },
  {
   "cell_type": "code",
   "execution_count": 50,
   "metadata": {
    "ExecuteTime": {
     "end_time": "2023-10-31T12:14:52.555863Z",
     "start_time": "2023-10-31T12:14:52.549791Z"
    }
   },
   "outputs": [
    {
     "name": "stdout",
     "output_type": "stream",
     "text": [
      "cannot go there!!\n"
     ]
    },
    {
     "data": {
      "text/plain": [
       " l   l   w   w   l   l   l   l   l   l   l   l   l   l   l   l  \n",
       " l   l   w   w   l   l   l   l   l   l   l   l   l   l   l   l  \n",
       " l   l   w   w20 w20 l   l20 l   l   l   l   l   l   l   l   l  \n",
       " l   l   l   w   w   l   l20 l   l   l   w   w   l   l   l   l  \n",
       " l   l   l   w   w   l   l20 l20 l   l   w   w   l   l   l   l  \n",
       " l   l   l   w   w   l   l   l   l   l   w   w   l   l   l   l  \n",
       " l   l   l   w   w   w   w   l   w   w   w   w   l   l   l   l  \n",
       " l   l   l   w   w   w   w   w   w   w   w   w   l   l   l   l  \n",
       " l   l   l   l   l   l   l   l   l   l   l   l   l   l   l   l  \n",
       " l   l   l   l   l   l   l   l   l   l   l   l   l   l   l   l  \n",
       " l   l   l   l   l   l   l   l   l   l   l   l   l   l   l   l  "
      ]
     },
     "execution_count": 50,
     "metadata": {},
     "output_type": "execute_result"
    }
   ],
   "source": [
    "p2 = PlayerFactory('trireme')\n",
    "p2.insert(2,4)\n",
    "p3 = PlayerFactory('chariboat')\n",
    "p3.insert(2,3)\n",
    "\n",
    "p4 = PlayerFactory('knight')\n",
    "p4.insert(4,6)\n",
    "\n",
    "p5 = PlayerFactory('wall')\n",
    "p5.insert(5,6)\n",
    "\n",
    "p6 = Excalibur(PlayerFactory('peasant'))\n",
    "p6.insert(4,7)\n",
    "\n",
    "Grid()\n",
    "\n"
   ]
  },
  {
   "cell_type": "code",
   "execution_count": 49,
   "metadata": {
    "ExecuteTime": {
     "end_time": "2023-10-31T12:14:34.622681Z",
     "start_time": "2023-10-31T12:14:34.612620Z"
    }
   },
   "outputs": [
    {
     "data": {
      "text/plain": [
       " l   l   w   w   l   l   l   l   l   l   l   l   l   l   l   l  \n",
       " l   l   w   w   l   l   l   l   l   l   l   l   l   l   l   l  \n",
       " l   l   w   w20 w20 l   l20 l   l   l   l   l   l   l   l   l  \n",
       " l   l   l   w   w   l   l20 l   l   l   w   w   l   l   l   l  \n",
       " l   l   l   w   w   l   l   l20 l   l   w   w   l   l   l   l  \n",
       " l   l   l   w   w   l   l   l   l   l   w   w   l   l   l   l  \n",
       " l   l   l   w   w   w   w   l   w   w   w   w   l   l   l   l  \n",
       " l   l   l   w   w   w   w   w   w   w   w   w   l   l   l   l  \n",
       " l   l   l   l   l   l   l   l   l   l   l   l   l   l   l   l  \n",
       " l   l   l   l   l   l   l   l   l   l   l   l   l   l   l   l  \n",
       " l   l   l   l   l   l   l   l   l   l   l   l   l   l   l   l  "
      ]
     },
     "execution_count": 49,
     "metadata": {},
     "output_type": "execute_result"
    }
   ],
   "source": [
    "p4.move('up')\n",
    "Grid()"
   ]
  },
  {
   "cell_type": "code",
   "execution_count": 30,
   "metadata": {
    "ExecuteTime": {
     "end_time": "2023-04-18T13:26:28.829269Z",
     "start_time": "2023-04-18T13:26:28.825917Z"
    }
   },
   "outputs": [
    {
     "name": "stdout",
     "output_type": "stream",
     "text": [
      "war!!!\n",
      "hitting 1\n"
     ]
    },
    {
     "data": {
      "text/plain": [
       " l   l   w   w   l   l   l   l   l   l   l   l   l   l   l   l  \n",
       " l   l   w   w   l   l   l   l   l   l   l   l   l   l   l   l  \n",
       " l   l   w   w20 w20 l   l15.200000000000001 l   l   l   l   l   l   l   l   l  \n",
       " l   l   l   w   w   l   l17.5 l   l   l   w   w   l   l   l   l  \n",
       " l   l   l   w   w   l   l   l20 l   l   w   w   l   l   l   l  \n",
       " l   l   l   w   w   l   l   l   l   l   w   w   l   l   l   l  \n",
       " l   l   l   w   w   w   w   l   w   w   w   w   l   l   l   l  \n",
       " l   l   l   w   w   w   w   w   w   w   w   w   l   l   l   l  \n",
       " l   l   l   l   l   l   l   l   l   l   l   l   l   l   l   l  \n",
       " l   l   l   l   l   l   l   l   l   l   l   l   l   l   l   l  \n",
       " l   l   l   l   l   l   l   l   l   l   l   l   l   l   l   l  "
      ]
     },
     "execution_count": 30,
     "metadata": {},
     "output_type": "execute_result"
    }
   ],
   "source": [
    "p1.move('down')\n",
    "Grid()"
   ]
  },
  {
   "cell_type": "code",
   "execution_count": 58,
   "metadata": {
    "ExecuteTime": {
     "end_time": "2023-10-31T12:15:28.680112Z",
     "start_time": "2023-10-31T12:15:28.674649Z"
    }
   },
   "outputs": [
    {
     "name": "stdout",
     "output_type": "stream",
     "text": [
      "war!!!\n",
      "hitting 1\n"
     ]
    },
    {
     "data": {
      "text/plain": [
       " l   l   w   w   l   l   l   l   l   l   l   l   l   l   l   l  \n",
       " l   l   w   w   l   l   l   l   l   l   l   l   l   l   l   l  \n",
       " l   l   w   w16.0 w20 l   l20 l   l   l   l   l   l   l   l   l  \n",
       " l   l   l   w   w   l   l20 l   l   l   w   w   l   l   l   l  \n",
       " l   l   l   w   w   l   l20 l20 l   l   w   w   l   l   l   l  \n",
       " l   l   l   w   w   l   l   l   l   l   w   w   l   l   l   l  \n",
       " l   l   l   w   w   w   w   l   w   w   w   w   l   l   l   l  \n",
       " l   l   l   w   w   w   w   w   w   w   w   w   l   l   l   l  \n",
       " l   l   l   l   l   l   l   l   l   l   l   l   l   l   l   l  \n",
       " l   l   l   l   l   l   l   l   l   l   l   l   l   l   l   l  \n",
       " l   l   l   l   l   l   l   l   l   l   l   l   l   l   l   l  "
      ]
     },
     "execution_count": 58,
     "metadata": {},
     "output_type": "execute_result"
    }
   ],
   "source": [
    "p2.move('left')\n",
    "Grid()"
   ]
  },
  {
   "cell_type": "code",
   "execution_count": 89,
   "metadata": {
    "ExecuteTime": {
     "end_time": "2023-10-31T12:16:49.462488Z",
     "start_time": "2023-10-31T12:16:49.456858Z"
    }
   },
   "outputs": [
    {
     "name": "stdout",
     "output_type": "stream",
     "text": [
      "war!!!\n",
      "hitting 3\n"
     ]
    },
    {
     "data": {
      "text/plain": [
       " l   l   w   w   l   l   l   l   l   l   l   l   l   l   l   l  \n",
       " l   l   w   w   l   l   l   l   l   l   l   l   l   l   l   l  \n",
       " l   l   w   w16.0 w20 l   l20 l   l   l   l   l   l   l   l   l  \n",
       " l   l   l   w   w   l   l18.5 l   l   l   w   w   l   l   l   l  \n",
       " l   l   l   w   w   l   l   l   l   l   w   w   l   l   l   l  \n",
       " l   l   l   w   w   l   l   l   l   l   w   w   l   l   l   l  \n",
       " l   l   l   w   w   w   w   l   w   w   w   w   l   l   l   l  \n",
       " l   l   l   w   w   w   w   w   w   w   w   w   l   l   l   l  \n",
       " l   l   l   l   l   l   l   l   l   l   l   l   l   l   l   l  \n",
       " l   l   l   l   l   l   l   l   l   l   l   l   l   l   l   l  \n",
       " l   l   l   l   l   l   l   l   l   l   l   l   l   l   l   l  "
      ]
     },
     "execution_count": 89,
     "metadata": {},
     "output_type": "execute_result"
    }
   ],
   "source": [
    "p6.move('down')\n",
    "Grid()"
   ]
  },
  {
   "cell_type": "code",
   "execution_count": null,
   "metadata": {},
   "outputs": [],
   "source": []
  },
  {
   "cell_type": "code",
   "execution_count": null,
   "metadata": {},
   "outputs": [],
   "source": []
  }
 ],
 "metadata": {
  "kernelspec": {
   "display_name": "Python 3 (ipykernel)",
   "language": "python",
   "name": "python3"
  },
  "language_info": {
   "codemirror_mode": {
    "name": "ipython",
    "version": 3
   },
   "file_extension": ".py",
   "mimetype": "text/x-python",
   "name": "python",
   "nbconvert_exporter": "python",
   "pygments_lexer": "ipython3",
   "version": "3.11.2"
  },
  "toc": {
   "base_numbering": 1,
   "nav_menu": {},
   "number_sections": true,
   "sideBar": true,
   "skip_h1_title": false,
   "title_cell": "Table of Contents",
   "title_sidebar": "Contents",
   "toc_cell": false,
   "toc_position": {},
   "toc_section_display": "block",
   "toc_window_display": false
  }
 },
 "nbformat": 4,
 "nbformat_minor": 2
}
