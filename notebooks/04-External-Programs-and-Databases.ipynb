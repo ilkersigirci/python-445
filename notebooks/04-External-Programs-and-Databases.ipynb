{
 "cells": [
  {
   "cell_type": "markdown",
   "metadata": {},
   "source": [
    "# Executing an external program\n",
    "\n",
    "* `os.system()` is not secure. Shell executes the program.\n",
    "* `subprocess` module is more secure, it provides pipe functionality\n",
    "* `Popen([fullpath,arg1, arg2, arg3, ...])` creates a subprocess executing the program. Program `stdin` and `stdout` is the terminal.\n",
    "* `Popen` has `stdin, stdout,stderr` paramaters to control program input, output and error."
   ]
  },
  {
   "cell_type": "code",
   "execution_count": 2,
   "metadata": {
    "ExecuteTime": {
     "end_time": "2023-10-24T11:26:47.930733Z",
     "start_time": "2023-10-24T11:26:47.923986Z"
    }
   },
   "outputs": [],
   "source": [
    "from subprocess import Popen,PIPE"
   ]
  },
  {
   "cell_type": "code",
   "execution_count": 3,
   "metadata": {
    "ExecuteTime": {
     "end_time": "2023-10-24T11:26:48.438481Z",
     "start_time": "2023-10-24T11:26:48.402866Z"
    }
   },
   "outputs": [
    {
     "name": "stdout",
     "output_type": "stream",
     "text": [
      "total 1856\n",
      "-rw-r--r-- 1 onur onur  94773 Oct 17 19:03 01-Scope-and-iterators.ipynb\n",
      "-rw-r--r-- 1 onur onur 136973 Dec  1  2021 01-Scope-and-iterators.pdf\n",
      "-rw-r--r-- 1 onur onur  71447 Oct 24 13:46 02-Environment-and-Libraries.ipynb\n",
      "-rw-r--r-- 1 onur onur 101635 Dec  1  2021 02-Environment-and-Libraries.pdf\n",
      "-rw-r--r-- 1 onur onur  32862 Oct 24 14:07 03-Regular-Expressions.ipynb\n",
      "-rw-r--r-- 1 onur onur  59993 Dec  1  2021 03-Regular-Expressions.pdf\n",
      "-rw-r--r-- 1 onur onur  32413 Oct 24 14:12 04-External-Programs-and-Databases.ipynb\n",
      "-rw-r--r-- 1 onur onur  86795 Dec  1  2021 04-External-Programs-and-Databases.pdf\n",
      "-rw-r--r-- 1 onur onur  40601 Apr 18  2023 05-Design-Patterns.ipynb\n",
      "-rw-r--r-- 1 onur onur  57683 Jun 12 18:25 05-Design-Patterns.pdf\n",
      "-rw-r--r-- 1 onur onur  25483 Apr  3  2023 06-Concurrency.ipynb\n",
      "-rw-r--r-- 1 onur onur  67256 Dec  1  2021 06-Concurrency.pdf\n",
      "-rw-r--r-- 1 onur onur  22891 Apr  3  2023 07-Concurrency-Threading.ipynb\n",
      "-rw-r--r-- 1 onur onur  81044 Dec  1  2021 07-Concurrency-Threading.pdf\n",
      "-rw-r--r-- 1 onur onur  58832 Apr  4  2023 08-Concurrency-Monitors-Multiprocessing.ipynb\n",
      "-rw-r--r-- 1 onur onur  88009 Dec  1  2021 08-Concurrency-Monitors-Multiprocessing.pdf\n",
      "-rw-r--r-- 1 onur onur  15887 Dec  1  2021 09-Sockets.ipynb\n",
      "-rw-r--r-- 1 onur onur  90378 Dec  1  2021 09-Sockets.pdf\n",
      "-rw-r--r-- 1 onur onur   4065 Dec  7  2021 10-Server-Models.ipynb\n",
      "-rw-r--r-- 1 onur onur  56487 Dec  1  2021 10-Server-Models.pdf\n",
      "-rw-r--r-- 1 onur onur  30333 Dec  1  2021 11-Native-Code-Binding.ipynb\n",
      "-rw-r--r-- 1 onur onur  93792 Dec  1  2021 11-Native-Code-Binding.pdf\n",
      "-rw-r--r-- 1 onur onur 112880 Jun 12 18:25 Authentication.ipynb\n",
      "-rw-r--r-- 1 onur onur  91774 Dec  1  2021 Authentication.pdf\n",
      "-rw-r--r-- 1 onur onur   1617 Dec  1  2021 ctest.c\n",
      "-rw-r--r-- 1 onur onur    187 Apr 18  2023 c.txt\n",
      "-rw-r--r-- 1 onur onur   6052 Jun 12 18:25 Django.ipynb\n",
      "-rw-r--r-- 1 onur onur  26973 Dec  1  2021 Django.pdf\n",
      "-rw-r--r-- 1 onur onur    187 Dec  1  2021 grid.txt\n",
      "-rw-r--r-- 1 onur onur  9"
     ]
    },
    {
     "data": {
      "text/plain": [
       "0"
      ]
     },
     "execution_count": 3,
     "metadata": {},
     "output_type": "execute_result"
    },
    {
     "name": "stdout",
     "output_type": "stream",
     "text": [
      "0804 Jun 12 18:25 Models.ipynb\n",
      "-rw-r--r-- 1 onur onur  61989 Dec  1  2021 Models.pdf\n",
      "-rw-r--r-- 1 onur onur  12288 Mar 28  2023 mydb.sql3\n",
      "-rw-r--r-- 1 onur onur  11384 Dec  8  2021 Python Decorators.ipynb\n",
      "-rw-r--r-- 1 onur onur  11861 Jun 12 18:25 TemplatesandViews.ipynb\n",
      "-rw-r--r-- 1 onur onur  39072 Dec  1  2021 TemplatesandViews.pdf\n",
      "-rw-r--r-- 1 onur onur    416 Mar 28  2023 testfile.txt\n",
      "-rw-r--r-- 1 onur onur   4132 Oct 13 14:46 Untitled.ipynb\n"
     ]
    }
   ],
   "source": [
    "# output goes to terminal (in Jupyter it is in server, you cannot see it)\n",
    "p=Popen([\"/bin/ls\", \"-l\"])\n",
    "p.wait()"
   ]
  },
  {
   "cell_type": "markdown",
   "metadata": {},
   "source": [
    "## Getting input from a file, output to a file"
   ]
  },
  {
   "cell_type": "code",
   "execution_count": 4,
   "metadata": {
    "ExecuteTime": {
     "end_time": "2023-10-24T11:26:49.591927Z",
     "start_time": "2023-10-24T11:26:49.573832Z"
    }
   },
   "outputs": [
    {
     "data": {
      "text/plain": [
       "0"
      ]
     },
     "execution_count": 4,
     "metadata": {},
     "output_type": "execute_result"
    }
   ],
   "source": [
    "# gets input from the file , outputs to another file\n",
    "fp = open(\"/etc/protocols\",\"r\")\n",
    "ofp = open(\"testfile.txt\",\"w\")\n",
    "p=Popen([\"/bin/grep\",\"v6\"], stdin=fp, stdout=ofp)\n",
    "p.wait()\n",
    "# check testfile.txt on root of Jupyter."
   ]
  },
  {
   "cell_type": "code",
   "execution_count": 5,
   "metadata": {
    "ExecuteTime": {
     "end_time": "2023-10-24T11:26:50.101908Z",
     "start_time": "2023-10-24T11:26:50.094460Z"
    }
   },
   "outputs": [
    {
     "name": "stdout",
     "output_type": "stream",
     "text": [
      "<_io.BufferedReader name=58>\n",
      "b'hopopt\\t0\\tHOPOPT\\t\\t# IPv6 Hop-by-Hop Option [RFC1883]\\n'\n",
      "b'ipv6\\t41\\tIPv6\\t\\t# Internet Protocol, version 6\\n'\n",
      "b'ipv6-route 43\\tIPv6-Route\\t# Routing Header for IPv6\\n'\n",
      "b'ipv6-frag 44\\tIPv6-Frag\\t# Fragment Header for IPv6\\n'\n",
      "b'ipv6-icmp 58\\tIPv6-ICMP\\t# ICMP for IPv6\\n'\n",
      "b'ipv6-nonxt 59\\tIPv6-NoNxt\\t# No Next Header for IPv6\\n'\n",
      "b'ipv6-opts 60\\tIPv6-Opts\\t# Destination Options for IPv6\\n'\n",
      "b'mobility-header 135 Mobility-Header # Mobility Support for IPv6 [RFC3775]\\n'\n",
      "b'ethernet 143\\tEthernet\\t# Ethernet encapsulation for SRv6 [RFC8986]\\n'\n"
     ]
    },
    {
     "data": {
      "text/plain": [
       "0"
      ]
     },
     "execution_count": 5,
     "metadata": {},
     "output_type": "execute_result"
    }
   ],
   "source": [
    "# gets input from the file , outputs to another file\n",
    "fp = open(\"/etc/protocols\",\"r\")\n",
    "p=Popen([\"/bin/grep\",\"v6\"], stdin=fp, stdout=PIPE)\n",
    "print(p.stdout)\n",
    "for line in p.stdout:\n",
    "    print(line)\n",
    "p.wait()"
   ]
  },
  {
   "cell_type": "markdown",
   "metadata": {},
   "source": [
    "## Pipes\n",
    "\n",
    "Pipes are virtual communication channels among the programs. They are used as file objects. If data is written on one end, it can be read from the other end. subprocess.PIPE creates a pipe object when it is used in `stdin, stdout, stderr` parameter.\n",
    "\n",
    "Unix `man ls | grep modification` is an example of a pipe.\n",
    "\n",
    "Getting output of a program, giving input to it:"
   ]
  },
  {
   "cell_type": "code",
   "execution_count": 6,
   "metadata": {
    "ExecuteTime": {
     "end_time": "2023-10-24T11:26:52.042475Z",
     "start_time": "2023-10-24T11:26:52.002967Z"
    },
    "scrolled": true
   },
   "outputs": [
    {
     "name": "stdout",
     "output_type": "stream",
     "text": [
      "[b'total 1860\\n', b'-rw-r--r-- 1 onur onur  94773 Oct 17 19:03 01-Scope-and-iterators.ipynb\\n', b'-rw-r--r-- 1 onur onur 136973 Dec  1  2021 01-Scope-and-iterators.pdf\\n', b'-rw-r--r-- 1 onur onur  71447 Oct 24 13:46 02-Environment-and-Libraries.ipynb\\n', b'-rw-r--r-- 1 onur onur 101635 Dec  1  2021 02-Environment-and-Libraries.pdf\\n', b'-rw-r--r-- 1 onur onur  32862 Oct 24 14:07 03-Regular-Expressions.ipynb\\n', b'-rw-r--r-- 1 onur onur  59993 Dec  1  2021 03-Regular-Expressions.pdf\\n', b'-rw-r--r-- 1 onur onur  33526 Oct 24 14:26 04-External-Programs-and-Databases.ipynb\\n', b'-rw-r--r-- 1 onur onur  86795 Dec  1  2021 04-External-Programs-and-Databases.pdf\\n', b'-rw-r--r-- 1 onur onur  40601 Apr 18  2023 05-Design-Patterns.ipynb\\n', b'-rw-r--r-- 1 onur onur  57683 Jun 12 18:25 05-Design-Patterns.pdf\\n', b'-rw-r--r-- 1 onur onur  25483 Apr  3  2023 06-Concurrency.ipynb\\n', b'-rw-r--r-- 1 onur onur  67256 Dec  1  2021 06-Concurrency.pdf\\n', b'-rw-r--r-- 1 onur onur  22891 Apr  3  2023 07-Concurrency-Threading.ipynb\\n', b'-rw-r--r-- 1 onur onur  81044 Dec  1  2021 07-Concurrency-Threading.pdf\\n', b'-rw-r--r-- 1 onur onur  58832 Apr  4  2023 08-Concurrency-Monitors-Multiprocessing.ipynb\\n', b'-rw-r--r-- 1 onur onur  88009 Dec  1  2021 08-Concurrency-Monitors-Multiprocessing.pdf\\n', b'-rw-r--r-- 1 onur onur  15887 Dec  1  2021 09-Sockets.ipynb\\n', b'-rw-r--r-- 1 onur onur  90378 Dec  1  2021 09-Sockets.pdf\\n', b'-rw-r--r-- 1 onur onur   4065 Dec  7  2021 10-Server-Models.ipynb\\n', b'-rw-r--r-- 1 onur onur  56487 Dec  1  2021 10-Server-Models.pdf\\n', b'-rw-r--r-- 1 onur onur  30333 Dec  1  2021 11-Native-Code-Binding.ipynb\\n', b'-rw-r--r-- 1 onur onur  93792 Dec  1  2021 11-Native-Code-Binding.pdf\\n', b'-rw-r--r-- 1 onur onur 112880 Jun 12 18:25 Authentication.ipynb\\n', b'-rw-r--r-- 1 onur onur  91774 Dec  1  2021 Authentication.pdf\\n', b'-rw-r--r-- 1 onur onur   1617 Dec  1  2021 ctest.c\\n', b'-rw-r--r-- 1 onur onur    187 Apr 18  2023 c.txt\\n', b'-rw-r--r-- 1 onur onur   6052 Jun 12 18:25 Django.ipynb\\n', b'-rw-r--r-- 1 onur onur  26973 Dec  1  2021 Django.pdf\\n', b'-rw-r--r-- 1 onur onur    187 Dec  1  2021 grid.txt\\n', b'-rw-r--r-- 1 onur onur  90804 Jun 12 18:25 Models.ipynb\\n', b'-rw-r--r-- 1 onur onur  61989 Dec  1  2021 Models.pdf\\n', b'-rw-r--r-- 1 onur onur  12288 Mar 28  2023 mydb.sql3\\n', b'-rw-r--r-- 1 onur onur  11384 Dec  8  2021 Python Decorators.ipynb\\n', b'-rw-r--r-- 1 onur onur  11861 Jun 12 18:25 TemplatesandViews.ipynb\\n', b'-rw-r--r-- 1 onur onur  39072 Dec  1  2021 TemplatesandViews.pdf\\n', b'-rw-r--r-- 1 onur onur    482 Oct 24 14:26 testfile.txt\\n', b'-rw-r--r-- 1 onur onur   4132 Oct 13 14:46 Untitled.ipynb\\n']\n"
     ]
    },
    {
     "data": {
      "text/plain": [
       "0"
      ]
     },
     "execution_count": 6,
     "metadata": {},
     "output_type": "execute_result"
    }
   ],
   "source": [
    "p = Popen([\"/bin/ls\", \"-l\"], stdout=PIPE)\n",
    "print(p.stdout.readlines())\n",
    "p.wait()"
   ]
  },
  {
   "cell_type": "code",
   "execution_count": 7,
   "metadata": {
    "ExecuteTime": {
     "end_time": "2023-10-24T11:26:52.491332Z",
     "start_time": "2023-10-24T11:26:52.478808Z"
    }
   },
   "outputs": [
    {
     "name": "stdout",
     "output_type": "stream",
     "text": [
      "HELLO /USR/BIN/TR\n",
      "PLEASE CAPITILIZE THESE\n"
     ]
    },
    {
     "data": {
      "text/plain": [
       "0"
      ]
     },
     "execution_count": 7,
     "metadata": {},
     "output_type": "execute_result"
    }
   ],
   "source": [
    "p = Popen([\"/usr/bin/tr\",\"/a-z/\",\"/A-Z/\"], stdin=PIPE, stdout=PIPE)\n",
    "p.stdin.write('hello /usr/bin/tr\\n'.encode())\n",
    "p.stdin.write(b'please capitilize these\\n')\n",
    "p.stdin.close()\n",
    "for line in p.stdout:\n",
    "    print(line.decode(),end='')\n",
    "p.wait()"
   ]
  },
  {
   "cell_type": "markdown",
   "metadata": {},
   "source": [
    "## Chain commands"
   ]
  },
  {
   "cell_type": "code",
   "execution_count": 8,
   "metadata": {
    "ExecuteTime": {
     "end_time": "2023-10-24T11:26:53.629142Z",
     "start_time": "2023-10-24T11:26:53.496433Z"
    },
    "scrolled": true
   },
   "outputs": [
    {
     "name": "stdout",
     "output_type": "stream",
     "text": [
      "-- man ls | grep modification --\n",
      "       -c     with -lt: sort by, and show, ctime (time of last modification of\n",
      "              change  the  default  of  using  modification times; access time\n",
      "-- man ls | grep modification | cat -n --\n",
      "     1\t       -c     with -lt: sort by, and show, ctime (time of last modification of\n",
      "     2\t              change  the  default  of  using  modification times; access time\n"
     ]
    },
    {
     "data": {
      "text/plain": [
       "0"
      ]
     },
     "execution_count": 8,
     "metadata": {},
     "output_type": "execute_result"
    }
   ],
   "source": [
    "# man ls | grep modification\n",
    "print(\"-- man ls | grep modification --\")\n",
    "\n",
    "p = Popen([\"/usr/bin/man\",\"ls\"], stdout = PIPE)\n",
    "q = Popen([\"/bin/grep\",\"modification\"], stdin = p.stdout, stdout = PIPE)\n",
    "for line in q.stdout:\n",
    "    print(line.decode(), end='')\n",
    "p.wait()\n",
    "q.wait()\n",
    "\n",
    "print(\"-- man ls | grep modification | cat -n --\")\n",
    "\n",
    "#man ls | grep modification | cat -n\n",
    "p = Popen([\"/usr/bin/man\",\"ls\"], stdout = PIPE)\n",
    "q = Popen([\"/bin/grep\",\"modification\"], stdin = p.stdout, stdout = PIPE)\n",
    "r = Popen([\"/bin/cat\",\"-n\"], stdin = q.stdout, stdout = PIPE)\n",
    "for line in r.stdout:\n",
    "    print(line.decode(), end='')\n",
    "p.wait()\n",
    "q.wait()\n",
    "r.wait()\n"
   ]
  },
  {
   "cell_type": "markdown",
   "metadata": {},
   "source": [
    "Pipe objects is alive until there is still a reader or writer for that pipe. A PIPE created as a `stdin` pamarameter is automatically opened for writing by the current process (one calling Popen). The readers of the pipe (process with `stdin` parameter) gets EOF when the last reader closes the pipe.\n",
    "\n",
    "Following is a multiple writer example. If current process does not call `p.stdin.close()`, `grep terminal` process will wait until it."
   ]
  },
  {
   "cell_type": "code",
   "execution_count": 18,
   "metadata": {
    "ExecuteTime": {
     "end_time": "2023-03-28T13:06:43.492100Z",
     "start_time": "2023-03-28T13:06:43.319591Z"
    }
   },
   "outputs": [
    {
     "name": "stdout",
     "output_type": "stream",
     "text": [
      "              'ls' and output is a terminal)\n",
      "       standard  output is connected to a terminal.  The LS_COLORS environment\n",
      "       and error are both connected to terminals (as determined by isatty(3)),\n",
      "              Used by the select compound command to  determine  the  terminal\n",
      "              coming  from  a terminal.  In an interactive shell, the value is\n",
      "       -t fd  True if file descriptor fd is open and refers to a terminal.\n",
      "       terface  supplied  jointly  by  the  operating system kernel's terminal\n",
      "       the operating system maintains the notion of a current terminal process\n",
      "       ID is equal to the current terminal process group ID) receive keyboard-\n",
      "       differs from the terminal's; such processes are immune to keyboard-gen‐\n",
      "       if the user so specifies with  stty  tostop,  write  to  the  terminal.\n",
      "       tostop is in effect) the terminal are sent a SIGTTIN  (SIGTTOU)  signal\n",
      "       by  the  kernel's  terminal  driver, which, unless caught, suspends the\n",
      "       when it attempts to read input from the terminal, and control to be re‐\n",
      "              \\l     the basename of the shell's terminal device name\n",
      "                     be used to embed a terminal  control  sequence  into  the\n",
      "              Controls what happens when readline wants to ring  the  terminal\n",
      "              set to audible, readline attempts to ring the terminal's bell.\n",
      "              treated specially by the kernel's terminal driver to their read‐\n",
      "              than 0 or greater than the terminal screen width.  A value of  0\n",
      "              they are simply listed on the terminal.\n",
      "              which  can be used to embed a terminal control sequence into the\n",
      "              When set to On, readline will configure the terminal  in  a  way\n",
      "              key the terminal claims to support when it is called.   On  many\n",
      "              terminals, the meta key is used to send eight-bit characters.\n",
      "              new line.  This setting is automatically enabled  for  terminals\n",
      "              gardless  of  what the terminal claims it can support.  The name\n",
      "              printing  characters, which can be used to embed a terminal con‐\n",
      "              printing characters, which can be used to embed a terminal  con‐\n",
      "              ing  mode,  the  terminal  being  used, or the application using\n",
      "              term   The term= form may be used to  include  terminal-specific\n",
      "                     the terminal's function keys.  The word on the right side\n",
      "                     minal and the portion of the  terminal  name  before  the\n",
      "              Clear the screen and, if  possible,  the  terminal's  scrollback\n",
      "              Abort  the  current editing command and ring the terminal's bell\n",
      "     -T      Disable pseudo-terminal allocation.\n",
      "     -t      Force pseudo-terminal allocation.  This can be used to execute\n",
      "     pseudo-terminal (pty) for interactive sessions when the client has one.\n",
      "     If a pseudo-terminal has been allocated the user may use the escape char‐\n",
      "     If no pseudo-terminal has been allocated, the session is transparent and\n",
      "     When a pseudo-terminal has been requested, ssh supports a number of func‐\n",
      "              -e     If the standard input is coming from a terminal, readline\n",
      "                     displayed only if input is coming from a terminal.\n",
      "              -s     Silent mode.  If input is coming from a terminal, charac‐\n",
      "                     reading input from a terminal,  pipe,  or  other  special\n",
      "              -P     The maximum number of pseudoterminals\n",
      "                           passphrase from the current terminal if it was run\n",
      "                           from a terminal.  If ssh does not have a terminal\n"
     ]
    },
    {
     "data": {
      "text/plain": [
       "0"
      ]
     },
     "execution_count": 18,
     "metadata": {},
     "output_type": "execute_result"
    }
   ],
   "source": [
    "p = Popen([\"/bin/grep\", \"terminal\"], stdin = PIPE, stdout = PIPE)\n",
    "q1 = Popen([\"/usr/bin/man\",\"bash\"], stdout = p.stdin)\n",
    "q2 = Popen([\"/usr/bin/man\",\"ls\"], stdout = p.stdin)\n",
    "q3 = Popen([\"/usr/bin/man\",\"ssh\"], stdout = p.stdin)\n",
    "\n",
    "# close the unused input pipes\n",
    "p.stdin.close()\n",
    "\n",
    "for line in p.stdout:\n",
    "    print(line.decode(), end='')\n",
    "\n",
    "q1.wait()\n",
    "q2.wait()\n",
    "q3.wait()\n",
    "p.wait()"
   ]
  },
  {
   "cell_type": "markdown",
   "metadata": {},
   "source": [
    "## Synchronization and deadlocks\n",
    "\n",
    "Pipes and subprocesses are difficult to control for a complicated task. Make sure\n",
    "unused ends of pipes (especially that you write) are closed. You do not `wait` for a subprocess that is blocked on some other thing (I/O or other process). Otherwise your code will wait forever"
   ]
  },
  {
   "cell_type": "markdown",
   "metadata": {},
   "source": [
    "# Serializing, Storing-Saving Objects\n",
    "\n",
    "* `pickle` module allows conversion of an arbitrary object into a string representation and vice versa.\n",
    "* `pickle.dumps(object)` and `pickle.loads(string)` methods are used in conversion\n",
    "\n",
    "Serialization scenarios include:\n",
    "* saving/restoring object state on a file or database\n",
    "* sending an object over network\n",
    "* calling methods of a remote object (parameters and return value serialized)\n",
    "* object and application persistent"
   ]
  },
  {
   "cell_type": "code",
   "execution_count": 9,
   "metadata": {
    "ExecuteTime": {
     "end_time": "2023-10-24T11:48:46.732657Z",
     "start_time": "2023-10-24T11:48:46.722502Z"
    }
   },
   "outputs": [
    {
     "name": "stdout",
     "output_type": "stream",
     "text": [
      "b'\\x80\\x04\\x95*\\x00\\x00\\x00\\x00\\x00\\x00\\x00]\\x94(K\\x01K\\x02K\\x03}\\x94(\\x8c\\x01a\\x94K{\\x8c\\x01b\\x94\\x8c\\x05hello\\x94\\x8c\\x01c\\x94]\\x94K\\x01aue.'\n",
      "[1, 2, 3, {'a': 123, 'b': 'hello', 'c': [1]}]\n"
     ]
    }
   ],
   "source": [
    "import pickle\n",
    "\n",
    "a=[1,2,3,{'a':123,'b':'hello','c':[1]}]\n",
    "mystr=pickle.dumps(a)\n",
    "print(mystr)\n",
    "b=pickle.loads(mystr)\n",
    "print(b)"
   ]
  },
  {
   "cell_type": "code",
   "execution_count": 10,
   "metadata": {
    "ExecuteTime": {
     "end_time": "2023-10-24T11:50:37.593540Z",
     "start_time": "2023-10-24T11:50:37.587597Z"
    }
   },
   "outputs": [
    {
     "data": {
      "text/plain": [
       "[1, 2, 3, {'a': 123, 'b': 'hello', 'c': [1]}, {'hello': 'world'}]"
      ]
     },
     "execution_count": 10,
     "metadata": {},
     "output_type": "execute_result"
    }
   ],
   "source": [
    "pickle.loads(b'\\x80\\x04\\x95=\\x00\\x00\\x00\\x00\\x00\\x00\\x00]\\x94(K\\x01K\\x02K\\x03}\\x94(\\x8c\\x01a\\x94K{\\x8c\\x01b\\x94\\x8c\\x05hello\\x94\\x8c\\x01c\\x94]\\x94K\\x01au}\\x94\\x8c\\x05hello\\x94\\x8c\\x05world\\x94se.')\n"
   ]
  },
  {
   "cell_type": "markdown",
   "metadata": {
    "deletable": false,
    "editable": false,
    "run_control": {
     "frozen": true
    }
   },
   "source": [
    "User defined classes can also be serialized with `pickle`. All properly defined methods (no lambda) and members of an object are serialized automatically. If methods make external references (call outside methods or access global variables) they are not serialized. If restoring program does not have those definitions, run time error is generated when invoked."
   ]
  },
  {
   "cell_type": "code",
   "execution_count": 11,
   "metadata": {
    "ExecuteTime": {
     "end_time": "2023-10-24T11:51:12.429942Z",
     "start_time": "2023-10-24T11:51:12.420965Z"
    },
    "scrolled": true
   },
   "outputs": [
    {
     "name": "stdout",
     "output_type": "stream",
     "text": [
      "b'\\x80\\x04\\x95\\xb7\\x00\\x00\\x00\\x00\\x00\\x00\\x00\\x8c\\x08__main__\\x94\\x8c\\x05LList\\x94\\x93\\x94)\\x81\\x94}\\x94(\\x8c\\x04head\\x94h\\x00\\x8c\\nLList.Node\\x94\\x93\\x94)\\x81\\x94}\\x94(\\x8c\\x03val\\x94K\\x03\\x8c\\x04next\\x94h\\x07)\\x81\\x94}\\x94(h\\nK\\x05h\\x0bh\\x07)\\x81\\x94}\\x94(h\\nK\\x08h\\x0bh\\x07)\\x81\\x94}\\x94(h\\nK\\x08h\\x0bh\\x07)\\x81\\x94}\\x94(h\\nK\\x07h\\x0bh\\x07)\\x81\\x94}\\x94(h\\nK\\x06h\\x0bh\\x07)\\x81\\x94}\\x94(h\\nK\\x01h\\x0bNububububububub\\x8c\\x04last\\x94h\\x16ub.'\n",
      "[3 -> 5 -> 8 -> 8 -> 7 -> 6 -> 1]\n"
     ]
    }
   ],
   "source": [
    "class LList:\n",
    "    '''Linked list implementation. Iterator reuse is fixed'''\n",
    "    class Node:\n",
    "        def __init__(self, v,n):\n",
    "            self.val, self.next = v, n\n",
    "        def __str__(self):\n",
    "            return \"( \" + str(self.val) + \", \" + str(self.next) + \" )\"\n",
    "            \n",
    "    def __init__(self,vals=[]):\n",
    "        self.head = self.last = None\n",
    "        for v in vals:\n",
    "            self.append(v)\n",
    "    def append(self,v):\n",
    "        if self.last == None:\n",
    "            # very first element\n",
    "            self.head = self.last = LList.Node(v,None)\n",
    "        else:\n",
    "            self.last.next = LList.Node(v,None)\n",
    "            self.last = self.last.next\n",
    "    def __getitem__(self,no):\n",
    "        count = 0\n",
    "        ptr = self.head\n",
    "        while count < no:\n",
    "            if ptr:\n",
    "                ptr = ptr.next   # next\n",
    "            else:\n",
    "                raise IndexError\n",
    "            count += 1\n",
    "        if ptr:\n",
    "            return ptr.val\n",
    "        else:\n",
    "            raise IndexError\n",
    "    def __setitem__(self,no,val):\n",
    "        count = 0\n",
    "        ptr = self.head\n",
    "        while count < no:\n",
    "            if ptr:\n",
    "                ptr = ptr.next\n",
    "            else:\n",
    "                raise IndexError\n",
    "            count += 1\n",
    "        if ptr:\n",
    "            ptr.val=val\n",
    "            return ptr.val\n",
    "        else:\n",
    "            raise IndexError\n",
    "    def __delitem__(self,no):\n",
    "        count = 0\n",
    "        prev = ptr = self.head\n",
    "        while count < no:\n",
    "            if ptr:\n",
    "                prev = ptr\n",
    "                ptr = ptr.next\n",
    "            else:\n",
    "                raise IndexError\n",
    "            count += 1\n",
    "        if ptr:\n",
    "            if ptr is self.head:\n",
    "                if self.head is self.last:\n",
    "                    self.head = self.last = None\n",
    "                else:\n",
    "                    self.head = self.head.val\n",
    "            else: \n",
    "                if ptr == self.last:\n",
    "                    self.last = prev\n",
    "                prev.next = ptr.next\n",
    "        else:\n",
    "            raise IndexError\n",
    "    def __str__(self):\n",
    "        ret=\"[\"\n",
    "        ptr = self.head\n",
    "        while True:\n",
    "            if ptr:\n",
    "                ret += str(ptr.val)\n",
    "            else:\n",
    "                break\n",
    "            ptr = ptr.next\n",
    "            if ptr:\n",
    "                ret += \" -> \"\n",
    "        ret += \"]\"\n",
    "        return ret\n",
    "    \n",
    "    def __iter__(self):\n",
    "        '''return a brand new iterator'''\n",
    "        return LListIterator(self)\n",
    "    \n",
    "    # yes, nested iterators possible\n",
    "    class LListIterator:\n",
    "        def __init__(self,llist):\n",
    "            self.llist = llist\n",
    "            self.itptr = llist.head\n",
    "        def __next__(self):\n",
    "            if self.itptr == None:\n",
    "                raise StopIteration\n",
    "            else:\n",
    "                val=self.itptr[0]\n",
    "                self.itptr = self.itptr[1]\n",
    "                return val\n",
    "            \n",
    "\n",
    "            \n",
    "a = LList([3,5,8,8,7,6,1])\n",
    "\n",
    "apick = pickle.dumps(a)\n",
    "print(apick)\n",
    "\n",
    "# this scenario will not work when apick is send to a different python instance where LList is **not** defined\n",
    "b = pickle.loads(apick)\n",
    "print(b)"
   ]
  },
  {
   "cell_type": "code",
   "execution_count": 27,
   "metadata": {
    "ExecuteTime": {
     "end_time": "2023-03-28T13:18:36.016637Z",
     "start_time": "2023-03-28T13:18:36.013187Z"
    },
    "scrolled": true
   },
   "outputs": [
    {
     "name": "stdout",
     "output_type": "stream",
     "text": [
      "Help on built-in function pack in module _struct:\n",
      "\n",
      "pack(...)\n",
      "    pack(format, v1, v2, ...) -> bytes\n",
      "    \n",
      "    Return a bytes object containing the values v1, v2, ... packed according\n",
      "    to the format string.  See help(struct) for more on format strings.\n",
      "\n",
      "Help on built-in function unpack in module _struct:\n",
      "\n",
      "unpack(format, buffer, /)\n",
      "    Return a tuple containing values unpacked according to the format string.\n",
      "    \n",
      "    The buffer's size in bytes must be calcsize(format).\n",
      "    \n",
      "    See help(struct) for more on format strings.\n",
      "\n",
      "b'\\n\\x00\\x00\\x00\\n\\x00\\x00\\x00hello\\x00\\x00\\x00\\x00\\x00'\n",
      "(10, 10, b'hello\\x00\\x00\\x00\\x00\\x00')\n"
     ]
    }
   ],
   "source": [
    "import struct\n",
    "# struct L { int x, int y, char a[10]} l;    fwrite(fp, sizeof(struct L), 1, &l);\n",
    "help(struct.pack)\n",
    "help(struct.unpack)\n",
    "\n",
    "print(struct.pack(\"ii10s\", 10, 10, b\"hello\"))\n",
    "print(struct.unpack(\"ii10s\",b'\\n\\x00\\x00\\x00\\n\\x00\\x00\\x00hello\\x00\\x00\\x00\\x00\\x00'))"
   ]
  },
  {
   "cell_type": "markdown",
   "metadata": {},
   "source": [
    "# Database Access\n",
    "\n",
    "* `sqlite3` is a module providing simple single file SQL library with same name\n",
    "* `db = sqlite3.connect(filepath)` returns a database connector\n",
    "* `cursor = db.cursor()` returns a handle to execute queries\n",
    "* `cursor.execute(querystring)` will execute the query\n",
    "* `cursor.fetchone()` , `cursor.fetchall()` returns a single row or list of rows respectively\n",
    "* A query result can also be iterated."
   ]
  },
  {
   "cell_type": "code",
   "execution_count": 13,
   "metadata": {
    "ExecuteTime": {
     "end_time": "2023-10-24T12:06:00.493294Z",
     "start_time": "2023-10-24T12:06:00.306405Z"
    }
   },
   "outputs": [],
   "source": [
    "#with sqlite3.connect('mydb.sql3') as db:\n",
    "#    ...\n",
    "#    ...\n",
    "    \n",
    "import sqlite3\n",
    "try:\n",
    "    db=sqlite3.connect(\"mydb.sql3\")\n",
    "    cur = db.cursor()\n",
    "except Exception as e:\n",
    "    print(\"SQL error\",e)\n",
    "try:\n",
    "    cur.execute(\"create table student (stid int primary key, name varchar(40), sname varchar(50))\")\n",
    "except:\n",
    "    print(\"error ignored\") # ignore this error\n",
    "\n",
    "try:\n",
    "    cur.execute(\"insert into student values (12341,'yilmaz','yilar'), (54213,'nalan','nalmayan'), (61231,'hasan','hasmayan'), (63441,'beren','bermeyen')\")\n",
    "    db.commit()    \n",
    "except Exception as e:\n",
    "    print(\"SQL error\",e)"
   ]
  },
  {
   "cell_type": "code",
   "execution_count": 14,
   "metadata": {
    "ExecuteTime": {
     "end_time": "2023-10-24T12:06:18.955860Z",
     "start_time": "2023-10-24T12:06:18.950873Z"
    },
    "scrolled": true
   },
   "outputs": [
    {
     "name": "stdout",
     "output_type": "stream",
     "text": [
      "(12341, 'yilmaz', 'yilar')\n",
      "(54213, 'nalan', 'nalmayan')\n",
      "(61231, 'hasan', 'hasmayan')\n",
      "(63441, 'beren', 'bermeyen')\n"
     ]
    }
   ],
   "source": [
    "try:\n",
    "    cur.execute(\"select * from student\")\n",
    "    for v in cur:\n",
    "        print(v)\n",
    "except Exception as e:\n",
    "    print(\"query error\",e)\n",
    "    \n",
    "    "
   ]
  },
  {
   "cell_type": "code",
   "execution_count": 21,
   "metadata": {
    "ExecuteTime": {
     "end_time": "2023-10-24T12:13:10.336835Z",
     "start_time": "2023-10-24T12:13:10.330794Z"
    }
   },
   "outputs": [
    {
     "name": "stdout",
     "output_type": "stream",
     "text": [
      "select * from student where stid ='XXX' OR  name like '%'\n",
      "(12341, 'yilmaz', 'yilar')\n",
      "(54213, 'nalan', 'nalmayan')\n",
      "(61231, 'hasan', 'hasmayan')\n",
      "(63441, 'beren', 'bermeyen')\n",
      "-------\n",
      "-------\n",
      "select * from student where stid ='XXX'; DELETE STUDENT WHERE NAME LIKE '%'\n",
      "query error You can only execute one statement at a time.\n"
     ]
    }
   ],
   "source": [
    "stid='XXX\\' OR  name like \\'%'\n",
    "stid2='XXX\\'; DELETE STUDENT WHERE NAME LIKE \\'%'\n",
    "try:\n",
    "    print(\"select * from student where stid ='\" + stid + \"'\")\n",
    "    cur.execute(\"select * from student where stid ='\" + stid + \"'\")\n",
    "    for v in cur:\n",
    "        print(v)\n",
    "    print('-------')\n",
    "    cur.execute(\"select * from student where stid =?\", (stid,))\n",
    "    for v in cur:\n",
    "        print(v)\n",
    "    print('-------')\n",
    "    print(\"select * from student where stid ='\" + stid2 + \"'\")\n",
    "    cur.execute(\"select * from student where stid ='\" + stid2 + \"'\")\n",
    "except Exception as e:\n",
    "    print(\"query error\",e)\n",
    "# Second query is converted into\n",
    "#select * from student where stid = '\n",
    "# \"'XXX\\' OR name  like \\'%\\'\""
   ]
  },
  {
   "cell_type": "markdown",
   "metadata": {},
   "source": []
  },
  {
   "cell_type": "markdown",
   "metadata": {},
   "source": []
  },
  {
   "cell_type": "code",
   "execution_count": null,
   "metadata": {},
   "outputs": [],
   "source": []
  },
  {
   "cell_type": "code",
   "execution_count": null,
   "metadata": {},
   "outputs": [],
   "source": []
  }
 ],
 "metadata": {
  "kernelspec": {
   "display_name": "Python 3 (ipykernel)",
   "language": "python",
   "name": "python3"
  },
  "language_info": {
   "codemirror_mode": {
    "name": "ipython",
    "version": 3
   },
   "file_extension": ".py",
   "mimetype": "text/x-python",
   "name": "python",
   "nbconvert_exporter": "python",
   "pygments_lexer": "ipython3",
   "version": "3.11.2"
  },
  "toc": {
   "base_numbering": 1,
   "nav_menu": {},
   "number_sections": true,
   "sideBar": true,
   "skip_h1_title": false,
   "title_cell": "Table of Contents",
   "title_sidebar": "Contents",
   "toc_cell": false,
   "toc_position": {
    "height": "617px",
    "left": "0px",
    "right": "1203px",
    "top": "135px",
    "width": "269px"
   },
   "toc_section_display": "block",
   "toc_window_display": false
  }
 },
 "nbformat": 4,
 "nbformat_minor": 2
}
