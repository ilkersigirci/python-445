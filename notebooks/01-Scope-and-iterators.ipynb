{
 "cells": [
  {
   "cell_type": "markdown",
   "metadata": {},
   "source": [
    "\n",
    "# Assignment semantics\n"
   ]
  },
  {
   "cell_type": "code",
   "execution_count": 3,
   "metadata": {},
   "outputs": [
    {
     "name": "stdout",
     "output_type": "stream",
     "text": [
      "[3, 2, 3]\n"
     ]
    }
   ],
   "source": [
    "a=[1,2,3]\n",
    "b=a\n",
    "b[0]=3\n",
    "print(a)"
   ]
  },
  {
   "cell_type": "markdown",
   "metadata": {},
   "source": [
    "# Classes\n",
    "\n",
    "`__init__(self,...)` is the constructor `classname()`\n",
    "\n",
    "Variables set in class body are class members\n",
    "\n",
    "Object members are initialized in constructor as `self.member = value`\n",
    "\n",
    "No member hiding!\n"
   ]
  },
  {
   "cell_type": "code",
   "execution_count": 1,
   "metadata": {
    "ExecuteTime": {
     "end_time": "2019-09-30T10:30:30.856442Z",
     "start_time": "2019-09-30T10:30:30.817799Z"
    }
   },
   "outputs": [],
   "source": [
    "class counter:\n",
    "        '''counter is a class used for counting'''\n",
    "        # number of counter objects\n",
    "        ncounter = 0\n",
    "        def __init__(self):\n",
    "                self.count = 0\n",
    "                print('__init__',self.ncounter) # read only access\n",
    "                # self.ncounter += 1 # tries to create a new member variable\n",
    "                counter.ncounter += 1\n",
    "        def get(self):\n",
    "                '''get the value of the counter'''\n",
    "                return self.count\n",
    "\n",
    "        def incr(self):\n",
    "                '''increment the counter\n",
    "only by one'''\n",
    "                self.count += 1\n",
    "                \n",
    "        #def __str__(self):\n",
    "        #    return 'counter: ' + str(self.count)\n",
    "        \n",
    "        def __repr__(self):\n",
    "            return '<object counter: ' + str(self.count) + '>'"
   ]
  },
  {
   "cell_type": "code",
   "execution_count": 2,
   "metadata": {
    "ExecuteTime": {
     "end_time": "2019-09-30T10:30:31.259112Z",
     "start_time": "2019-09-30T10:30:31.209330Z"
    }
   },
   "outputs": [
    {
     "name": "stdout",
     "output_type": "stream",
     "text": [
      "__init__ 0\n",
      "1 1\n",
      "<object counter: 1>\n"
     ]
    },
    {
     "data": {
      "text/plain": [
       "<object counter: 1>"
      ]
     },
     "execution_count": 2,
     "metadata": {},
     "output_type": "execute_result"
    }
   ],
   "source": [
    "c=counter()\n",
    "c.incr()\n",
    "c.get()\n",
    "print(counter.ncounter, c.get())\n",
    "print(c)\n",
    "c"
   ]
  },
  {
   "cell_type": "markdown",
   "metadata": {},
   "source": [
    "# Operator Overloading\n",
    "```\n",
    "x * y       x.__mult__(y)\n",
    "x / y       x.__truediv__(y)\n",
    "x // y      x.__floordiv(y)\n",
    "x > y      x.__gt__(y)\n",
    "x[y]       x.__getitem__(y)\n",
    "x[y]=z     x.__setitem__(y,z)\n",
    "del x[y]   x.__delitem__(y)\n",
    "x in y     x.__contains__(y)\n",
    "x += y     x.__iadd__(y)\n",
    "x.y        x.__getattribute__(y)\n",
    "x.y = z    x.__setattr__(y,z)\n",
    "del x.y    x.__delattr__(y)\n",
    "```\n",
    "\n"
   ]
  },
  {
   "cell_type": "code",
   "execution_count": 7,
   "metadata": {},
   "outputs": [],
   "source": [
    "class Compleks:\n",
    "    '''Alternative to complex to indicate operator overloading'''\n",
    "    def __init__(self, r=0.0,i=0.0):\n",
    "        self.real = r\n",
    "        self.img = i\n",
    "    def __add__(self,rhs):                         # x + y\n",
    "        return Compleks(self.real+rhs.real, self.img+rhs.img)\n",
    "    def __sub__(self,rhs):                         # x - y\n",
    "        return Compleks(self.real-rhs.real, self.img-rhs.img)\n",
    "    def __mul__(self,rhs):                         # x * y\n",
    "        return Compleks(self.real*rhs.real-self.img*rhs.img, self.img*rhs.real+rhs.img*self.real)\n",
    "    def __truediv__(self,rhs):                     # x / y\n",
    "        t = rhs.real**2 + rhs.img **2\n",
    "        return Compleks((self.real*rhs.real+self.img*rhs.img)/t, (self.img*rhs.real-rhs.img*self.real)/t)\n",
    "    def __eq__(self,rhs):                         # x == y\n",
    "        return self.real == rhs.real and self.img == rhs.img\n",
    "    def __ne__(self,rhs):                         # x != y\n",
    "        return not (self == rhs)\n",
    "    def __pow__(self,i):                         #  x ** n\n",
    "        if not isinstance(i,int):\n",
    "            return None\n",
    "        if i < 0:\n",
    "            return Compleks(1,0)/(self ** -i)\n",
    "        if i == 0:\n",
    "            return Compleks(1,0)\n",
    "        if i == 1:\n",
    "            return Compleks(self.real, self.img)\n",
    "        if i % 2 == 0:\n",
    "            nv = self ** (i // 2)\n",
    "            return nv*nv\n",
    "        else:\n",
    "            nv = self ** (i // 2)\n",
    "            return nv*nv*self            \n",
    "    def __repr__(self):                         # repr(x)\n",
    "        return str(self.real) + (\"-\" if self.img < 0 else \"+\") + str(abs(self.img)) + \"i\" "
   ]
  },
  {
   "cell_type": "code",
   "execution_count": 11,
   "metadata": {},
   "outputs": [
    {
     "name": "stdout",
     "output_type": "stream",
     "text": [
      "3+4i 2+3i\n",
      "5+7i\n",
      "-6+17i\n",
      "2.0+3.0i\n",
      "False True True\n",
      "91004468168113-28515500892816i\n",
      "-3+21i -63+16i 1.0+0.0i\n"
     ]
    }
   ],
   "source": [
    "a = Compleks(3,4)\n",
    "b = Compleks(2,3)\n",
    "print(a,b)\n",
    "print(a+b)\n",
    "c=a*b\n",
    "print(c)\n",
    "print(c/a)\n",
    "print(a==c,a==a,a != b)\n",
    "print(a**20)\n",
    "a+=c                 # maps to a = a + c --> a = a.__add__(c)\n",
    "b*=c\n",
    "c/=c\n",
    "print(a,b,c)\n"
   ]
  },
  {
   "cell_type": "code",
   "execution_count": 1,
   "metadata": {},
   "outputs": [],
   "source": [
    "class LList:\n",
    "    '''Linked list implementation. Each node is a binary list [value,next]'''\n",
    "    class Node:\n",
    "        '''Just illustrates nested classes'''\n",
    "        def __init__(self, v, n):\n",
    "            self.val = v\n",
    "            self.next = n\n",
    "        def __str__(self):\n",
    "            return \"( \" + str(self.val) + \", \" + str(self.next) + \" )\"\n",
    "            \n",
    "    def __init__(self,vals=[]):\n",
    "        self.head = self.last = None\n",
    "        for v in vals:\n",
    "            self.append(v)\n",
    "    def append(self,v):\n",
    "        if self.last == None:\n",
    "            # very first element\n",
    "            self.head = self.last = LList.Node(v,None)     # how to use nested classes!!\n",
    "        else:\n",
    "            self.last.next=LList.Node(v,None)\n",
    "            self.last = self.last.next\n",
    "    def __getitem__(self,no):\n",
    "        count = 0\n",
    "        ptr = self.head\n",
    "        while count < no:\n",
    "            if ptr:\n",
    "                ptr = ptr.next\n",
    "            else:\n",
    "                raise IndexError\n",
    "            count += 1\n",
    "        if ptr:\n",
    "            return ptr.val\n",
    "        else:\n",
    "            raise IndexError\n",
    "    def __setitem__(self,no,val):\n",
    "        count = 0\n",
    "        ptr = self.head\n",
    "        while count < no:\n",
    "            if ptr:\n",
    "                ptr = ptr.next\n",
    "            else:\n",
    "                raise IndexError\n",
    "            count += 1\n",
    "        if ptr:\n",
    "            ptr.val=val\n",
    "            return ptr.val\n",
    "        else:\n",
    "            raise IndexError\n",
    "    def __delitem__(self,no):\n",
    "        count = 0\n",
    "        prev = ptr = self.head\n",
    "        while count < no:\n",
    "            if ptr:\n",
    "                prev = ptr\n",
    "                ptr = ptr.next\n",
    "            else:\n",
    "                raise IndexError\n",
    "            count += 1\n",
    "        if ptr:\n",
    "            if ptr is self.head:\n",
    "                if self.head is self.last:\n",
    "                    self.head = self.last = None\n",
    "                else:\n",
    "                    self.head = self.head.next\n",
    "            else: \n",
    "                if ptr == self.last:\n",
    "                    self.last = prev\n",
    "                prev.next = ptr.next\n",
    "        else:\n",
    "            raise IndexError\n",
    "            \n",
    "            \n",
    "        "
   ]
  },
  {
   "cell_type": "code",
   "execution_count": 2,
   "metadata": {},
   "outputs": [
    {
     "name": "stdout",
     "output_type": "stream",
     "text": [
      "( 1, ( 2, ( 3, ( 4, ( 5, ( 2, ( 4, None ) ) ) ) ) ) ) ( 4, None )\n",
      "2 1 4 2\n",
      "( 1, ( 2, ( 3, ( 4, ( 5, ( 110, ( 4, None ) ) ) ) ) ) ) ( 4, None )\n",
      "( 2, ( 3, ( 4, ( 5, ( 110, None ) ) ) ) ) ( 110, None )\n"
     ]
    }
   ],
   "source": [
    "a=LList([1,2,3,4,5])\n",
    "a.append(2)\n",
    "a.append(4)\n",
    "print(a.head,a.last)\n",
    "print(a[1],a[0],a[3],a[5])\n",
    "a[5]=110\n",
    "print(a.head, a.last)\n",
    "del a[0]\n",
    "del a[5]\n",
    "print(a.head,a.last)"
   ]
  },
  {
   "cell_type": "markdown",
   "metadata": {},
   "source": [
    "# Writing Iterators\n",
    "Following loops are equivalent"
   ]
  },
  {
   "cell_type": "code",
   "execution_count": 17,
   "metadata": {},
   "outputs": [
    {
     "name": "stdout",
     "output_type": "stream",
     "text": [
      "1\n",
      "5\n",
      "6\n",
      "2\n",
      "1\n",
      "5\n",
      "6\n",
      "2\n"
     ]
    }
   ],
   "source": [
    "v = [1,5,6,2]\n",
    "for i in v:\n",
    "    #loop body\n",
    "    print(i)\n",
    "#--------------    \n",
    "vit = iter(v)\n",
    "try:\n",
    "    while True:\n",
    "        i = next(vit)\n",
    "        #loop body\n",
    "        print(i)\n",
    "except StopIteration:\n",
    "    pass   # do nothing"
   ]
  },
  {
   "cell_type": "markdown",
   "metadata": {},
   "source": [
    "## Fibonacci example"
   ]
  },
  {
   "cell_type": "code",
   "execution_count": 7,
   "metadata": {},
   "outputs": [],
   "source": [
    "class Fibonacci:\n",
    "    def __init__(self,n):\n",
    "        self.a, self.b = 0,1\n",
    "        self.icount = 0\n",
    "        self.n = n\n",
    "    def __iter__(self):\n",
    "        '''returning the iterator. Always returns the same iterator in this case'''\n",
    "        return self\n",
    "    def __next__(self):\n",
    "        self.icount += 1\n",
    "        if self.icount > self.n:\n",
    "            raise StopIteration\n",
    "        else:\n",
    "            self.a , self.b = self.b , self.a + self.b\n",
    "            return self.b"
   ]
  },
  {
   "cell_type": "code",
   "execution_count": 8,
   "metadata": {},
   "outputs": [
    {
     "name": "stdout",
     "output_type": "stream",
     "text": [
      "1\n",
      "2\n",
      "3\n",
      "5\n",
      "8\n",
      "13\n",
      "21\n",
      "34\n",
      "55\n",
      "89\n"
     ]
    }
   ],
   "source": [
    "for i in Fibonacci(10):\n",
    "    print(i)"
   ]
  },
  {
   "cell_type": "markdown",
   "metadata": {},
   "source": [
    "Returning same object in `__iter__` causes problems when same iterator is active multiple times"
   ]
  },
  {
   "cell_type": "code",
   "execution_count": 11,
   "metadata": {},
   "outputs": [
    {
     "name": "stdout",
     "output_type": "stream",
     "text": [
      "1 2 2\n",
      "1 3 3\n",
      "1 5 5\n",
      "1 8 8\n",
      "1 13 13\n",
      "----------------------------------------\n",
      "1 1 2\n",
      "1 2 3\n",
      "1 3 4\n",
      "1 5 6\n",
      "1 8 9\n",
      "2 1 3\n",
      "2 2 4\n",
      "2 3 5\n",
      "2 5 7\n",
      "2 8 10\n",
      "3 1 4\n",
      "3 2 5\n",
      "3 3 6\n",
      "3 5 8\n",
      "3 8 11\n",
      "5 1 6\n",
      "5 2 7\n",
      "5 3 8\n",
      "5 5 10\n",
      "5 8 13\n",
      "8 1 9\n",
      "8 2 10\n",
      "8 3 11\n",
      "8 5 13\n",
      "8 8 16\n"
     ]
    }
   ],
   "source": [
    "a=Fibonacci(6)\n",
    "for i in a:\n",
    "    for j in a:\n",
    "        print(i,j,i*j)\n",
    "print(\"-\" * 40)\n",
    "for i in Fibonacci(5):\n",
    "    for j in Fibonacci(5):\n",
    "        print(i,j,i+j)"
   ]
  },
  {
   "cell_type": "code",
   "execution_count": null,
   "metadata": {
    "collapsed": true
   },
   "outputs": [],
   "source": []
  },
  {
   "cell_type": "markdown",
   "metadata": {},
   "source": [
    "# Iterator for a Data Structure\n",
    "\n",
    "Implement `__iter__(self)`, `__next__(self)`, raise `StopIteration` at the end. Following is returning itself as the iterator which has problems."
   ]
  },
  {
   "cell_type": "code",
   "execution_count": 3,
   "metadata": {
    "ExecuteTime": {
     "end_time": "2023-10-13T11:47:05.376259Z",
     "start_time": "2023-10-13T11:47:05.364683Z"
    },
    "code_folding": [
     26,
     62,
     75,
     78
    ],
    "hide_input": false
   },
   "outputs": [],
   "source": [
    "class LList:\n",
    "    '''Linked list implementation. An iterator is added.'''\n",
    "    class Node:\n",
    "        def __init__(self, v,n):\n",
    "            self.val, self.next = v, n\n",
    "        def __str__(self):\n",
    "            return \"( \" + str(self.val) + \", \" + str(self.next) + \" )\"\n",
    "            \n",
    "    def __init__(self,vals=[]):\n",
    "        self.head = self.last = None\n",
    "        for v in vals:\n",
    "            self.append(v)\n",
    "    def append(self,v):\n",
    "        if self.last == None:\n",
    "            # very first element\n",
    "            self.head = self.last = LList.Node(v,None)\n",
    "        else:\n",
    "            self.last.next = LList.Node(v,None)\n",
    "            self.last = self.last.next\n",
    "    def __getitem__(self,no):\n",
    "        count = 0\n",
    "        ptr = self.head\n",
    "        while count < no:\n",
    "            if ptr:\n",
    "                ptr = ptr.next   # next\n",
    "            else:\n",
    "                raise IndexError\n",
    "            count += 1\n",
    "        if ptr:\n",
    "            return ptr.val\n",
    "        else:\n",
    "            raise IndexError\n",
    "    def __setitem__(self,no,val):\n",
    "        count = 0\n",
    "        ptr = self.head\n",
    "        while count < no:\n",
    "            if ptr:\n",
    "                ptr = ptr.next\n",
    "            else:\n",
    "                raise IndexError\n",
    "            count += 1\n",
    "        if ptr:\n",
    "            ptr.val=val\n",
    "            return ptr.val\n",
    "        else:\n",
    "            raise IndexError\n",
    "    def __delitem__(self,no):\n",
    "        count = 0\n",
    "        prev = ptr = self.head\n",
    "        while count < no:\n",
    "            if ptr:\n",
    "                prev = ptr\n",
    "                ptr = ptr.next\n",
    "            else:\n",
    "                raise IndexError\n",
    "            count += 1\n",
    "        if ptr:\n",
    "            if ptr is self.head:\n",
    "                if self.head is self.last:\n",
    "                    self.head = self.last = None\n",
    "                else:\n",
    "                    self.head = self.head.val\n",
    "            else: \n",
    "                if ptr == self.last:\n",
    "                    self.last = prev\n",
    "                prev.next = ptr.next\n",
    "        else:\n",
    "            raise IndexError\n",
    "    def __str__(self):\n",
    "        ret=\"[\"\n",
    "        ptr = self.head\n",
    "        while True:\n",
    "            if ptr:\n",
    "                ret += str(ptr.val)\n",
    "            else:\n",
    "                break\n",
    "            ptr = ptr.next\n",
    "            if ptr:\n",
    "                ret += \" -> \"\n",
    "        ret += ']\\n'\n",
    "        return ret\n",
    "    def __iter__(self):\n",
    "        self.itptr = self.head\n",
    "        return self\n",
    "    def __next__(self):\n",
    "        if self.itptr == None:\n",
    "            raise StopIteration\n",
    "        else:\n",
    "            val=self.itptr.val\n",
    "            self.itptr = self.itptr.next\n",
    "            return val\n"
   ]
  },
  {
   "cell_type": "code",
   "execution_count": 4,
   "metadata": {},
   "outputs": [
    {
     "name": "stdout",
     "output_type": "stream",
     "text": [
      "110\n",
      "[1 -> 2 -> 10 -> 5 -> 110]\n",
      "\n",
      "1\n",
      "2\n",
      "10\n",
      "5\n",
      "110\n"
     ]
    }
   ],
   "source": [
    "a=LList([1,2,3,4,5])\n",
    "a.append(110)\n",
    "a[2]=10\n",
    "del a[3]\n",
    "print(a[4])\n",
    "print(a)\n",
    "for i in a:\n",
    "        print(i)"
   ]
  },
  {
   "cell_type": "markdown",
   "metadata": {},
   "source": [
    "Iterator works in a single loop but when same structure is used multiple times:"
   ]
  },
  {
   "cell_type": "code",
   "execution_count": 3,
   "metadata": {
    "ExecuteTime": {
     "end_time": "2023-10-13T11:48:26.977496Z",
     "start_time": "2023-10-13T11:48:26.972540Z"
    }
   },
   "outputs": [
    {
     "name": "stdout",
     "output_type": "stream",
     "text": [
      "1 1 1\n",
      "1 2 2\n",
      "1 10 10\n",
      "1 5 5\n",
      "1 110 110\n"
     ]
    }
   ],
   "source": [
    "for i in a:\n",
    "    for j in a:\n",
    "        print(i,j,i*j)"
   ]
  },
  {
   "cell_type": "markdown",
   "metadata": {},
   "source": [
    "Fix. Return a distinct object per iterator request:"
   ]
  },
  {
   "cell_type": "code",
   "execution_count": 5,
   "metadata": {},
   "outputs": [],
   "source": [
    "class LList2:\n",
    "    '''Linked list implementation. Iterator reuse is fixed'''\n",
    "    class Node:\n",
    "        def __init__(self, v,n):\n",
    "            self.val, self.next = v, n\n",
    "        def __str__(self):\n",
    "            return \"( \" + str(self.val) + \", \" + str(self.next) + \" )\"\n",
    "        \n",
    "            \n",
    "    def __init__(self,vals=[]):\n",
    "        self.head = self.last = None\n",
    "        for v in vals:\n",
    "            self.append(v)\n",
    "            \n",
    "    def append(self,v):\n",
    "        if self.last == None:\n",
    "            # very first element\n",
    "            self.head = self.last = LList2.Node(v,None)\n",
    "        else:\n",
    "            self.last.next = LList2.Node(v,None)\n",
    "            self.last = self.last.next\n",
    "            \n",
    "    def __getitem__(self,no):\n",
    "        count = 0\n",
    "        ptr = self.head\n",
    "        while count < no:\n",
    "            if ptr:\n",
    "                ptr = ptr.next   # next\n",
    "            else:\n",
    "                raise IndexError\n",
    "            count += 1\n",
    "        if ptr:\n",
    "            return ptr.val\n",
    "        else:\n",
    "            raise IndexError\n",
    "            \n",
    "    def __setitem__(self,no,val):\n",
    "        count = 0\n",
    "        ptr = self.head\n",
    "        while count < no:\n",
    "            if ptr:\n",
    "                ptr = ptr.next\n",
    "            else:\n",
    "                raise IndexError\n",
    "            count += 1\n",
    "        if ptr:\n",
    "            ptr.val=val\n",
    "            return ptr.val\n",
    "        else:\n",
    "            raise IndexError\n",
    "            \n",
    "    def __delitem__(self,no):\n",
    "        count = 0\n",
    "        prev = ptr = self.head\n",
    "        while count < no:\n",
    "            if ptr:\n",
    "                prev = ptr\n",
    "                ptr = ptr.next\n",
    "            else:\n",
    "                raise IndexError\n",
    "            count += 1\n",
    "        if ptr:\n",
    "            if ptr is self.head:\n",
    "                if self.head is self.last:\n",
    "                    self.head = self.last = None\n",
    "                else:\n",
    "                    self.head = self.head.val\n",
    "            else: \n",
    "                if ptr == self.last:\n",
    "                    self.last = prev\n",
    "                prev.next = ptr.next\n",
    "        else:\n",
    "            raise IndexError\n",
    "            \n",
    "    def __str__(self):\n",
    "        ret=\"[\"\n",
    "        ptr = self.head\n",
    "        while True:\n",
    "            if ptr:\n",
    "                ret += str(ptr.val)\n",
    "            else:\n",
    "                break\n",
    "            ptr = ptr.next\n",
    "            if ptr:\n",
    "                ret += \" -> \"\n",
    "        ret += \"]\"\n",
    "        return ret\n",
    "    \n",
    "    def __iter__(self):\n",
    "        '''return a brand new iterator'''\n",
    "        return self.LListIterator(self)\n",
    "    \n",
    "    # yes, nested iterators possible\n",
    "    class LListIterator:\n",
    "        def __init__(self,llist):\n",
    "            self.llist = llist\n",
    "            self.itptr = llist.head\n",
    "            \n",
    "        def __next__(self):\n",
    "            if self.itptr == None:\n",
    "                raise StopIteration\n",
    "            else:\n",
    "                val=self.itptr.val\n",
    "                self.itptr = self.itptr.next\n",
    "                return val\n",
    "    \n"
   ]
  },
  {
   "cell_type": "code",
   "execution_count": 6,
   "metadata": {},
   "outputs": [
    {
     "name": "stdout",
     "output_type": "stream",
     "text": [
      "[1 -> 20 -> 10 -> 110]\n"
     ]
    }
   ],
   "source": [
    "a=LList2([1,20,32])\n",
    "a.append(110)\n",
    "a[2]=10\n",
    "print(a)"
   ]
  },
  {
   "cell_type": "code",
   "execution_count": 6,
   "metadata": {},
   "outputs": [
    {
     "name": "stdout",
     "output_type": "stream",
     "text": [
      "1 1 1\n",
      "1 20 20\n",
      "1 10 10\n",
      "1 110 110\n",
      "20 1 20\n",
      "20 20 400\n",
      "20 10 200\n",
      "20 110 2200\n",
      "10 1 10\n",
      "10 20 200\n",
      "10 10 100\n",
      "10 110 1100\n",
      "110 1 110\n",
      "110 20 2200\n",
      "110 10 1100\n",
      "110 110 12100\n"
     ]
    }
   ],
   "source": [
    "for i in a:\n",
    "    for j in a:\n",
    "        print(i,j,i*j)"
   ]
  },
  {
   "cell_type": "markdown",
   "metadata": {},
   "source": [
    "## An Iterator for a Tree\n",
    "\n",
    "Following is a Binary Search Tree implementation. Implementation of iterator is tricky. Because computation of next value of a value **v** requires a repeated search as \"find smallest element > **v**\". Which is possible but not time efficient. A solution is to use next pointers on each node which requires extra storage and insertion/deletion becomes complicated.\n",
    "\n",
    "## Generators\n",
    "\n",
    "A better solution is to use a generator. Generators are objects keeping the state of a computation independent from the current run time stack. You can go back to a generator, generator makes computation and yields back a value. The computation in the generator co exists with the existing computation. A recursive traversal like a tree is put into a generator in the following example. Any function using `yield` returns a `Generator` object immediately. When you\n",
    "call `next()` on a generator it will resume execution until it yields a value. When it yields execution returns to function calling `next()`.\n",
    "\n"
   ]
  },
  {
   "cell_type": "code",
   "execution_count": 15,
   "metadata": {},
   "outputs": [],
   "source": [
    "class BSTree:\n",
    "    def __init__(self):\n",
    "        self.node = None # empty tree\n",
    "    def __getitem__(self, key):\n",
    "        if self.node == None:\n",
    "            raise KeyError\n",
    "        elif key < self.node[0]:  # search in left\n",
    "            return self.left[key]\n",
    "        elif key > self.node[0]: # search in right\n",
    "            return self.right[key]\n",
    "        else:\n",
    "            return self.node[1]  # return node content\n",
    "\n",
    "    def __setitem__(self, key, val):\n",
    "        if self.node == None:\n",
    "            self.node = (key,val)\n",
    "            self.left = BSTree()\t# empty tree\n",
    "            self.right = BSTree()\t# empty tree\n",
    "        elif key < self.node[0]:\n",
    "            self.left[key] = val  # insert to left\n",
    "        elif key > self.node[0]:\n",
    "            self.right[key] = val # insert to right\n",
    "        else:\n",
    "            self.node = (key,val) # update node\n",
    "    def __str__(self):\n",
    "        if self.node == None:\n",
    "            return '*'\n",
    "        else:\n",
    "            return '[' + str(self.left) + ', ' + \\\n",
    "                str(self.node) + ', ' + \\\n",
    "                str(self.right) + ']'\n",
    "                \n",
    "    def traverse(self):\n",
    "        '''Generator function returning traverse'''\n",
    "        if self.node != None:\n",
    "            # this is how you recurse in generators\n",
    "            # > python 3.4  you can replace loop by:\n",
    "            #   yield from self.left.traverse()\n",
    "            # which is more efficient\n",
    "            #for vals in self.left.traverse():\n",
    "            #    yield vals\n",
    "            yield from self.left.traverse()\n",
    "            yield self.node\n",
    "            yield from self.right.traverse()\n",
    "            #for vals in self.right.traverse():\n",
    "            #    yield vals\n"
   ]
  },
  {
   "cell_type": "code",
   "execution_count": 16,
   "metadata": {},
   "outputs": [
    {
     "name": "stdout",
     "output_type": "stream",
     "text": [
      "[[[*, (2, 6), *], (4, 3), *], (5, 4), [[*, (7, 12), *], (8, 6), *]]\n",
      "value for 2 is  6\n"
     ]
    },
    {
     "data": {
      "text/plain": [
       "[(2, 6), (4, 3), (5, 4), (7, 12), (8, 6)]"
      ]
     },
     "execution_count": 16,
     "metadata": {},
     "output_type": "execute_result"
    }
   ],
   "source": [
    "c = BSTree()\n",
    "for (k,v) in [(5,4),(8,6),(4,3),(2,6),(7,12)]:\n",
    "\tc[k] = v\n",
    "print(str(c))\n",
    "print('value for 2 is ', str(c[2]))\n",
    "\n",
    "list(c.traverse())"
   ]
  },
  {
   "cell_type": "code",
   "execution_count": 18,
   "metadata": {},
   "outputs": [],
   "source": [
    "def fibonacci(n):\n",
    "    a,b = 0,1\n",
    "    counter = 0\n",
    "    while counter < n:\n",
    "        a,b = b, a+b\n",
    "        yield a\n",
    "        counter = counter+1\n",
    "        "
   ]
  },
  {
   "cell_type": "code",
   "execution_count": 19,
   "metadata": {},
   "outputs": [],
   "source": [
    "a=fibonacci(5)"
   ]
  },
  {
   "cell_type": "code",
   "execution_count": 20,
   "metadata": {},
   "outputs": [
    {
     "data": {
      "text/plain": [
       "1"
      ]
     },
     "execution_count": 20,
     "metadata": {},
     "output_type": "execute_result"
    }
   ],
   "source": [
    "next(a)"
   ]
  },
  {
   "cell_type": "code",
   "execution_count": 24,
   "metadata": {},
   "outputs": [
    {
     "name": "stdout",
     "output_type": "stream",
     "text": [
      "1 1 1\n",
      "1 2 2\n",
      "1 3 3\n",
      "1 5 5\n"
     ]
    }
   ],
   "source": [
    "a=fibonacci(5)\n",
    "for i in a:\n",
    "    for b in a:\n",
    "        print(i,b,i*b)\n"
   ]
  },
  {
   "cell_type": "code",
   "execution_count": 25,
   "metadata": {},
   "outputs": [
    {
     "name": "stdout",
     "output_type": "stream",
     "text": [
      "(2, 6)\n",
      "(4, 3)\n",
      "(5, 4)\n",
      "(7, 12)\n",
      "(8, 6)\n"
     ]
    }
   ],
   "source": [
    "for i in c.traverse():\n",
    "    print(i)"
   ]
  },
  {
   "cell_type": "code",
   "execution_count": 26,
   "metadata": {
    "ExecuteTime": {
     "end_time": "2023-10-13T11:56:36.562424Z",
     "start_time": "2023-10-13T11:56:36.554194Z"
    },
    "deletable": false,
    "editable": false
   },
   "outputs": [
    {
     "name": "stdout",
     "output_type": "stream",
     "text": [
      "(2, 6) (2, 6)\n",
      "(2, 6) (4, 3)\n",
      "(2, 6) (5, 4)\n",
      "(2, 6) (7, 12)\n",
      "(2, 6) (8, 6)\n",
      "(4, 3) (2, 6)\n",
      "(4, 3) (4, 3)\n",
      "(4, 3) (5, 4)\n",
      "(4, 3) (7, 12)\n",
      "(4, 3) (8, 6)\n",
      "(5, 4) (2, 6)\n",
      "(5, 4) (4, 3)\n",
      "(5, 4) (5, 4)\n",
      "(5, 4) (7, 12)\n",
      "(5, 4) (8, 6)\n",
      "(7, 12) (2, 6)\n",
      "(7, 12) (4, 3)\n",
      "(7, 12) (5, 4)\n",
      "(7, 12) (7, 12)\n",
      "(7, 12) (8, 6)\n",
      "(8, 6) (2, 6)\n",
      "(8, 6) (4, 3)\n",
      "(8, 6) (5, 4)\n",
      "(8, 6) (7, 12)\n",
      "(8, 6) (8, 6)\n"
     ]
    }
   ],
   "source": [
    "for i in c.traverse():\n",
    "    for j in c.traverse():\n",
    "        print(i,j)"
   ]
  },
  {
   "cell_type": "code",
   "execution_count": 27,
   "metadata": {},
   "outputs": [
    {
     "name": "stdout",
     "output_type": "stream",
     "text": [
      "[(2, 6), (4, 3), (5, 4), (7, 12), (8, 6)]\n",
      "(1, 1, 2, 3, 5, 8, 13, 21, 34, 55)\n"
     ]
    }
   ],
   "source": [
    "mylist=list(c.traverse())\n",
    "print(mylist)\n",
    "print( tuple(fibonacci(10)) )"
   ]
  },
  {
   "cell_type": "markdown",
   "metadata": {},
   "source": [
    "## General usage of iterators\n",
    "\n",
    "Iterators are used in many places for different objects like reading a file (following example), getting query results. Also many constructors or library functions use iteratable objects to get values like constructors (example above, `list` is initialized from tree traversal)."
   ]
  },
  {
   "cell_type": "code",
   "execution_count": 20,
   "metadata": {
    "ExecuteTime": {
     "end_time": "2023-10-13T11:57:42.431063Z",
     "start_time": "2023-10-13T11:57:42.426120Z"
    }
   },
   "outputs": [
    {
     "name": "stdout",
     "output_type": "stream",
     "text": [
      "# Internet (IP) protocols\n",
      "#\n",
      "# Updated from http://www.iana.org/assignments/protocol-numbers and other\n",
      "# sources.\n",
      "# New protocols will be added on request if they have been officially\n",
      "# assigned by IANA and are not historical.\n",
      "# If you need a huge list of used numbers please install the nmap package.\n",
      "\n",
      "ip\t0\tIP\t\t# internet protocol, pseudo protocol number\n",
      "hopopt\t0\tHOPOPT\t\t# IPv6 Hop-by-Hop Option [RFC1883]\n",
      "icmp\t1\tICMP\t\t# internet control message protocol\n",
      "igmp\t2\tIGMP\t\t# Internet Group Management\n",
      "ggp\t3\tGGP\t\t# gateway-gateway protocol\n",
      "ipencap\t4\tIP-ENCAP\t# IP encapsulated in IP (officially ``IP'')\n",
      "st\t5\tST\t\t# ST datagram mode\n",
      "tcp\t6\tTCP\t\t# transmission control protocol\n",
      "egp\t8\tEGP\t\t# exterior gateway protocol\n",
      "igp\t9\tIGP\t\t# any private interior gateway (Cisco)\n",
      "pup\t12\tPUP\t\t# PARC universal packet protocol\n",
      "udp\t17\tUDP\t\t# user datagram protocol\n",
      "hmp\t20\tHMP\t\t# host monitoring protocol\n",
      "xns-idp\t22\tXNS-IDP\t\t# Xerox NS IDP\n",
      "rdp\t27\tRDP\t\t# \"reliable datagram\" protocol\n",
      "iso-tp4\t29\tISO-TP4\t\t# ISO Transport Protocol class 4 [RFC905]\n",
      "dccp\t33\tDCCP\t\t# Datagram Congestion Control Prot. [RFC4340]\n",
      "xtp\t36\tXTP\t\t# Xpress Transfer Protocol\n",
      "ddp\t37\tDDP\t\t# Datagram Delivery Protocol\n",
      "idpr-cmtp 38\tIDPR-CMTP\t# IDPR Control Message Transport\n",
      "ipv6\t41\tIPv6\t\t# Internet Protocol, version 6\n",
      "ipv6-route 43\tIPv6-Route\t# Routing Header for IPv6\n",
      "ipv6-frag 44\tIPv6-Frag\t# Fragment Header for IPv6\n",
      "idrp\t45\tIDRP\t\t# Inter-Domain Routing Protocol\n",
      "rsvp\t46\tRSVP\t\t# Reservation Protocol\n",
      "gre\t47\tGRE\t\t# General Routing Encapsulation\n",
      "esp\t50\tIPSEC-ESP\t# Encap Security Payload [RFC2406]\n",
      "ah\t51\tIPSEC-AH\t# Authentication Header [RFC2402]\n",
      "skip\t57\tSKIP\t\t# SKIP\n",
      "ipv6-icmp 58\tIPv6-ICMP\t# ICMP for IPv6\n",
      "ipv6-nonxt 59\tIPv6-NoNxt\t# No Next Header for IPv6\n",
      "ipv6-opts 60\tIPv6-Opts\t# Destination Options for IPv6\n",
      "rspf\t73\tRSPF CPHB\t# Radio Shortest Path First (officially CPHB)\n",
      "vmtp\t81\tVMTP\t\t# Versatile Message Transport\n",
      "eigrp\t88\tEIGRP\t\t# Enhanced Interior Routing Protocol (Cisco)\n",
      "ospf\t89\tOSPFIGP\t\t# Open Shortest Path First IGP\n",
      "ax.25\t93\tAX.25\t\t# AX.25 frames\n",
      "ipip\t94\tIPIP\t\t# IP-within-IP Encapsulation Protocol\n",
      "etherip\t97\tETHERIP\t\t# Ethernet-within-IP Encapsulation [RFC3378]\n",
      "encap\t98\tENCAP\t\t# Yet Another IP encapsulation [RFC1241]\n",
      "#\t99\t\t\t# any private encryption scheme\n",
      "pim\t103\tPIM\t\t# Protocol Independent Multicast\n",
      "ipcomp\t108\tIPCOMP\t\t# IP Payload Compression Protocol\n",
      "vrrp\t112\tVRRP\t\t# Virtual Router Redundancy Protocol [RFC5798]\n",
      "l2tp\t115\tL2TP\t\t# Layer Two Tunneling Protocol [RFC2661]\n",
      "isis\t124\tISIS\t\t# IS-IS over IPv4\n",
      "sctp\t132\tSCTP\t\t# Stream Control Transmission Protocol\n",
      "fc\t133\tFC\t\t# Fibre Channel\n",
      "mobility-header 135 Mobility-Header # Mobility Support for IPv6 [RFC3775]\n",
      "udplite\t136\tUDPLite\t\t# UDP-Lite [RFC3828]\n",
      "mpls-in-ip 137\tMPLS-in-IP\t# MPLS-in-IP [RFC4023]\n",
      "manet\t138\t\t\t# MANET Protocols [RFC5498]\n",
      "hip\t139\tHIP\t\t# Host Identity Protocol\n",
      "shim6\t140\tShim6\t\t# Shim6 Protocol [RFC5533]\n",
      "wesp\t141\tWESP\t\t# Wrapped Encapsulating Security Payload\n",
      "rohc\t142\tROHC\t\t# Robust Header Compression\n",
      "ethernet 143\tEthernet\t# Ethernet encapsulation for SRv6 [RFC8986]\n",
      "# The following entries have not been assigned by IANA but are used\n",
      "# internally by the Linux kernel.\n",
      "mptcp\t262\tMPTCP\t\t# Multipath TCP connection\n"
     ]
    }
   ],
   "source": [
    "fp=open(\"/etc/protocols\",\"r\")\n",
    "for line in fp:\n",
    "    print(line,end='')"
   ]
  },
  {
   "cell_type": "markdown",
   "metadata": {},
   "source": [
    "## with ##\n",
    "\n",
    "Creates a context of execution for a block. Context block will have a object value that is only valid in the context. Context is initialized on entry, invalidated when context is over. Context can be over either when end of block is reached or there is an exception. In any case invalidation is done. This is useful in scenarios like:\n",
    "* File, network connection handlers.\n",
    "* Database connections\n",
    "* Concurrent code locks\n",
    "\n",
    "In this way, automatic closing of files, committing/rolling back database connection depending on success or exception within the block, releasing locks when critical regions are exited, are achieved."
   ]
  },
  {
   "cell_type": "code",
   "execution_count": 24,
   "metadata": {},
   "outputs": [
    {
     "name": "stdout",
     "output_type": "stream",
     "text": [
      "# Internet (IP) protocols\n"
     ]
    }
   ],
   "source": [
    "\n",
    "with open(\"/etc/protocols\",\"r\") as fp:\n",
    "    print(fp.readline(),end='')\n",
    "    #if ...\n",
    "    #    break\n",
    "    #elif ...\n",
    "    #    break\n",
    "    #.....\n",
    "\n",
    "    \n",
    "    "
   ]
  },
  {
   "cell_type": "code",
   "execution_count": 25,
   "metadata": {},
   "outputs": [
    {
     "ename": "ValueError",
     "evalue": "I/O operation on closed file.",
     "output_type": "error",
     "traceback": [
      "\u001b[0;31m---------------------------------------------------------------------------\u001b[0m",
      "\u001b[0;31mValueError\u001b[0m                                Traceback (most recent call last)",
      "\u001b[0;32m<ipython-input-25-4d0b66eada2a>\u001b[0m in \u001b[0;36m<module>\u001b[0;34m\u001b[0m\n\u001b[0;32m----> 1\u001b[0;31m \u001b[0mprint\u001b[0m\u001b[0;34m(\u001b[0m\u001b[0mfp\u001b[0m\u001b[0;34m.\u001b[0m\u001b[0mreadline\u001b[0m\u001b[0;34m(\u001b[0m\u001b[0;34m)\u001b[0m\u001b[0;34m)\u001b[0m\u001b[0;34m\u001b[0m\u001b[0;34m\u001b[0m\u001b[0m\n\u001b[0m",
      "\u001b[0;31mValueError\u001b[0m: I/O operation on closed file."
     ]
    }
   ],
   "source": [
    "print(fp.readline())"
   ]
  },
  {
   "cell_type": "code",
   "execution_count": 21,
   "metadata": {
    "ExecuteTime": {
     "end_time": "2023-10-13T12:03:25.759917Z",
     "start_time": "2023-10-13T12:03:25.754309Z"
    }
   },
   "outputs": [],
   "source": [
    "class F:\n",
    "    def __init__(self,x):\n",
    "        self.x = x\n",
    "    def __str__(self):\n",
    "        return str(self.x)\n",
    "    def __enter__(self):\n",
    "        print(\"entered:\",self.x)\n",
    "    def __exit__(self,extype,exval,traceback):\n",
    "        print(\"exitted:\",self.x,extype,exval,traceback)\n",
    "        #raise StopIteration "
   ]
  },
  {
   "cell_type": "code",
   "execution_count": 25,
   "metadata": {
    "ExecuteTime": {
     "end_time": "2023-10-13T12:04:48.948154Z",
     "start_time": "2023-10-13T12:04:48.942884Z"
    }
   },
   "outputs": [
    {
     "name": "stdout",
     "output_type": "stream",
     "text": [
      "entered: 10\n",
      "hello\n",
      "world\n",
      "exitted: 10 None None None\n"
     ]
    }
   ],
   "source": [
    "\n",
    "with F(10) as f:\n",
    "    print(\"hello\")\n",
    "    a={}\n",
    "    #print(a['no key like this'])\n",
    "    print(\"world\")"
   ]
  },
  {
   "cell_type": "code",
   "execution_count": null,
   "metadata": {},
   "outputs": [],
   "source": []
  },
  {
   "cell_type": "markdown",
   "metadata": {
    "deletable": false,
    "editable": false
   },
   "source": [
    "# Simple string processing"
   ]
  },
  {
   "cell_type": "code",
   "execution_count": 32,
   "metadata": {
    "ExecuteTime": {
     "end_time": "2023-10-13T12:09:58.374279Z",
     "start_time": "2023-10-13T12:09:58.369193Z"
    }
   },
   "outputs": [
    {
     "data": {
      "text/plain": [
       "str"
      ]
     },
     "execution_count": 32,
     "metadata": {},
     "output_type": "execute_result"
    }
   ],
   "source": [
    "type(\"abc\")"
   ]
  },
  {
   "cell_type": "code",
   "execution_count": 27,
   "metadata": {
    "ExecuteTime": {
     "end_time": "2023-10-13T12:06:54.929301Z",
     "start_time": "2023-10-13T12:06:54.923718Z"
    }
   },
   "outputs": [
    {
     "data": {
      "text/plain": [
       "['onur', 'tolga', 'sehitoglu']"
      ]
     },
     "execution_count": 27,
     "metadata": {},
     "output_type": "execute_result"
    }
   ],
   "source": [
    "a=\"onur tolga sehitoglu\"\n",
    "a.split(\" \")"
   ]
  },
  {
   "cell_type": "code",
   "execution_count": 30,
   "metadata": {
    "ExecuteTime": {
     "end_time": "2023-10-13T12:08:20.281702Z",
     "start_time": "2023-10-13T12:08:20.275689Z"
    }
   },
   "outputs": [
    {
     "data": {
      "text/plain": [
       "'1<->2<->3'"
      ]
     },
     "execution_count": 30,
     "metadata": {},
     "output_type": "execute_result"
    }
   ],
   "source": [
    "\"<->\".join((\"1\",\"2\",\"3\"))"
   ]
  },
  {
   "cell_type": "code",
   "execution_count": 38,
   "metadata": {},
   "outputs": [
    {
     "name": "stdout",
     "output_type": "stream",
     "text": [
      "rac ab\n"
     ]
    }
   ],
   "source": [
    "abra=\"abracadabra\"\n",
    "print(abra[2:5], abra[-4:-2])"
   ]
  },
  {
   "cell_type": "code",
   "execution_count": 42,
   "metadata": {},
   "outputs": [
    {
     "name": "stdout",
     "output_type": "stream",
     "text": [
      "onur tolga sehitoglu\n",
      "11\n",
      "-1\n",
      "16 0\n",
      "substring not found\n",
      "ONUR TOLGA SEHITOGLU\n"
     ]
    },
    {
     "data": {
      "text/plain": [
       "'ur tol'"
      ]
     },
     "execution_count": 42,
     "metadata": {},
     "output_type": "execute_result"
    }
   ],
   "source": [
    "print(a)\n",
    "print(a.find(\"sehit\"))\n",
    "print(a.find(\"nothing\"))  # returns -1\n",
    "print(a.rindex(\"o\"), a.index(\"o\"))   # right to left search\n",
    "try:\n",
    "    print(a.index(\"nothing\"))\n",
    "except ValueError as v:\n",
    "    print(v)\n",
    "print(a.upper())\n",
    "a[2:8]                  # substring"
   ]
  },
  {
   "cell_type": "markdown",
   "metadata": {},
   "source": [
    "# Formatted strings\n",
    "* old format: `%` operator, `format % (args)`\n",
    "* new format: `formatstring.format(args)`"
   ]
  },
  {
   "cell_type": "code",
   "execution_count": 43,
   "metadata": {},
   "outputs": [
    {
     "data": {
      "text/plain": [
       "'3 4           1.50                 onur'"
      ]
     },
     "execution_count": 43,
     "metadata": {},
     "output_type": "execute_result"
    }
   ],
   "source": [
    "\"%d %-10d %5.2f %20s\" % (3,4,1.5,\"onur\")"
   ]
  },
  {
   "cell_type": "code",
   "execution_count": 33,
   "metadata": {
    "ExecuteTime": {
     "end_time": "2023-10-13T12:13:58.994820Z",
     "start_time": "2023-10-13T12:13:58.989784Z"
    }
   },
   "outputs": [
    {
     "name": "stdout",
     "output_type": "stream",
     "text": [
      "3 { 4 onur }\n",
      "onur 4 3\n",
      "onur                 -          4.0    3\n"
     ]
    }
   ],
   "source": [
    "print(\"{} {{ {} {} }}\".format(3,4,\"onur\"))\n",
    "print(\"{2} {1} {0}\".format(3,4,\"onur\"))\n",
    "print(\"{2:20} - {1:12.4} {0:4}\".format(3,4.0,\"onur\"))"
   ]
  },
  {
   "cell_type": "code",
   "execution_count": 34,
   "metadata": {
    "ExecuteTime": {
     "end_time": "2023-10-13T12:13:59.748937Z",
     "start_time": "2023-10-13T12:13:59.743933Z"
    }
   },
   "outputs": [
    {
     "name": "stdout",
     "output_type": "stream",
     "text": [
      " hello tolga, onur;       50.2   \n"
     ]
    }
   ],
   "source": [
    "\"{0:5d} {1:5.2f} {2:20s} {surname} {name}\".format(3,4,\"onur\",\n",
    "                        name=\"cin\",surname=\"ali\")\n",
    "\n",
    "x = 50.2\n",
    "y = 3.4\n",
    "name = \"onur\"\n",
    "surname = \"tolga\"\n",
    "\n",
    "print(f' hello {surname}, {name}; {x:10.3}   ')"
   ]
  },
  {
   "cell_type": "markdown",
   "metadata": {},
   "source": [
    "# Array map and filter\n",
    "\n",
    "* `filter(f,iteratable)` returns an iterator giving only elements i returning True for f(i) \n",
    "* `map(f, iteratable)` returns an iterator giving f(i) for all elements\n",
    "* `[f(i) for i in iteratable]` also works similar to `map`\n",
    "* `[f(i) for i in iteratable if g(i)]` is general form\n"
   ]
  },
  {
   "cell_type": "code",
   "execution_count": 35,
   "metadata": {
    "ExecuteTime": {
     "end_time": "2023-10-13T12:18:59.413164Z",
     "start_time": "2023-10-13T12:18:59.408182Z"
    }
   },
   "outputs": [],
   "source": [
    "def myfilter(func, obj):\n",
    "    for v in obj:\n",
    "        if func(v):\n",
    "            yield v\n",
    "            \n",
    "def mymap(func, obj):\n",
    "    for v in obj:\n",
    "        yield func(v)"
   ]
  },
  {
   "cell_type": "code",
   "execution_count": 36,
   "metadata": {
    "ExecuteTime": {
     "end_time": "2023-10-13T12:18:59.980567Z",
     "start_time": "2023-10-13T12:18:59.974622Z"
    }
   },
   "outputs": [
    {
     "data": {
      "text/plain": [
       "[1, 2, 3, 4]"
      ]
     },
     "execution_count": 36,
     "metadata": {},
     "output_type": "execute_result"
    }
   ],
   "source": [
    "list(myfilter(lambda x:x<5, [1,2,3,4,5,6,7]))"
   ]
  },
  {
   "cell_type": "code",
   "execution_count": 37,
   "metadata": {
    "ExecuteTime": {
     "end_time": "2023-10-13T12:19:02.211870Z",
     "start_time": "2023-10-13T12:19:02.206352Z"
    }
   },
   "outputs": [
    {
     "data": {
      "text/plain": [
       "[1, 4, 9, 16, 25, 36, 49]"
      ]
     },
     "execution_count": 37,
     "metadata": {},
     "output_type": "execute_result"
    }
   ],
   "source": [
    "list(mymap(lambda x:x*x, [1,2,3,4,5,6,7]))"
   ]
  },
  {
   "cell_type": "code",
   "execution_count": 38,
   "metadata": {
    "ExecuteTime": {
     "end_time": "2023-10-13T12:19:02.721060Z",
     "start_time": "2023-10-13T12:19:02.710241Z"
    }
   },
   "outputs": [
    {
     "data": {
      "text/plain": [
       "'1:2:3:4:5:6:7'"
      ]
     },
     "execution_count": 38,
     "metadata": {},
     "output_type": "execute_result"
    }
   ],
   "source": [
    "\":\".join(map(str, [1,2,3,4,5,6,7]))"
   ]
  },
  {
   "cell_type": "code",
   "execution_count": 39,
   "metadata": {
    "ExecuteTime": {
     "end_time": "2023-10-13T12:19:04.256130Z",
     "start_time": "2023-10-13T12:19:04.251387Z"
    }
   },
   "outputs": [
    {
     "data": {
      "text/plain": [
       "'2:4:6'"
      ]
     },
     "execution_count": 39,
     "metadata": {},
     "output_type": "execute_result"
    }
   ],
   "source": [
    "\":\".join(map(str, filter(lambda x: x % 2 == 0,[1,2,3,4,5,6,7])))"
   ]
  },
  {
   "cell_type": "code",
   "execution_count": 40,
   "metadata": {
    "ExecuteTime": {
     "end_time": "2023-10-13T12:19:44.523385Z",
     "start_time": "2023-10-13T12:19:44.517263Z"
    }
   },
   "outputs": [
    {
     "name": "stdout",
     "output_type": "stream",
     "text": [
      "[4, 9, 25, 49, 121, 169, 289]\n",
      "[4, 9]\n",
      "[4, 6, 10, 14, 22, 26, 34, 6, 9, 15, 21, 33, 39, 51, 10, 15, 25, 35, 55, 65, 85, 14, 21, 35, 49, 77, 91, 119, 22, 33, 55, 77, 121, 143, 187, 26, 39, 65, 91, 143, 169, 221, 34, 51, 85, 119, 187, 221, 289]\n",
      "[(2, 3, 6), (2, 5, 10), (2, 7, 14), (2, 11, 22), (2, 13, 26), (2, 17, 34), (3, 5, 15), (3, 7, 21), (3, 11, 33), (3, 13, 39), (3, 17, 51), (5, 7, 35), (5, 11, 55), (5, 13, 65), (5, 17, 85), (7, 11, 77), (7, 13, 91), (7, 17, 119), (11, 13, 143), (11, 17, 187), (13, 17, 221)]\n",
      "{2: 17, 3: 17, 5: 17, 7: 17, 11: 17, 13: 17}\n",
      "{4, 6, 9, 10, 14, 15, 143, 21, 22, 25, 26, 33, 34, 35, 289, 39, 169, 49, 51, 55, 187, 65, 77, 85, 91, 221, 119, 121}\n"
     ]
    }
   ],
   "source": [
    "a=[2,3,5,7,11,13,17]\n",
    "print([i*i for i in a])\n",
    "print([i*i for i in a if i < 5])\n",
    "print([i*j for i in a for j in a])\n",
    "print([(i,j,i*j) for i in a for j in a if i < j])\n",
    "print({i:j for i in a for j in a if i < j})\n",
    "print({i*j for i in a for j in a})"
   ]
  },
  {
   "cell_type": "markdown",
   "metadata": {},
   "source": [
    "# File and I/O\n",
    "\n",
    "* `fp = open(path,\"rw\")` returns a file handle\n",
    "* `fp.readline()`  read a line\n",
    "* `fp.read(n)` read `n` bytes\n",
    "* `fp.read()` whole read\n",
    "* `fp.seek(n)` seek to a position in file\n",
    "* `fp.close()` close file\n",
    "* file handle is also an iterator, `next()` reads next line"
   ]
  },
  {
   "cell_type": "code",
   "execution_count": 6,
   "metadata": {},
   "outputs": [
    {
     "name": "stdout",
     "output_type": "stream",
     "text": [
      "32132141\n"
     ]
    }
   ],
   "source": [
    "input1=input()"
   ]
  },
  {
   "cell_type": "code",
   "execution_count": 7,
   "metadata": {},
   "outputs": [
    {
     "data": {
      "text/plain": [
       "'32132141'"
      ]
     },
     "execution_count": 7,
     "metadata": {},
     "output_type": "execute_result"
    }
   ],
   "source": [
    "input1"
   ]
  },
  {
   "cell_type": "code",
   "execution_count": 8,
   "metadata": {},
   "outputs": [],
   "source": [
    "fp=open(\"/etc/services\",\"r\")"
   ]
  },
  {
   "cell_type": "code",
   "execution_count": 9,
   "metadata": {},
   "outputs": [
    {
     "name": "stdout",
     "output_type": "stream",
     "text": [
      "# Network services, Internet style\n",
      "#\n",
      "# Note that it is presently the policy of IANA to assign a single well-known\n",
      "# port number for both TCP and UDP; hence, officially ports have two entries\n",
      "# even if the protocol doesn't support UDP operations.\n",
      "#\n",
      "# Updated from http://www.iana.org/assignments/port-numbers and other\n",
      "# sources like http://www.freebsd.org/cgi/cvsweb.cgi/src/etc/services .\n",
      "# New ports will be added on request if they have been officially assigned\n",
      "# by IANA and used in the real-world or are needed by a debian package.\n",
      "# If you need a huge list of used numbers please install the nmap package.\n",
      "\n",
      "tcpmux\t\t1/tcp\t\t\t\t# TCP port service multiplexer\n",
      "echo\t\t7/tcp\n",
      "echo\t\t7/udp\n",
      "discard\t\t9/tcp\t\tsink null\n",
      "discard\t\t9/udp\t\tsink null\n",
      "systat\t\t11/tcp\t\tusers\n",
      "daytime\t\t13/tcp\n",
      "daytime\t\t13/udp\n",
      "netstat\t\t15/tcp\n",
      "qotd\t\t17/tcp\t\tquote\n",
      "msp\t\t18/tcp\t\t\t\t# message send protocol\n",
      "msp\t\t18/udp\n",
      "chargen\t\t19/tcp\t\tttytst source\n",
      "chargen\t\t19/udp\t\tttytst source\n",
      "ftp-data\t20/tcp\n",
      "ftp\t\t21/tcp\n",
      "fsp\t\t21/udp\t\tfspd\n",
      "ssh\t\t22/tcp\t\t\t\t# SSH Remote Login Protocol\n",
      "telnet\t\t23/tcp\n",
      "smtp\t\t25/tcp\t\tmail\n",
      "time\t\t37/tcp\t\ttimserver\n",
      "time\t\t37/udp\t\ttimserver\n",
      "rlp\t\t39/udp\t\tresource\t# resource location\n",
      "nameserver\t42/tcp\t\tname\t\t# IEN 116\n",
      "whois\t\t43/tcp\t\tnicname\n",
      "tacacs\t\t49/tcp\t\t\t\t# Login Host Protocol (TACACS)\n",
      "tacacs\t\t49/udp\n",
      "re-mail-ck\t50/tcp\t\t\t\t# Remote Mail Checking Protocol\n",
      "re-mail-ck\t50/udp\n",
      "domain\t\t53/tcp\t\t\t\t# Domain Name Server\n",
      "domain\t\t53/udp\n",
      "tacacs-ds\t65/tcp\t\t\t\t# TACACS-Database Service\n",
      "tacacs-ds\t65/udp\n",
      "bootps\t\t67/tcp\t\t\t\t# BOOTP server\n",
      "bootps\t\t67/udp\n",
      "bootpc\t\t68/tcp\t\t\t\t# BOOTP client\n",
      "bootpc\t\t68/udp\n",
      "tftp\t\t69/udp\n",
      "gopher\t\t70/tcp\t\t\t\t# Internet Gopher\n",
      "finger\t\t79/tcp\n",
      "http\t\t80/tcp\t\twww\t\t# WorldWideWeb HTTP\n",
      "link\t\t87/tcp\t\tttylink\n",
      "kerberos\t88/tcp\t\tkerberos5 krb5 kerberos-sec\t# Kerberos v5\n",
      "kerberos\t88/udp\t\tkerberos5 krb5 kerberos-sec\t# Kerberos v5\n",
      "supdup\t\t95/tcp\n",
      "hostnames\t101/tcp\t\thostname\t# usually from sri-nic\n",
      "iso-tsap\t102/tcp\t\ttsap\t\t# part of ISODE\n",
      "acr-nema\t104/tcp\t\tdicom\t\t# Digital Imag. & Comm. 300\n",
      "acr-nema\t104/udp\t\tdicom\n",
      "csnet-ns\t105/tcp\t\tcso-ns\t\t# also used by CSO name server\n",
      "csnet-ns\t105/udp\t\tcso-ns\n",
      "rtelnet\t\t107/tcp\t\t\t\t# Remote Telnet\n",
      "rtelnet\t\t107/udp\n",
      "pop3\t\t110/tcp\t\tpop-3\t\t# POP version 3\n",
      "sunrpc\t\t111/tcp\t\tportmapper\t# RPC 4.0 portmapper\n",
      "sunrpc\t\t111/udp\t\tportmapper\n",
      "auth\t\t113/tcp\t\tauthentication tap ident\n",
      "sftp\t\t115/tcp\n",
      "nntp\t\t119/tcp\t\treadnews untp\t# USENET News Transfer Protocol\n",
      "ntp\t\t123/tcp\n",
      "ntp\t\t123/udp\t\t\t\t# Network Time Protocol\n",
      "pwdgen\t\t129/tcp\t\t\t\t# PWDGEN service\n",
      "pwdgen\t\t129/udp\n",
      "loc-srv\t\t135/tcp\t\tepmap\t\t# Location Service\n",
      "loc-srv\t\t135/udp\t\tepmap\n",
      "netbios-ns\t137/tcp\t\t\t\t# NETBIOS Name Service\n",
      "netbios-ns\t137/udp\n",
      "netbios-dgm\t138/tcp\t\t\t\t# NETBIOS Datagram Service\n",
      "netbios-dgm\t138/udp\n",
      "netbios-ssn\t139/tcp\t\t\t\t# NETBIOS session service\n",
      "netbios-ssn\t139/udp\n",
      "imap2\t\t143/tcp\t\timap\t\t# Interim Mail Access P 2 and 4\n",
      "snmp\t\t161/tcp\t\t\t\t# Simple Net Mgmt Protocol\n",
      "snmp\t\t161/udp\n",
      "snmp-trap\t162/tcp\t\tsnmptrap\t# Traps for SNMP\n",
      "snmp-trap\t162/udp\t\tsnmptrap\n",
      "cmip-man\t163/tcp\t\t\t\t# ISO mgmt over IP (CMOT)\n",
      "cmip-man\t163/udp\n",
      "cmip-agent\t164/tcp\n",
      "cmip-agent\t164/udp\n",
      "mailq\t\t174/tcp\t\t\t# Mailer transport queue for Zmailer\n",
      "mailq\t\t174/udp\n",
      "xdmcp\t\t177/tcp\t\t\t\t# X Display Mgr. Control Proto\n",
      "xdmcp\t\t177/udp\n",
      "nextstep\t178/tcp\t\tNeXTStep NextStep\t# NeXTStep window\n",
      "nextstep\t178/udp\t\tNeXTStep NextStep\t#  server\n",
      "bgp\t\t179/tcp\t\t\t\t# Border Gateway Protocol\n",
      "irc\t\t194/tcp\t\t\t\t# Internet Relay Chat\n",
      "irc\t\t194/udp\n",
      "smux\t\t199/tcp\t\t\t\t# SNMP Unix Multiplexer\n",
      "smux\t\t199/udp\n",
      "at-rtmp\t\t201/tcp\t\t\t\t# AppleTalk routing\n",
      "at-rtmp\t\t201/udp\n",
      "at-nbp\t\t202/tcp\t\t\t\t# AppleTalk name binding\n",
      "at-nbp\t\t202/udp\n",
      "at-echo\t\t204/tcp\t\t\t\t# AppleTalk echo\n",
      "at-echo\t\t204/udp\n",
      "at-zis\t\t206/tcp\t\t\t\t# AppleTalk zone information\n",
      "at-zis\t\t206/udp\n",
      "qmtp\t\t209/tcp\t\t\t\t# Quick Mail Transfer Protocol\n",
      "qmtp\t\t209/udp\n",
      "z3950\t\t210/tcp\t\twais\t\t# NISO Z39.50 database\n",
      "z3950\t\t210/udp\t\twais\n",
      "ipx\t\t213/tcp\t\t\t\t# IPX\n",
      "ipx\t\t213/udp\n",
      "pawserv\t\t345/tcp\t\t\t\t# Perf Analysis Workbench\n",
      "pawserv\t\t345/udp\n",
      "zserv\t\t346/tcp\t\t\t\t# Zebra server\n",
      "zserv\t\t346/udp\n",
      "fatserv\t\t347/tcp\t\t\t\t# Fatmen Server\n",
      "fatserv\t\t347/udp\n",
      "rpc2portmap\t369/tcp\n",
      "rpc2portmap\t369/udp\t\t\t\t# Coda portmapper\n",
      "codaauth2\t370/tcp\n",
      "codaauth2\t370/udp\t\t\t\t# Coda authentication server\n",
      "clearcase\t371/tcp\t\tClearcase\n",
      "clearcase\t371/udp\t\tClearcase\n",
      "ulistserv\t372/tcp\t\t\t\t# UNIX Listserv\n",
      "ulistserv\t372/udp\n",
      "ldap\t\t389/tcp\t\t\t# Lightweight Directory Access Protocol\n",
      "ldap\t\t389/udp\n",
      "imsp\t\t406/tcp\t\t\t# Interactive Mail Support Protocol\n",
      "imsp\t\t406/udp\n",
      "svrloc\t\t427/tcp\t\t\t\t# Server Location\n",
      "svrloc\t\t427/udp\n",
      "https\t\t443/tcp\t\t\t\t# http protocol over TLS/SSL\n",
      "snpp\t\t444/tcp\t\t\t\t# Simple Network Paging Protocol\n",
      "snpp\t\t444/udp\n",
      "microsoft-ds\t445/tcp\t\t\t\t# Microsoft Naked CIFS\n",
      "microsoft-ds\t445/udp\n",
      "kpasswd\t\t464/tcp\n",
      "kpasswd\t\t464/udp\n",
      "urd\t\t465/tcp\t\tssmtp smtps  # URL Rendesvous Directory for SSM\n",
      "saft\t\t487/tcp\t\t\t# Simple Asynchronous File Transfer\n",
      "saft\t\t487/udp\n",
      "isakmp\t\t500/tcp\t\t\t# IPsec - Internet Security Association\n",
      "isakmp\t\t500/udp\t\t\t#  and Key Management Protocol\n",
      "rtsp\t\t554/tcp\t\t\t# Real Time Stream Control Protocol\n",
      "rtsp\t\t554/udp\n",
      "nqs\t\t607/tcp\t\t\t\t# Network Queuing system\n",
      "nqs\t\t607/udp\n",
      "npmp-local\t610/tcp\t\tdqs313_qmaster\t\t# npmp-local / DQS\n",
      "npmp-local\t610/udp\t\tdqs313_qmaster\n",
      "npmp-gui\t611/tcp\t\tdqs313_execd\t\t# npmp-gui / DQS\n",
      "npmp-gui\t611/udp\t\tdqs313_execd\n",
      "hmmp-ind\t612/tcp\t\tdqs313_intercell\t# HMMP Indication / DQS\n",
      "hmmp-ind\t612/udp\t\tdqs313_intercell\n",
      "asf-rmcp\t623/udp\t\t# ASF Remote Management and Control Protocol\n",
      "qmqp\t\t628/tcp\n",
      "qmqp\t\t628/udp\n",
      "ipp\t\t631/tcp\t\t\t\t# Internet Printing Protocol\n",
      "ipp\t\t631/udp\n",
      "#\n",
      "# UNIX specific services\n",
      "#\n",
      "exec\t\t512/tcp\n",
      "biff\t\t512/udp\t\tcomsat\n",
      "login\t\t513/tcp\n",
      "who\t\t513/udp\t\twhod\n",
      "shell\t\t514/tcp\t\tcmd\t\t# no passwords used\n",
      "syslog\t\t514/udp\n",
      "printer\t\t515/tcp\t\tspooler\t\t# line printer spooler\n",
      "talk\t\t517/udp\n",
      "ntalk\t\t518/udp\n",
      "route\t\t520/udp\t\trouter routed\t# RIP\n",
      "timed\t\t525/udp\t\ttimeserver\n",
      "tempo\t\t526/tcp\t\tnewdate\n",
      "courier\t\t530/tcp\t\trpc\n",
      "conference\t531/tcp\t\tchat\n",
      "netnews\t\t532/tcp\t\treadnews\n",
      "netwall\t\t533/udp\t\t\t\t# for emergency broadcasts\n",
      "gdomap\t\t538/tcp\t\t\t\t# GNUstep distributed objects\n",
      "gdomap\t\t538/udp\n",
      "uucp\t\t540/tcp\t\tuucpd\t\t# uucp daemon\n",
      "klogin\t\t543/tcp\t\t\t\t# Kerberized `rlogin' (v5)\n",
      "kshell\t\t544/tcp\t\tkrcmd\t\t# Kerberized `rsh' (v5)\n",
      "dhcpv6-client\t546/tcp\n",
      "dhcpv6-client\t546/udp\n",
      "dhcpv6-server\t547/tcp\n",
      "dhcpv6-server\t547/udp\n",
      "afpovertcp\t548/tcp\t\t\t\t# AFP over TCP\n",
      "afpovertcp\t548/udp\n",
      "idfp\t\t549/tcp\n",
      "idfp\t\t549/udp\n",
      "remotefs\t556/tcp\t\trfs_server rfs\t# Brunhoff remote filesystem\n",
      "nntps\t\t563/tcp\t\tsnntp\t\t# NNTP over SSL\n",
      "submission\t587/tcp\t\t\t\t# Submission [RFC4409]\n",
      "ldaps\t\t636/tcp\t\t\t\t# LDAP over SSL\n",
      "ldaps\t\t636/udp\n",
      "tinc\t\t655/tcp\t\t\t\t# tinc control port\n",
      "tinc\t\t655/udp\n",
      "silc\t\t706/tcp\n",
      "silc\t\t706/udp\n",
      "kerberos-adm\t749/tcp\t\t\t\t# Kerberos `kadmin' (v5)\n",
      "#\n",
      "webster\t\t765/tcp\t\t\t\t# Network dictionary\n",
      "webster\t\t765/udp\n",
      "rsync\t\t873/tcp\n",
      "ftps-data\t989/tcp\t\t\t\t# FTP over SSL (data)\n",
      "ftps\t\t990/tcp\n",
      "telnets\t\t992/tcp\t\t\t\t# Telnet over SSL\n",
      "imaps\t\t993/tcp\t\t\t\t# IMAP over SSL\n",
      "pop3s\t\t995/tcp\t\t\t\t# POP-3 over SSL\n",
      "#\n",
      "# From ``Assigned Numbers'':\n",
      "#\n",
      "#> The Registered Ports are not controlled by the IANA and on most systems\n",
      "#> can be used by ordinary user processes or programs executed by ordinary\n",
      "#> users.\n",
      "#\n",
      "#> Ports are used in the TCP [45,106] to name the ends of logical\n",
      "#> connections which carry long term conversations.  For the purpose of\n",
      "#> providing services to unknown callers, a service contact port is\n",
      "#> defined.  This list specifies the port used by the server process as its\n",
      "#> contact port.  While the IANA can not control uses of these ports it\n",
      "#> does register or list uses of these ports as a convienence to the\n",
      "#> community.\n",
      "#\n",
      "socks\t\t1080/tcp\t\t\t# socks proxy server\n",
      "socks\t\t1080/udp\n",
      "proofd\t\t1093/tcp\n",
      "proofd\t\t1093/udp\n",
      "rootd\t\t1094/tcp\n",
      "rootd\t\t1094/udp\n",
      "openvpn\t\t1194/tcp\n",
      "openvpn\t\t1194/udp\n",
      "rmiregistry\t1099/tcp\t\t\t# Java RMI Registry\n",
      "rmiregistry\t1099/udp\n",
      "kazaa\t\t1214/tcp\n",
      "kazaa\t\t1214/udp\n",
      "nessus\t\t1241/tcp\t\t\t# Nessus vulnerability\n",
      "nessus\t\t1241/udp\t\t\t#  assessment scanner\n",
      "lotusnote\t1352/tcp\tlotusnotes\t# Lotus Note\n",
      "lotusnote\t1352/udp\tlotusnotes\n",
      "ms-sql-s\t1433/tcp\t\t\t# Microsoft SQL Server\n",
      "ms-sql-s\t1433/udp\n",
      "ms-sql-m\t1434/tcp\t\t\t# Microsoft SQL Monitor\n",
      "ms-sql-m\t1434/udp\n",
      "ingreslock\t1524/tcp\n",
      "ingreslock\t1524/udp\n",
      "datametrics\t1645/tcp\told-radius\n",
      "datametrics\t1645/udp\told-radius\n",
      "sa-msg-port\t1646/tcp\told-radacct\n",
      "sa-msg-port\t1646/udp\told-radacct\n",
      "kermit\t\t1649/tcp\n",
      "kermit\t\t1649/udp\n",
      "groupwise\t1677/tcp\n",
      "groupwise\t1677/udp\n",
      "l2f\t\t1701/tcp\tl2tp\n",
      "l2f\t\t1701/udp\tl2tp\n",
      "radius\t\t1812/tcp\n",
      "radius\t\t1812/udp\n",
      "radius-acct\t1813/tcp\tradacct\t\t# Radius Accounting\n",
      "radius-acct\t1813/udp\tradacct\n",
      "msnp\t\t1863/tcp\t\t\t# MSN Messenger\n",
      "msnp\t\t1863/udp\n",
      "unix-status\t1957/tcp\t\t\t# remstats unix-status server\n",
      "log-server\t1958/tcp\t\t\t# remstats log server\n",
      "remoteping\t1959/tcp\t\t\t# remstats remoteping server\n",
      "cisco-sccp\t2000/tcp\t\t\t# Cisco SCCP\n",
      "cisco-sccp\t2000/udp\n",
      "search\t\t2010/tcp\tndtp\n",
      "pipe-server\t2010/tcp\tpipe_server\n",
      "nfs\t\t2049/tcp\t\t\t# Network File System\n",
      "nfs\t\t2049/udp\t\t\t# Network File System\n",
      "gnunet\t\t2086/tcp\n",
      "gnunet\t\t2086/udp\n",
      "rtcm-sc104\t2101/tcp\t\t\t# RTCM SC-104 IANA 1/29/99\n",
      "rtcm-sc104\t2101/udp\n",
      "gsigatekeeper\t2119/tcp\n",
      "gsigatekeeper\t2119/udp\n",
      "gris\t\t2135/tcp\t\t# Grid Resource Information Server\n",
      "gris\t\t2135/udp\n",
      "cvspserver\t2401/tcp\t\t\t# CVS client/server operations\n",
      "cvspserver\t2401/udp\n",
      "venus\t\t2430/tcp\t\t\t# codacon port\n",
      "venus\t\t2430/udp\t\t\t# Venus callback/wbc interface\n",
      "venus-se\t2431/tcp\t\t\t# tcp side effects\n",
      "venus-se\t2431/udp\t\t\t# udp sftp side effect\n",
      "codasrv\t\t2432/tcp\t\t\t# not used\n",
      "codasrv\t\t2432/udp\t\t\t# server port\n",
      "codasrv-se\t2433/tcp\t\t\t# tcp side effects\n",
      "codasrv-se\t2433/udp\t\t\t# udp sftp side effect\n",
      "mon\t\t2583/tcp\t\t\t# MON traps\n",
      "mon\t\t2583/udp\n",
      "dict\t\t2628/tcp\t\t\t# Dictionary server\n",
      "dict\t\t2628/udp\n",
      "f5-globalsite\t2792/tcp\n",
      "f5-globalsite\t2792/udp\n",
      "gsiftp\t\t2811/tcp\n",
      "gsiftp\t\t2811/udp\n",
      "gpsd\t\t2947/tcp\n",
      "gpsd\t\t2947/udp\n",
      "gds-db\t\t3050/tcp\tgds_db\t\t# InterBase server\n",
      "gds-db\t\t3050/udp\tgds_db\n",
      "icpv2\t\t3130/tcp\ticp\t\t# Internet Cache Protocol\n",
      "icpv2\t\t3130/udp\ticp\n",
      "isns\t\t3205/tcp\t\t\t# iSNS Server Port\n",
      "isns\t\t3205/udp\t\t\t# iSNS Server Port\n",
      "iscsi-target\t3260/tcp\n",
      "mysql\t\t3306/tcp\n",
      "mysql\t\t3306/udp\n",
      "nut\t\t3493/tcp\t\t\t# Network UPS Tools\n",
      "nut\t\t3493/udp\n",
      "distcc\t\t3632/tcp\t\t\t# distributed compiler\n",
      "distcc\t\t3632/udp\n",
      "daap\t\t3689/tcp\t\t\t# Digital Audio Access Protocol\n",
      "daap\t\t3689/udp\n",
      "svn\t\t3690/tcp\tsubversion\t# Subversion protocol\n",
      "svn\t\t3690/udp\tsubversion\n",
      "suucp\t\t4031/tcp\t\t\t# UUCP over SSL\n",
      "suucp\t\t4031/udp\n",
      "sysrqd\t\t4094/tcp\t\t\t# sysrq daemon\n",
      "sysrqd\t\t4094/udp\n",
      "sieve\t\t4190/tcp\t\t\t# ManageSieve Protocol\n",
      "epmd\t\t4369/tcp\t\t\t# Erlang Port Mapper Daemon\n",
      "epmd\t\t4369/udp\n",
      "remctl\t\t4373/tcp\t\t# Remote Authenticated Command Service\n",
      "remctl\t\t4373/udp\n",
      "f5-iquery\t4353/tcp\t\t\t# F5 iQuery\n",
      "f5-iquery\t4353/udp\n",
      "ipsec-nat-t\t4500/udp\t\t\t# IPsec NAT-Traversal [RFC3947]\n",
      "iax\t\t4569/tcp\t\t\t# Inter-Asterisk eXchange\n",
      "iax\t\t4569/udp\n",
      "mtn\t\t4691/tcp\t\t\t# monotone Netsync Protocol\n",
      "mtn\t\t4691/udp\n",
      "radmin-port\t4899/tcp\t\t\t# RAdmin Port\n",
      "radmin-port\t4899/udp\n",
      "rfe\t\t5002/udp\t\t\t# Radio Free Ethernet\n",
      "rfe\t\t5002/tcp\n",
      "mmcc\t\t5050/tcp\t# multimedia conference control tool (Yahoo IM)\n",
      "mmcc\t\t5050/udp\n",
      "sip\t\t5060/tcp\t\t\t# Session Initiation Protocol\n",
      "sip\t\t5060/udp\n",
      "sip-tls\t\t5061/tcp\n",
      "sip-tls\t\t5061/udp\n",
      "aol\t\t5190/tcp\t\t\t# AIM\n",
      "aol\t\t5190/udp\n",
      "xmpp-client\t5222/tcp\tjabber-client\t# Jabber Client Connection\n",
      "xmpp-client\t5222/udp\tjabber-client\n",
      "xmpp-server\t5269/tcp\tjabber-server\t# Jabber Server Connection\n",
      "xmpp-server\t5269/udp\tjabber-server\n",
      "cfengine\t5308/tcp\n",
      "cfengine\t5308/udp\n",
      "mdns\t\t5353/tcp\t\t\t# Multicast DNS\n",
      "mdns\t\t5353/udp\n",
      "postgresql\t5432/tcp\tpostgres\t# PostgreSQL Database\n",
      "postgresql\t5432/udp\tpostgres\n",
      "freeciv\t\t5556/tcp\trptp\t\t# Freeciv gameplay\n",
      "freeciv\t\t5556/udp\n",
      "amqps\t\t5671/tcp\t\t\t# AMQP protocol over TLS/SSL\n",
      "amqp\t\t5672/tcp\n",
      "amqp\t\t5672/udp\n",
      "amqp\t\t5672/sctp\n",
      "ggz\t\t5688/tcp\t\t\t# GGZ Gaming Zone\n",
      "ggz\t\t5688/udp\n",
      "x11\t\t6000/tcp\tx11-0\t\t# X Window System\n",
      "x11\t\t6000/udp\tx11-0\n",
      "x11-1\t\t6001/tcp\n",
      "x11-1\t\t6001/udp\n",
      "x11-2\t\t6002/tcp\n",
      "x11-2\t\t6002/udp\n",
      "x11-3\t\t6003/tcp\n",
      "x11-3\t\t6003/udp\n",
      "x11-4\t\t6004/tcp\n",
      "x11-4\t\t6004/udp\n",
      "x11-5\t\t6005/tcp\n",
      "x11-5\t\t6005/udp\n",
      "x11-6\t\t6006/tcp\n",
      "x11-6\t\t6006/udp\n",
      "x11-7\t\t6007/tcp\n",
      "x11-7\t\t6007/udp\n",
      "gnutella-svc\t6346/tcp\t\t\t# gnutella\n",
      "gnutella-svc\t6346/udp\n",
      "gnutella-rtr\t6347/tcp\t\t\t# gnutella\n",
      "gnutella-rtr\t6347/udp\n",
      "sge-qmaster\t6444/tcp\tsge_qmaster\t# Grid Engine Qmaster Service\n",
      "sge-qmaster\t6444/udp\tsge_qmaster\n",
      "sge-execd\t6445/tcp\tsge_execd\t# Grid Engine Execution Service\n",
      "sge-execd\t6445/udp\tsge_execd\n",
      "mysql-proxy\t6446/tcp\t\t\t# MySQL Proxy\n",
      "mysql-proxy\t6446/udp\n",
      "babel\t\t6696/udp\t\t\t# Babel Routing Protocol\n",
      "ircs-u\t\t6697/tcp\t\t# Internet Relay Chat via TLS/SSL\n",
      "afs3-fileserver 7000/tcp\tbbs\t\t# file server itself\n",
      "afs3-fileserver 7000/udp\tbbs\n",
      "afs3-callback\t7001/tcp\t\t\t# callbacks to cache managers\n",
      "afs3-callback\t7001/udp\n",
      "afs3-prserver\t7002/tcp\t\t\t# users & groups database\n",
      "afs3-prserver\t7002/udp\n",
      "afs3-vlserver\t7003/tcp\t\t\t# volume location database\n",
      "afs3-vlserver\t7003/udp\n",
      "afs3-kaserver\t7004/tcp\t\t\t# AFS/Kerberos authentication\n",
      "afs3-kaserver\t7004/udp\n",
      "afs3-volser\t7005/tcp\t\t\t# volume managment server\n",
      "afs3-volser\t7005/udp\n",
      "afs3-errors\t7006/tcp\t\t\t# error interpretation service\n",
      "afs3-errors\t7006/udp\n",
      "afs3-bos\t7007/tcp\t\t\t# basic overseer process\n",
      "afs3-bos\t7007/udp\n",
      "afs3-update\t7008/tcp\t\t\t# server-to-server updater\n",
      "afs3-update\t7008/udp\n",
      "afs3-rmtsys\t7009/tcp\t\t\t# remote cache manager service\n",
      "afs3-rmtsys\t7009/udp\n",
      "font-service\t7100/tcp\txfs\t\t# X Font Service\n",
      "font-service\t7100/udp\txfs\n",
      "http-alt\t8080/tcp\twebcache\t# WWW caching service\n",
      "http-alt\t8080/udp\n",
      "puppet\t\t8140/tcp\t\t\t# The Puppet master service\n",
      "bacula-dir\t9101/tcp\t\t\t# Bacula Director\n",
      "bacula-dir\t9101/udp\n",
      "bacula-fd\t9102/tcp\t\t\t# Bacula File Daemon\n",
      "bacula-fd\t9102/udp\n",
      "bacula-sd\t9103/tcp\t\t\t# Bacula Storage Daemon\n",
      "bacula-sd\t9103/udp\n",
      "xmms2\t\t9667/tcp\t# Cross-platform Music Multiplexing System\n",
      "xmms2\t\t9667/udp\n",
      "nbd\t\t10809/tcp\t\t\t# Linux Network Block Device\n",
      "zabbix-agent\t10050/tcp\t\t\t# Zabbix Agent\n",
      "zabbix-agent\t10050/udp\n",
      "zabbix-trapper\t10051/tcp\t\t\t# Zabbix Trapper\n",
      "zabbix-trapper\t10051/udp\n",
      "amanda\t\t10080/tcp\t\t\t# amanda backup services\n",
      "amanda\t\t10080/udp\n",
      "dicom\t\t11112/tcp\n",
      "hkp\t\t11371/tcp\t\t\t# OpenPGP HTTP Keyserver\n",
      "hkp\t\t11371/udp\n",
      "bprd\t\t13720/tcp\t\t\t# VERITAS NetBackup\n",
      "bprd\t\t13720/udp\n",
      "bpdbm\t\t13721/tcp\t\t\t# VERITAS NetBackup\n",
      "bpdbm\t\t13721/udp\n",
      "bpjava-msvc\t13722/tcp\t\t\t# BP Java MSVC Protocol\n",
      "bpjava-msvc\t13722/udp\n",
      "vnetd\t\t13724/tcp\t\t\t# Veritas Network Utility\n",
      "vnetd\t\t13724/udp\n",
      "bpcd\t\t13782/tcp\t\t\t# VERITAS NetBackup\n",
      "bpcd\t\t13782/udp\n",
      "vopied\t\t13783/tcp\t\t\t# VERITAS NetBackup\n",
      "vopied\t\t13783/udp\n"
     ]
    },
    {
     "name": "stdout",
     "output_type": "stream",
     "text": [
      "db-lsp\t\t17500/tcp\t\t\t# Dropbox LanSync Protocol\n",
      "dcap\t\t22125/tcp\t\t\t# dCache Access Protocol\n",
      "gsidcap\t\t22128/tcp\t\t\t# GSI dCache Access Protocol\n",
      "wnn6\t\t22273/tcp\t\t\t# wnn6\n",
      "wnn6\t\t22273/udp\n",
      "\n",
      "#\n",
      "# Datagram Delivery Protocol services\n",
      "#\n",
      "rtmp\t\t1/ddp\t\t\t# Routing Table Maintenance Protocol\n",
      "nbp\t\t2/ddp\t\t\t# Name Binding Protocol\n",
      "echo\t\t4/ddp\t\t\t# AppleTalk Echo Protocol\n",
      "zip\t\t6/ddp\t\t\t# Zone Information Protocol\n",
      "\n",
      "#=========================================================================\n",
      "# The remaining port numbers are not as allocated by IANA.\n",
      "#=========================================================================\n",
      "\n",
      "# Kerberos (Project Athena/MIT) services\n",
      "# Note that these are for Kerberos v4, and are unofficial.  Sites running\n",
      "# v4 should uncomment these and comment out the v5 entries above.\n",
      "#\n",
      "kerberos4\t750/udp\t\tkerberos-iv kdc\t# Kerberos (server)\n",
      "kerberos4\t750/tcp\t\tkerberos-iv kdc\n",
      "kerberos-master\t751/udp\t\tkerberos_master\t# Kerberos authentication\n",
      "kerberos-master\t751/tcp\n",
      "passwd-server\t752/udp\t\tpasswd_server\t# Kerberos passwd server\n",
      "krb-prop\t754/tcp\t\tkrb_prop krb5_prop hprop # Kerberos slave propagation\n",
      "krbupdate\t760/tcp\t\tkreg\t\t# Kerberos registration\n",
      "swat\t\t901/tcp\t\t\t\t# swat\n",
      "kpop\t\t1109/tcp\t\t\t# Pop with Kerberos\n",
      "knetd\t\t2053/tcp\t\t\t# Kerberos de-multiplexor\n",
      "zephyr-srv\t2102/udp\t\t\t# Zephyr server\n",
      "zephyr-clt\t2103/udp\t\t\t# Zephyr serv-hm connection\n",
      "zephyr-hm\t2104/udp\t\t\t# Zephyr hostmanager\n",
      "eklogin\t\t2105/tcp\t\t\t# Kerberos encrypted rlogin\n",
      "# Hmmm. Are we using Kv4 or Kv5 now? Worrying.\n",
      "# The following is probably Kerberos v5  --- ajt@debian.org (11/02/2000)\n",
      "kx\t\t2111/tcp\t\t\t# X over Kerberos\n",
      "iprop\t\t2121/tcp\t\t\t# incremental propagation\n",
      "#\n",
      "# Unofficial but necessary (for NetBSD) services\n",
      "#\n",
      "supfilesrv\t871/tcp\t\t\t\t# SUP server\n",
      "supfiledbg\t1127/tcp\t\t\t# SUP debugging\n",
      "\n",
      "#\n",
      "# Services added for the Debian GNU/Linux distribution\n",
      "#\n",
      "linuxconf\t98/tcp\t\t\t\t# LinuxConf\n",
      "poppassd\t106/tcp\t\t\t\t# Eudora\n",
      "poppassd\t106/udp\n",
      "moira-db\t775/tcp\t\tmoira_db\t# Moira database\n",
      "moira-update\t777/tcp\t\tmoira_update\t# Moira update protocol\n",
      "moira-ureg\t779/udp\t\tmoira_ureg\t# Moira user registration\n",
      "spamd\t\t783/tcp\t\t\t\t# spamassassin daemon\n",
      "omirr\t\t808/tcp\t\tomirrd\t\t# online mirror\n",
      "omirr\t\t808/udp\t\tomirrd\n",
      "customs\t\t1001/tcp\t\t\t# pmake customs server\n",
      "customs\t\t1001/udp\n",
      "skkserv\t\t1178/tcp\t\t\t# skk jisho server port\n",
      "predict\t\t1210/udp\t\t\t# predict -- satellite tracking\n",
      "rmtcfg\t\t1236/tcp\t\t\t# Gracilis Packeten remote config server\n",
      "wipld\t\t1300/tcp\t\t\t# Wipl network monitor\n",
      "xtel\t\t1313/tcp\t\t\t# french minitel\n",
      "xtelw\t\t1314/tcp\t\t\t# french minitel\n",
      "support\t\t1529/tcp\t\t\t# GNATS\n",
      "cfinger\t\t2003/tcp\t\t\t# GNU Finger\n",
      "frox\t\t2121/tcp\t\t\t# frox: caching ftp proxy\n",
      "ninstall\t2150/tcp\t\t\t# ninstall service\n",
      "ninstall\t2150/udp\n",
      "zebrasrv\t2600/tcp\t\t\t# zebra service\n",
      "zebra\t\t2601/tcp\t\t\t# zebra vty\n",
      "ripd\t\t2602/tcp\t\t\t# ripd vty (zebra)\n",
      "ripngd\t\t2603/tcp\t\t\t# ripngd vty (zebra)\n",
      "ospfd\t\t2604/tcp\t\t\t# ospfd vty (zebra)\n",
      "bgpd\t\t2605/tcp\t\t\t# bgpd vty (zebra)\n",
      "ospf6d\t\t2606/tcp\t\t\t# ospf6d vty (zebra)\n",
      "ospfapi\t\t2607/tcp\t\t\t# OSPF-API\n",
      "isisd\t\t2608/tcp\t\t\t# ISISd vty (zebra)\n",
      "afbackup\t2988/tcp\t\t\t# Afbackup system\n",
      "afbackup\t2988/udp\n",
      "afmbackup\t2989/tcp\t\t\t# Afmbackup system\n",
      "afmbackup\t2989/udp\n",
      "xtell\t\t4224/tcp\t\t\t# xtell server\n",
      "fax\t\t4557/tcp\t\t\t# FAX transmission service (old)\n",
      "hylafax\t\t4559/tcp\t\t\t# HylaFAX client-server protocol (new)\n",
      "distmp3\t\t4600/tcp\t\t\t# distmp3host daemon\n",
      "munin\t\t4949/tcp\tlrrd\t\t# Munin\n",
      "enbd-cstatd\t5051/tcp\t\t\t# ENBD client statd\n",
      "enbd-sstatd\t5052/tcp\t\t\t# ENBD server statd\n",
      "pcrd\t\t5151/tcp\t\t\t# PCR-1000 Daemon\n",
      "noclog\t\t5354/tcp\t\t\t# noclogd with TCP (nocol)\n",
      "noclog\t\t5354/udp\t\t\t# noclogd with UDP (nocol)\n",
      "hostmon\t\t5355/tcp\t\t\t# hostmon uses TCP (nocol)\n",
      "hostmon\t\t5355/udp\t\t\t# hostmon uses UDP (nocol)\n",
      "rplay\t\t5555/udp\t\t\t# RPlay audio service\n",
      "nrpe\t\t5666/tcp\t\t\t# Nagios Remote Plugin Executor\n",
      "nsca\t\t5667/tcp\t\t\t# Nagios Agent - NSCA\n",
      "mrtd\t\t5674/tcp\t\t\t# MRT Routing Daemon\n",
      "bgpsim\t\t5675/tcp\t\t\t# MRT Routing Simulator\n",
      "canna\t\t5680/tcp\t\t\t# cannaserver\n",
      "syslog-tls\t6514/tcp\t\t\t# Syslog over TLS [RFC5425]\n",
      "sane-port\t6566/tcp\tsane saned\t# SANE network scanner daemon\n",
      "ircd\t\t6667/tcp\t\t\t# Internet Relay Chat\n",
      "zope-ftp\t8021/tcp\t\t\t# zope management by ftp\n",
      "tproxy\t\t8081/tcp\t\t\t# Transparent Proxy\n",
      "omniorb\t\t8088/tcp\t\t\t# OmniORB\n",
      "omniorb\t\t8088/udp\n",
      "clc-build-daemon 8990/tcp\t\t\t# Common lisp build daemon\n",
      "xinetd\t\t9098/tcp\n",
      "mandelspawn\t9359/udp\tmandelbrot\t# network mandelbrot\n",
      "git\t\t9418/tcp\t\t\t# Git Version Control System\n",
      "zope\t\t9673/tcp\t\t\t# zope server\n",
      "webmin\t\t10000/tcp\n",
      "kamanda\t\t10081/tcp\t\t\t# amanda backup services (Kerberos)\n",
      "kamanda\t\t10081/udp\n",
      "amandaidx\t10082/tcp\t\t\t# amanda backup services\n",
      "amidxtape\t10083/tcp\t\t\t# amanda backup services\n",
      "smsqp\t\t11201/tcp\t\t\t# Alamin SMS gateway\n",
      "smsqp\t\t11201/udp\n",
      "xpilot\t\t15345/tcp\t\t\t# XPilot Contact Port\n",
      "xpilot\t\t15345/udp\n",
      "sgi-cmsd\t17001/udp\t\t# Cluster membership services daemon\n",
      "sgi-crsd\t17002/udp\n",
      "sgi-gcd\t\t17003/udp\t\t\t# SGI Group membership daemon\n",
      "sgi-cad\t\t17004/tcp\t\t\t# Cluster Admin daemon\n",
      "isdnlog\t\t20011/tcp\t\t\t# isdn logging system\n",
      "isdnlog\t\t20011/udp\n",
      "vboxd\t\t20012/tcp\t\t\t# voice box system\n",
      "vboxd\t\t20012/udp\n",
      "binkp\t\t24554/tcp\t\t\t# binkp fidonet protocol\n",
      "asp\t\t27374/tcp\t\t\t# Address Search Protocol\n",
      "asp\t\t27374/udp\n",
      "csync2\t\t30865/tcp\t\t\t# cluster synchronization tool\n",
      "dircproxy\t57000/tcp\t\t\t# Detachable IRC Proxy\n",
      "tfido\t\t60177/tcp\t\t\t# fidonet EMSI over telnet\n",
      "fido\t\t60179/tcp\t\t\t# fidonet EMSI over TCP\n",
      "\n",
      "# Local services\n"
     ]
    },
    {
     "data": {
      "text/plain": [
       "''"
      ]
     },
     "execution_count": 9,
     "metadata": {},
     "output_type": "execute_result"
    }
   ],
   "source": [
    "for line in fp:\n",
    "    print(line,end='')\n",
    "fp.readline()"
   ]
  },
  {
   "cell_type": "code",
   "execution_count": 14,
   "metadata": {},
   "outputs": [
    {
     "name": "stdout",
     "output_type": "stream",
     "text": [
      "#\n",
      "# Note that it is presently the policy of IANA to assign a single well-known\n",
      "# port number for bot\n"
     ]
    },
    {
     "data": {
      "text/plain": [
       "str"
      ]
     },
     "execution_count": 14,
     "metadata": {},
     "output_type": "execute_result"
    }
   ],
   "source": [
    "a=fp.read(100)\n",
    "print(a)\n",
    "type(a)"
   ]
  },
  {
   "cell_type": "code",
   "execution_count": 15,
   "metadata": {},
   "outputs": [],
   "source": [
    "#fp.readlines()"
   ]
  },
  {
   "cell_type": "code",
   "execution_count": 16,
   "metadata": {},
   "outputs": [],
   "source": [
    "wholefile=fp.read()   # read the whole rest of the file"
   ]
  },
  {
   "cell_type": "code",
   "execution_count": 17,
   "metadata": {},
   "outputs": [
    {
     "data": {
      "text/plain": [
       "'services, '"
      ]
     },
     "execution_count": 17,
     "metadata": {},
     "output_type": "execute_result"
    }
   ],
   "source": [
    "fp.seek(10)\n",
    "fp.read(10)"
   ]
  },
  {
   "cell_type": "code",
   "execution_count": 18,
   "metadata": {},
   "outputs": [],
   "source": [
    "fp.close()"
   ]
  },
  {
   "cell_type": "code",
   "execution_count": 3,
   "metadata": {
    "ExecuteTime": {
     "end_time": "2023-10-17T11:53:02.122434Z",
     "start_time": "2023-10-17T11:53:02.117513Z"
    }
   },
   "outputs": [
    {
     "name": "stdout",
     "output_type": "stream",
     "text": [
      "b'# Network services, Internet style\\n'\n"
     ]
    }
   ],
   "source": [
    "with  open(\"/etc/services\",\"rb\") as fp:\n",
    "    print(fp.readline())"
   ]
  },
  {
   "cell_type": "markdown",
   "metadata": {},
   "source": [
    "# OS and environment\n",
    "\n",
    "* `sys.argv` list of command line arguments.\n",
    "* `sys.path` search path for modules\n",
    "* `sys.exit(0)` exit program\n",
    "* `os.stat(\"path\")` get system information about file (size, protection, owner, type, timestamps)\n",
    "* `os.scandir(\"dirpath\")` read content of a file, returns an iterator\n",
    "* `os.fwalk(\"dirpath\")` recursive content of a file, returns iterator to 4-tuples (name, dirlist, filelist, id)\n",
    "* `os.system(\"command line\")` execute a program "
   ]
  },
  {
   "cell_type": "code",
   "execution_count": 1,
   "metadata": {
    "scrolled": true
   },
   "outputs": [
    {
     "name": "stdout",
     "output_type": "stream",
     "text": [
      "['/usr/lib/python3/dist-packages/ipykernel/__main__.py', '--debug', '-f', '/home/onur/.local/share/jupyter/runtime/kernel-7e8c268d-f717-4bb6-adb4-2b6242c65d8e.json']\n"
     ]
    }
   ],
   "source": [
    "import sys\n",
    "print(sys.argv)"
   ]
  },
  {
   "cell_type": "code",
   "execution_count": 2,
   "metadata": {},
   "outputs": [
    {
     "name": "stdout",
     "output_type": "stream",
     "text": [
      "['', '/usr/lib/python35.zip', '/usr/lib/python3.5', '/usr/lib/python3.5/plat-x86_64-linux-gnu', '/usr/lib/python3.5/lib-dynload', '/usr/local/lib/python3.5/dist-packages', '/usr/lib/python3/dist-packages', '/usr/local/lib/python3.5/dist-packages/IPython/extensions', '/home/onur/.ipython']\n"
     ]
    }
   ],
   "source": [
    "print(sys.path)"
   ]
  },
  {
   "cell_type": "code",
   "execution_count": 3,
   "metadata": {},
   "outputs": [
    {
     "name": "stdout",
     "output_type": "stream",
     "text": [
      "['', '/usr/lib/python35.zip', '/usr/lib/python3.5', '/usr/lib/python3.5/plat-x86_64-linux-gnu', '/usr/lib/python3.5/lib-dynload', '/usr/local/lib/python3.5/dist-packages', '/usr/lib/python3/dist-packages', '/usr/local/lib/python3.5/dist-packages/IPython/extensions', '/home/onur/.ipython', '/home/mymodules/mylibrary']\n"
     ]
    }
   ],
   "source": [
    "sys.path.append('/home/mymodules/mylibrary')\n",
    "print(sys.path)"
   ]
  },
  {
   "cell_type": "code",
   "execution_count": 4,
   "metadata": {},
   "outputs": [
    {
     "name": "stdout",
     "output_type": "stream",
     "text": [
      "Copyright (c) 2001-2017 Python Software Foundation.\n",
      "All Rights Reserved.\n",
      "\n",
      "Copyright (c) 2000 BeOpen.com.\n",
      "All Rights Reserved.\n",
      "\n",
      "Copyright (c) 1995-2001 Corporation for National Research Initiatives.\n",
      "All Rights Reserved.\n",
      "\n",
      "Copyright (c) 1991-1995 Stichting Mathematisch Centrum, Amsterdam.\n",
      "All Rights Reserved.\n",
      "3.5.3 (default, Jan 19 2017, 14:11:04) \n",
      "[GCC 6.3.0 20170118] sys.version_info(major=3, minor=5, micro=3, releaselevel='final', serial=0)\n"
     ]
    }
   ],
   "source": [
    "print(sys.copyright)\n",
    "print(sys.version, sys.version_info)"
   ]
  },
  {
   "cell_type": "code",
   "execution_count": 5,
   "metadata": {},
   "outputs": [],
   "source": [
    "#sys.exit(1)"
   ]
  },
  {
   "cell_type": "code",
   "execution_count": 74,
   "metadata": {},
   "outputs": [
    {
     "name": "stdout",
     "output_type": "stream",
     "text": [
      "os.stat_result(st_mode=33188, st_ino=11796692, st_dev=66307, st_nlink=1, st_uid=0, st_gid=0, st_size=14464, st_atime=1635849627, st_mtime=1581895243, st_ctime=1625625637)\n",
      "0 Mon Feb 17 02:20:43 2020\n"
     ]
    }
   ],
   "source": [
    "import os\n",
    "import time\n",
    "\n",
    "os.chdir(\"/tmp\")\n",
    "fst=os.stat(\"/etc/services\")\n",
    "print(fst)\n",
    "print(fst.st_uid, time.asctime(time.localtime(fst.st_mtime)))"
   ]
  },
  {
   "cell_type": "code",
   "execution_count": 75,
   "metadata": {},
   "outputs": [
    {
     "name": "stdout",
     "output_type": "stream",
     "text": [
      "apt.conf.d True os.stat_result(st_mode=16877, st_ino=11797155, st_dev=66307, st_nlink=2, st_uid=0, st_gid=0, st_size=4096, st_atime=1635849624, st_mtime=1634980331, st_ctime=1634980331) /etc/apt/apt.conf.d\n",
      "sources.list~ False os.stat_result(st_mode=33204, st_ino=11796693, st_dev=66307, st_nlink=1, st_uid=0, st_gid=0, st_size=2642, st_atime=1632908515, st_mtime=1625626057, st_ctime=1632908515) /etc/apt/sources.list~\n",
      "trusted.gpg.d True os.stat_result(st_mode=16877, st_ino=11797159, st_dev=66307, st_nlink=2, st_uid=0, st_gid=0, st_size=4096, st_atime=1635849634, st_mtime=1635359803, st_ctime=1635359803) /etc/apt/trusted.gpg.d\n",
      "sources.list.d True os.stat_result(st_mode=16877, st_ino=11797158, st_dev=66307, st_nlink=2, st_uid=0, st_gid=0, st_size=4096, st_atime=1635849624, st_mtime=1633112255, st_ctime=1633112255) /etc/apt/sources.list.d\n",
      "sources.list.save False os.stat_result(st_mode=33188, st_ino=11797184, st_dev=66307, st_nlink=1, st_uid=0, st_gid=0, st_size=2643, st_atime=1633112255, st_mtime=1633112255, st_ctime=1633112255) /etc/apt/sources.list.save\n",
      "preferences.d True os.stat_result(st_mode=16877, st_ino=11797157, st_dev=66307, st_nlink=2, st_uid=0, st_gid=0, st_size=4096, st_atime=1635849624, st_mtime=1586427667, st_ctime=1625625667) /etc/apt/preferences.d\n",
      "sources.list False os.stat_result(st_mode=33188, st_ino=11799197, st_dev=66307, st_nlink=1, st_uid=0, st_gid=0, st_size=2643, st_atime=1635849624, st_mtime=1633112256, st_ctime=1633112256) /etc/apt/sources.list\n",
      "auth.conf.d True os.stat_result(st_mode=16877, st_ino=11797156, st_dev=66307, st_nlink=2, st_uid=0, st_gid=0, st_size=4096, st_atime=1635849634, st_mtime=1586427667, st_ctime=1625625667) /etc/apt/auth.conf.d\n"
     ]
    }
   ],
   "source": [
    "dircontent=os.scandir(\"/etc/apt\")\n",
    "for i in dircontent:\n",
    "    print(i.name, i.is_dir(), i.stat(), i.path)"
   ]
  },
  {
   "cell_type": "code",
   "execution_count": 67,
   "metadata": {},
   "outputs": [
    {
     "name": "stdout",
     "output_type": "stream",
     "text": [
      "('/etc/apt', ['preferences.d', 'apt.conf.d', 'trusted.gpg.d', 'sources.list.d'], ['listchanges.conf', 'sources.list~', 'sources.list', 'trusted.gpg', 'trusted.gpg~'], 40)\n",
      "('/etc/apt/preferences.d', [], [], 43)\n",
      "('/etc/apt/apt.conf.d', [], ['70debconf', '00CDMountPoint', '01autoremove-kernels', '50appstream', '20listchanges', '50apt-file.conf', '00defaultrelease', '00trustcdrom', '01autoremove', '50unattended-upgrades', '20packagekit', '20dbus', '60gnome-software'], 43)\n",
      "('/etc/apt/trusted.gpg.d', [], ['debian-archive-wheezy-stable.gpg~', 'debian-archive-wheezy-automatic.gpg', 'debian-archive-jessie-security-automatic.gpg', 'debian-archive-stretch-stable.gpg', 'debian-archive-jessie-automatic.gpg', 'debian-archive-stretch-automatic.gpg', 'debian-archive-wheezy-stable.gpg', 'debian-archive-stretch-security-automatic.gpg', 'debian-archive-squeeze-stable.gpg~', 'debian-archive-squeeze-automatic.gpg~', 'deb-multimedia-keyring.gpg', 'debian-archive-jessie-stable.gpg', 'debian-archive-wheezy-automatic.gpg~'], 43)\n",
      "('/etc/apt/sources.list.d', [], ['google-talkplugin.list', 'google-chrome.list', 'deb-multimedia.list', 'brave-stretch.list', 'dropbox.list', 'skype-stable.list', 'google-earth.list', 'owncloud.list'], 43)\n"
     ]
    }
   ],
   "source": [
    "for v in os.fwalk(\"/etc/apt\"):\n",
    "    print(v)"
   ]
  },
  {
   "cell_type": "code",
   "execution_count": null,
   "metadata": {},
   "outputs": [],
   "source": [
    "os.system(\"ls -l /\") # don't use. use subprocess instead"
   ]
  },
  {
   "cell_type": "markdown",
   "metadata": {},
   "source": [
    "## Time utilities\n",
    "\n",
    "* `time.time()` Unix time as a floating point value (seconds since 1st Jan 1970)\n",
    "* `time.localtime()` Time in structured form\n",
    "* `time.asctime()` Time as a string in current system config.\n",
    "* `time.strftime(format,timestruct)` Time in user defined format string\n",
    "* `time.strptime(inputstring, format)` String to structured time"
   ]
  },
  {
   "cell_type": "code",
   "execution_count": 8,
   "metadata": {},
   "outputs": [
    {
     "name": "stdout",
     "output_type": "stream",
     "text": [
      "1540200417.5185628\n",
      "year 2018, month 10, day 22, hour: 12 minutes: 26\n"
     ]
    },
    {
     "data": {
      "text/plain": [
       "'2018/10/22 12:26:57 1540200417'"
      ]
     },
     "execution_count": 8,
     "metadata": {},
     "output_type": "execute_result"
    }
   ],
   "source": [
    "import time\n",
    "now=time.time()\n",
    "print(now)\n",
    "now2=time.localtime(now)\n",
    "print(\"year {}, month {}, day {}, hour: {} minutes: {}\".format(\n",
    "now2.tm_year, now2.tm_mon, now2.tm_mday, now2.tm_hour, now2.tm_min))\n",
    "time.strftime(\"%Y/%m/%d %H:%M:%S %s\",now2)"
   ]
  },
  {
   "cell_type": "code",
   "execution_count": 15,
   "metadata": {},
   "outputs": [],
   "source": [
    "bt=time.strptime(\"1999/12/30\",\"%Y/%m/%d\")"
   ]
  },
  {
   "cell_type": "code",
   "execution_count": 11,
   "metadata": {},
   "outputs": [
    {
     "data": {
      "text/plain": [
       "'Mon Oct 22 12:29:16 2018'"
      ]
     },
     "execution_count": 11,
     "metadata": {},
     "output_type": "execute_result"
    }
   ],
   "source": [
    "time.asctime()"
   ]
  },
  {
   "cell_type": "markdown",
   "metadata": {},
   "source": [
    "# Regular expressions\n",
    "\n",
    "A regular expression matches\n",
    "\n",
    "* `.` matches any character\n",
    "* `[c1-c2]`  matches all characters in range c1-c2\n",
    "* `[aeuio]`  matches all characters enclosed `[a-z.:-]`\n",
    "* `[^a-z]`   matches anything but a to z\n",
    "* `exp?`    matches 0 or 1 occurences of regex exp `[a-z]?`\n",
    "* `exp*`  matches 0 or more occurences of regex exp\n",
    "* `exp+`  matches 1 or more occurences of regex exp\n",
    "* non greedy `??` `*?` `+?` Instead of longest, they match smallest\n",
    "* `exp{m,n}` `exp{m,}` `exp{,n}` m to n occurences of regex\n",
    "* `^` matches start of the string as position\n",
    "* `$` matches end of the string\n"
   ]
  },
  {
   "cell_type": "code",
   "execution_count": 10,
   "metadata": {
    "ExecuteTime": {
     "end_time": "2023-10-17T12:32:32.012582Z",
     "start_time": "2023-10-17T12:32:32.007503Z"
    }
   },
   "outputs": [
    {
     "name": "stdout",
     "output_type": "stream",
     "text": [
      "<re.Match object; span=(1, 4), match='nur'>\n",
      "<re.Match object; span=(6, 14), match='ehitoglu'>\n",
      "<re.Match object; span=(5, 14), match='sehitoglu'>\n",
      "('onursehitogl', 'u')\n",
      "('o', 'nursehitoglu')\n",
      "('onurs', 'ehitoglu')\n"
     ]
    }
   ],
   "source": [
    "import re\n",
    "print(re.search(\"[a-z]+\",\"Onur Sehitoglu\"))\n",
    "print(re.search(\"[a-z]+[a-z]+$\",\"Onur Sehitoglu\"))\n",
    "print(re.search(\"[a-z]+\",\"ONUR sehitoglu\"))\n",
    "print(re.match(\"([a-z]+)([a-z]+$)\",\"onursehitoglu\").groups())\n",
    "print(re.match(\"([a-z]+?)([a-z]+)$\",\"onursehitoglu\").groups())\n",
    "print(re.match(\"([a-z]{1,5}?)([a-z]{1,8}?)$\",\"onursehitoglu\").groups())"
   ]
  },
  {
   "cell_type": "code",
   "execution_count": 21,
   "metadata": {},
   "outputs": [
    {
     "name": "stdout",
     "output_type": "stream",
     "text": [
      "<_sre.SRE_Match object; span=(0, 20), match='123.123123123.123412'>\n",
      "None\n"
     ]
    }
   ],
   "source": [
    "print(re.search(\"^[0-9.]+$\", \"123.123123123.123412\"))\n",
    "print(re.search(\"^[0[0-9]*$\", \".231\"))"
   ]
  },
  {
   "cell_type": "markdown",
   "metadata": {},
   "source": [
    "## Grouping\n",
    "* `(exp)`  Group the expressions.\n",
    "* `(exp)?` `(exp)*` `(exp)+` `(exp){m,n}`\n",
    "* `e1|e2` either e1 or e2"
   ]
  },
  {
   "cell_type": "code",
   "execution_count": 8,
   "metadata": {},
   "outputs": [
    {
     "name": "stdout",
     "output_type": "stream",
     "text": [
      "<_sre.SRE_Match object; span=(0, 9), match='21312.123'>\n",
      "None\n",
      "<_sre.SRE_Match object; span=(0, 21), match='onur tolga SEHITOGLU '>\n"
     ]
    }
   ],
   "source": [
    "print(re.search(\"^[0-9]+(\\.[0-9]*)?$\", \"21312.123\"))\n",
    "print(re.search(\"^([A-Z]+|[a-z]+)$\", \"oNur\"))\n",
    "sname=re.search(\"^(([A-Z]+|[a-z]+) ?)+$\", \"onur tolga SEHITOGLU \")\n",
    "print(sname)"
   ]
  },
  {
   "cell_type": "code",
   "execution_count": 9,
   "metadata": {},
   "outputs": [
    {
     "name": "stdout",
     "output_type": "stream",
     "text": [
      "0 21 (0, 21) onur tolga SEHITOGLU  ('SEHITOGLU ', 'SEHITOGLU')\n"
     ]
    }
   ],
   "source": [
    "print(sname.start(), sname.end(), sname.span(), sname.group(), sname.groups())\n",
    "    "
   ]
  },
  {
   "cell_type": "code",
   "execution_count": 20,
   "metadata": {},
   "outputs": [
    {
     "name": "stdout",
     "output_type": "stream",
     "text": [
      "onur tolga sehitoglu\n",
      "('onur', 'tolga', 'sehitoglu')\n"
     ]
    }
   ],
   "source": [
    "match=re.search(\"([a-z]+) ([a-z]+) ([a-z]+)\", \"+|+onur tolga sehitoglu><bla bla\")\n",
    "\n",
    "print(match.group())\n",
    "print(match.groups())\n"
   ]
  },
  {
   "cell_type": "code",
   "execution_count": 21,
   "metadata": {},
   "outputs": [],
   "source": [
    "match=re.search(\"(?P<name>[a-z]+) ([a-z]+) (?P<sname>[a-z]+)\", \"onur tolga sehitoglu\")\n"
   ]
  },
  {
   "cell_type": "code",
   "execution_count": 32,
   "metadata": {},
   "outputs": [
    {
     "data": {
      "text/plain": [
       "{'name': 'onur', 'sname': 'sehitoglu'}"
      ]
     },
     "execution_count": 32,
     "metadata": {},
     "output_type": "execute_result"
    }
   ],
   "source": [
    "match.groupdict()"
   ]
  },
  {
   "cell_type": "code",
   "execution_count": 3,
   "metadata": {},
   "outputs": [
    {
     "name": "stdout",
     "output_type": "stream",
     "text": [
      "None\n",
      "<_sre.SRE_Match object; span=(0, 9), match='onur onur'>\n"
     ]
    }
   ],
   "source": [
    "match=re.search(\"(?P<word>[a-z]+) (?P=word)\",\"onur tolga\")\n",
    "print(match)\n",
    "match=re.search(\"(?P<word>[a-z]+) (?P=word)\",\"onur onur\")\n",
    "print(match)"
   ]
  },
  {
   "cell_type": "code",
   "execution_count": 33,
   "metadata": {},
   "outputs": [
    {
     "name": "stdout",
     "output_type": "stream",
     "text": [
      "<_sre.SRE_Match object; span=(0, 9), match='onur onur'>\n",
      "<_sre.SRE_Match object; span=(0, 15), match='onur tolga onur'>\n",
      "<_sre.SRE_Match object; span=(0, 16), match='onur tolga tolga'>\n"
     ]
    }
   ],
   "source": [
    "print(re.search(\"^([a-z]+|[A-Z]+) \\\\1$\", \"onur onur\"))\n",
    "print(re.search(\"^([a-z]+|[A-Z]+) ([a-z]+) \\\\1$\", \"onur tolga onur\"))\n",
    "print(re.search(\"^([a-z]+|[A-Z]+) ([a-z]+) \\\\2$\", \"onur tolga tolga\"))"
   ]
  },
  {
   "cell_type": "code",
   "execution_count": null,
   "metadata": {},
   "outputs": [],
   "source": []
  }
 ],
 "metadata": {
  "kernelspec": {
   "display_name": "Python 3 (ipykernel)",
   "language": "python",
   "name": "python3"
  },
  "language_info": {
   "codemirror_mode": {
    "name": "ipython",
    "version": 3
   },
   "file_extension": ".py",
   "mimetype": "text/x-python",
   "name": "python",
   "nbconvert_exporter": "python",
   "pygments_lexer": "ipython3",
   "version": "3.11.2"
  },
  "toc": {
   "base_numbering": 1,
   "nav_menu": {},
   "number_sections": true,
   "sideBar": true,
   "skip_h1_title": false,
   "title_cell": "Table of Contents",
   "title_sidebar": "Contents",
   "toc_cell": false,
   "toc_position": {},
   "toc_section_display": "block",
   "toc_window_display": false
  }
 },
 "nbformat": 4,
 "nbformat_minor": 2
}
