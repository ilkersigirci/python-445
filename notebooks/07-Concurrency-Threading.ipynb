{
 "cells": [
  {
   "cell_type": "markdown",
   "metadata": {},
   "source": [
    "# Concurrent Programming (cntd.)\n",
    "\n",
    "## threading \n",
    " * `Thread` is the main class \n",
    " `Lock, RLock, Semaphore, Condition` are basic synchronization classes\n",
    " \n",
    "In contrast to `multiprocessing`, threads work in the same memory environment. All global variables and parameters passed by reference to thread function are shared.\n",
    " \n",
    "Methods and data types are conveniently similar.\n",
    " \n",
    "Following is the ping/pong example with threading. Note the value of the counter. Also note the race condition in print(). Threads even share the same buffer for the file descriptors."
   ]
  },
  {
   "cell_type": "code",
   "execution_count": 7,
   "metadata": {
    "ExecuteTime": {
     "end_time": "2023-11-07T11:09:09.171547Z",
     "start_time": "2023-11-07T11:09:09.167263Z"
    }
   },
   "outputs": [],
   "source": [
    "import threading as th"
   ]
  },
  {
   "cell_type": "code",
   "execution_count": 5,
   "metadata": {
    "ExecuteTime": {
     "end_time": "2023-11-07T11:08:42.356603Z",
     "start_time": "2023-11-07T11:08:42.349001Z"
    },
    "deletable": false,
    "editable": false,
    "run_control": {
     "frozen": true
    }
   },
   "outputs": [
    {
     "name": "stdout",
     "output_type": "stream",
     "text": [
      "ping 10\n",
      "pong 11\n",
      "ping 12\n",
      "pong 13\n",
      "ping 14\n",
      "pong 15\n",
      "ping 16\n",
      "pong 17\n",
      "ping 18\n",
      "pong 19\n",
      "in main thread: 20\n"
     ]
    }
   ],
   "source": [
    "counter = 10\n",
    "def ping(name,memut,othmut):\n",
    "    global counter\n",
    "    for i in range(0,5):\n",
    "        # wait until my turn\n",
    "        memut.acquire()\n",
    "        print(name,counter)\n",
    "        # tell other end it is its turn\n",
    "        othmut.release()\n",
    "        counter += 1\n",
    "\n",
    "        \n",
    "imut,omut = th.Lock(), th.Lock()\n",
    "\n",
    "pip = th.Thread(target=ping, args=(\"ping\",imut,omut))\n",
    "pop = th.Thread(target=ping, args=(\"pong\",omut,imut))\n",
    "\n",
    "# make sure only one (ping enters first)\n",
    "omut.acquire()\n",
    "pip.start()\n",
    "pop.start()\n",
    "pip.join()\n",
    "pop.join()\n",
    "omut.release()\n",
    "print(\"in main thread: {}\".format(counter))\n",
    "    "
   ]
  },
  {
   "cell_type": "markdown",
   "metadata": {},
   "source": [
    "## A Race Condition Example\n",
    "\n",
    "### Global Interpreter Lock (GIL)\n",
    "All python code execute in a critical region defined by GIL to protect internal interpreter data structures\n",
    "\n",
    "Python has an internal scheduler that preempts executing thread and give CPU to another. Race condition is still an issue.\n",
    "\n",
    "GIL does not save you from race conditions!\n",
    "\n",
    "When thread waits for I/O or executes native C  code (numpy, or other C based libraries), GIL is released.\n",
    "\n",
    "\n",
    "## What about multiprocessing?\n",
    "\n",
    "There are multiple interpreters, Python process. GIL is per process. multiprocessing creates multiple process. They work in parallel without any issue."
   ]
  },
  {
   "cell_type": "code",
   "execution_count": 30,
   "metadata": {
    "ExecuteTime": {
     "end_time": "2023-04-03T07:50:55.929031Z",
     "start_time": "2023-04-03T07:50:55.647487Z"
    }
   },
   "outputs": [
    {
     "name": "stdout",
     "output_type": "stream",
     "text": [
      "[0]\n",
      "[4950000]\n"
     ]
    }
   ],
   "source": [
    "''' Race condition of threads.\n",
    "    uncomment mut to use a mutex. \n",
    "    You need long executing threads with\n",
    "    multi-line critical regions to observe it.'''\n",
    "mut = th.Lock()\n",
    "\n",
    "def f(lst):\n",
    "    for i in range(0,50000):\n",
    "        # the following is the critical region\n",
    "        #with mut:\n",
    "            #mut.acquire()\n",
    "            #tmp = lst[0]\n",
    "            #tmp += 1\n",
    "            #lst[1] # exception\n",
    "            #return # return\n",
    "            #lst[0] = tmp\n",
    "            lst[0] += 1\n",
    "            #mut.release()\n",
    "    \n",
    "     \n",
    "arr = [0]\n",
    "\n",
    "threads = [th.Thread(target=f, args=(arr,)) for i in range(0,100)]\n",
    "\n",
    "print(arr)\n",
    "for t in threads:\n",
    "    t.start()\n",
    "\n",
    "for t in threads:\n",
    "    t.join()\n",
    "    \n",
    "print(arr)\n",
    "\n"
   ]
  },
  {
   "cell_type": "code",
   "execution_count": 8,
   "metadata": {
    "ExecuteTime": {
     "end_time": "2023-11-07T11:55:29.737076Z",
     "start_time": "2023-11-07T11:54:59.648443Z"
    }
   },
   "outputs": [
    {
     "name": "stdout",
     "output_type": "stream",
     "text": [
      "ping 11\n",
      "pong 12\n",
      "ping 13\n",
      "pong 14\n",
      "ping 15\n",
      "pong 16\n",
      "ping 17\n",
      "pong 18\n",
      "ping 19\n",
      "pong 20\n",
      "in main thread: 20\n"
     ]
    }
   ],
   "source": [
    "import time\n",
    "import multiprocessing as mp\n",
    "\n",
    "counter = mp.Value('i',10)\n",
    "\n",
    "def ping(name,memut,othmut):\n",
    "    global counter\n",
    "    for i in range(0,5):\n",
    "        # wait until my turn\n",
    "        memut.acquire()\n",
    "        with counter:\n",
    "            counter.value += 1\n",
    "        print(name,counter.value)\n",
    "        # tell other end it is its turn\n",
    "        othmut.release()\n",
    "    time.sleep(30)\n",
    "        \n",
    "        \n",
    "imut,omut = mp.Lock(), mp.Lock()\n",
    "\n",
    "pip = mp.Process(target=ping, args=(\"ping\",imut,omut))\n",
    "pop = mp.Process(target=ping, args=(\"pong\",omut,imut))\n",
    "\n",
    "# make sure only one (ping enters first)\n",
    "omut.acquire()\n",
    "pip.start()\n",
    "pop.start()\n",
    "pip.join()\n",
    "pop.join()\n",
    "omut.release()\n",
    "print(\"in main thread: {}\".format(counter.value))"
   ]
  },
  {
   "cell_type": "markdown",
   "metadata": {},
   "source": [
    "## Shared Variables in `multiprocessing`\n",
    "\n",
    "Shared globals and heap is provided by its nature in `threading`. In multiprocessing standard variables except synchronization primitives are isolated in each process. In order to share values `Value` and `Array` classes provide shared variables with atomic access that multiple process can use.\n",
    "\n",
    "  * `Value` constructor needs a type specifier argument either a `ctypes` type or a character representing it:\n",
    "     > `'i'` equivalent to `c_int`\n",
    "     >\n",
    "     > `'c'` equivalent to `c_char`\n",
    "     >\n",
    "     > `'f'` equivalent to `c_float`\n",
    "     >\n",
    "     > `'d'` equivalent to `c_double`\n",
    "     >\n",
    "     \n",
    "     Depending on the parameter a shared variable with given type is created.\n",
    "  * Use `value` member of the `Value` objects to get/update their value.\n",
    "  * `Array` creates homogeneous list of values. Constructor gets a type specifier and either a size or an iterator:\n",
    "     > `Array('d',10)`\n",
    "     >\n",
    "     > `Array('i',(0,0,1,0,0,1,0,0,1))`"
   ]
  },
  {
   "cell_type": "code",
   "execution_count": 9,
   "metadata": {
    "ExecuteTime": {
     "end_time": "2023-11-07T11:57:38.950107Z",
     "start_time": "2023-11-07T11:57:38.944577Z"
    }
   },
   "outputs": [
    {
     "name": "stdout",
     "output_type": "stream",
     "text": [
      "<Synchronized wrapper for c_double(11.0)>\n",
      "<SynchronizedArray wrapper for <multiprocessing.sharedctypes.c_double_Array_100 object at 0x7f915c484830>>\n"
     ]
    }
   ],
   "source": [
    "import multiprocessing as mp\n",
    "v = mp.Value('d')\n",
    "v.acquire()\n",
    "v.value = v.value + 10\n",
    "v.release()\n",
    "with v:\n",
    "    v.value += 1\n",
    "print(v)\n",
    "\n",
    "a = mp.Array('d',100)\n",
    "# double a[100];\n",
    "print(a)"
   ]
  },
  {
   "cell_type": "code",
   "execution_count": 39,
   "metadata": {
    "ExecuteTime": {
     "end_time": "2023-04-03T08:03:40.147230Z",
     "start_time": "2023-04-03T08:03:40.142533Z"
    }
   },
   "outputs": [
    {
     "name": "stdout",
     "output_type": "stream",
     "text": [
      "<Synchronized wrapper for c_int(4)>\n",
      "[0.0, 3.0, 4.0, 5.0, 2.0, 3.0, 4.0, 5.0, 1.0, 9.0]\n",
      "b'helloXworld'\n"
     ]
    }
   ],
   "source": [
    "from multiprocessing import Value,Array\n",
    "\n",
    "a = Value('i',3)   # a shared integer\n",
    "a.value += 1\n",
    "print(a)\n",
    "\n",
    "v = Array('d',10)  # a shared array of doubles\n",
    "for i in range(len(v)):\n",
    "    v[i] = i                    # set and get like a list\n",
    "v[:] = [0,3,4,5,2,3,4,5,1,9]    # can be updated with slices\n",
    "print(list(v))                  # is iteratable\n",
    "\n",
    "m = Array('c', b'Hello World')   # a character buffer (size of Hello World)\n",
    "m.value = b'hello world'   # it will overflow with larger strings\n",
    "m[5] = b'X'\n",
    "print(m.value)"
   ]
  },
  {
   "cell_type": "code",
   "execution_count": 40,
   "metadata": {
    "ExecuteTime": {
     "end_time": "2023-04-03T08:06:48.218115Z",
     "start_time": "2023-04-03T08:06:45.691497Z"
    }
   },
   "outputs": [
    {
     "name": "stdout",
     "output_type": "stream",
     "text": [
      "hello world <Synchronized wrapper for c_int(12)>\n",
      "hello myself <Synchronized wrapper for c_int(13)>\n",
      "hello world <Synchronized wrapper for c_int(14)>\n",
      "hello myself <Synchronized wrapper for c_int(15)>\n",
      "hello world <Synchronized wrapper for c_int(16)>\n",
      "hello myself <Synchronized wrapper for c_int(17)>\n",
      "hello world <Synchronized wrapper for c_int(18)>\n",
      "hello myself <Synchronized wrapper for c_int(19)>\n",
      "hello world <Synchronized wrapper for c_int(20)>hello myself\n",
      " <Synchronized wrapper for c_int(20)>\n",
      "counter is : 20\n"
     ]
    }
   ],
   "source": [
    "import time\n",
    "\n",
    "counter = mp.Value('i',10)\n",
    "\n",
    "def hello(name):\n",
    "    global counter\n",
    "    for i in range(0,5):\n",
    "        counter.value += 1\n",
    "        time.sleep(0.5)\n",
    "        print(\"hello \" + name, counter)\n",
    "            \n",
    "p = mp.Process(target=hello, args=(\"world\",))\n",
    "\n",
    "q = mp.Process(target=hello, args=(\"myself\",))\n",
    "\n",
    "p.start() \n",
    "q.start()\n",
    "# p, q and main process are concurrent here\n",
    "\n",
    "p.join() # wait for p to complete\n",
    "q.join() # wait for q to complete\n",
    "print('counter is :',counter.value)\n",
    "# back to single process again"
   ]
  },
  {
   "cell_type": "markdown",
   "metadata": {},
   "source": [
    "## Lock versus RLock\n",
    "\n",
    "`RLock` is called a recursive lock. Basically it is a lock only holder can release. In `Lock`, any thread can release a lock like in our ping/pong example above. In recursive lock, only thread/process that acquired it can release it.\n",
    "``` \n",
    "```"
   ]
  },
  {
   "cell_type": "code",
   "execution_count": null,
   "metadata": {
    "ExecuteTime": {
     "end_time": "2017-11-09T17:11:27.818886Z",
     "start_time": "2017-11-09T17:11:27.713160Z"
    }
   },
   "outputs": [],
   "source": [
    "a, b = th.Lock(), th.RLock() \n",
    "\n",
    "def f():\n",
    "    a.acquire()\n",
    "    # This will give error\n",
    "    b.release()\n",
    "\n",
    "f()\n"
   ]
  },
  {
   "cell_type": "markdown",
   "metadata": {},
   "source": [
    "## Using `with` with synchronization\n",
    "\n",
    "* `with` provides a semantic context for a data type derived from context manager\n",
    "* `with` block calls `_enter_` and `_exit_` methods of the context.\n",
    "* This way, statement blocks that are valid in the context can be defined as:\n",
    "```python\n",
    "with open(\"myfile\",\"r\") as fd:\n",
    "    line = fd.readline()\n",
    "    while line:\n",
    "        print(line, end='')\n",
    "        line = fd.readline()\n",
    "print('finished')\n",
    "```\n",
    "* context manager for a file object automatically closes the file when block is terminated.\n",
    "* similarly database connections can use `with`\n",
    "\n",
    "```python\n",
    "with sqlite3.connect('myfile.sqlite3') as cur:\n",
    "    cur.execute('....')\n",
    "    ...\n",
    "    ....\n",
    "    \n",
    "# here connection is closed\n",
    "```\n",
    " \n",
    "Synchronization classes `Lock, RLock, Semaphore, Condition` can be used similarly:\n",
    "```python\n",
    "a=Lock()\n",
    "with a:\n",
    "    y = x + 1\n",
    "    x = y\n",
    "``` \n",
    "\n",
    "Is equivalent to:\n",
    "```python\n",
    "a=Lock()\n",
    "try:\n",
    "    a.acquire()\n",
    "    y = x + 1\n",
    "    x = y\n",
    "finally:\n",
    "    a.release()\n",
    "``` \n",
    "\n",
    "Exceptions are handled properly. This form emphasizes the critical regions better.\n"
   ]
  },
  {
   "cell_type": "markdown",
   "metadata": {},
   "source": [
    "# Barriers\n",
    " * A barrier is a meeting point for all threads. For example each thread makes some initializations and when and only when all of them is ready, the algorithm can start.\n",
    " "
   ]
  },
  {
   "cell_type": "code",
   "execution_count": 13,
   "metadata": {
    "ExecuteTime": {
     "end_time": "2023-11-07T12:29:53.150799Z",
     "start_time": "2023-11-07T12:29:43.419421Z"
    }
   },
   "outputs": [
    {
     "name": "stdout",
     "output_type": "stream",
     "text": [
      "arrived 1th\n",
      "arrived 2th\n",
      "arrived 3th\n",
      "arrived 4th\n",
      "arrived 5th\n",
      "arrived 6th\n",
      "entered\n",
      "entered\n",
      "entered\n",
      "entered\n",
      "entered\n",
      "entered\n",
      "completed\n",
      "completed\n",
      "completed\n",
      "completed\n",
      "completed\n",
      "completed\n",
      "all terminated\n"
     ]
    }
   ],
   "source": [
    "import random\n",
    "import time\n",
    "\n",
    "class MyBarrier:\n",
    "    def __init__(self, number = 2):\n",
    "        self.number = number\n",
    "        self.mutex = th.RLock()\n",
    "        self.go = th.Lock()\n",
    "        self.go.acquire()\n",
    "        self.current = 0\n",
    "        \n",
    "    def arrived(self):\n",
    "        self.mutex.acquire()\n",
    "        self.current += 1\n",
    "        print(\"arrived {}th\".format(self.current))\n",
    "        if self.current == self.number:\n",
    "            self.current -= 1\n",
    "            self.mutex.release()\n",
    "            self.go.release()\n",
    "        else:\n",
    "            self.mutex.release()\n",
    "            self.go.acquire()\n",
    "            self.mutex.acquire()\n",
    "            self.current -= 1\n",
    "            if self.current > 0:\n",
    "                self.go.release()\n",
    "            self.mutex.release()\n",
    "        #print(\"left {}\".format(self.current))\n",
    "        \n",
    "def barriertest(barrier):\n",
    "    time.sleep(1 + random.random()*3)\n",
    "    barrier.arrived()\n",
    "    print(\"entered\")\n",
    "    time.sleep(1 + random.random()*5)\n",
    "    print(\"completed\")\n",
    "    # use same barrier for completion\n",
    "    #barrier.arrived()\n",
    "    \n",
    "bar = MyBarrier(6)\n",
    "\n",
    "t1 = th.Thread(target=barriertest, args=(bar,))\n",
    "t2 = th.Thread(target=barriertest, args=(bar,))\n",
    "t3 = th.Thread(target=barriertest, args=(bar,))\n",
    "t4 = th.Thread(target=barriertest, args=(bar,))\n",
    "t5 = th.Thread(target=barriertest, args=(bar,))\n",
    "t6 = th.Thread(target=barriertest, args=(bar,))\n",
    "\n",
    "t1.start()\n",
    "t2.start()\n",
    "t3.start()\n",
    "t4.start()\n",
    "t5.start()\n",
    "t6.start()\n",
    "\n",
    "t1.join()\n",
    "t2.join()\n",
    "t3.join()\n",
    "t4.join()\n",
    "t5.join()\n",
    "t6.join()\n",
    "print(\"all terminated\")        "
   ]
  },
  {
   "cell_type": "code",
   "execution_count": null,
   "metadata": {
    "ExecuteTime": {
     "end_time": "2017-11-09T17:12:04.997954Z",
     "start_time": "2017-11-09T17:12:04.992578Z"
    }
   },
   "outputs": [],
   "source": []
  },
  {
   "cell_type": "code",
   "execution_count": null,
   "metadata": {},
   "outputs": [],
   "source": []
  }
 ],
 "metadata": {
  "kernelspec": {
   "display_name": "Python 3 (ipykernel)",
   "language": "python",
   "name": "python3"
  },
  "language_info": {
   "codemirror_mode": {
    "name": "ipython",
    "version": 3
   },
   "file_extension": ".py",
   "mimetype": "text/x-python",
   "name": "python",
   "nbconvert_exporter": "python",
   "pygments_lexer": "ipython3",
   "version": "3.11.2"
  },
  "toc": {
   "base_numbering": 1,
   "nav_menu": {},
   "number_sections": true,
   "sideBar": true,
   "skip_h1_title": false,
   "title_cell": "Table of Contents",
   "title_sidebar": "Contents",
   "toc_cell": false,
   "toc_position": {},
   "toc_section_display": "block",
   "toc_window_display": false
  }
 },
 "nbformat": 4,
 "nbformat_minor": 2
}
